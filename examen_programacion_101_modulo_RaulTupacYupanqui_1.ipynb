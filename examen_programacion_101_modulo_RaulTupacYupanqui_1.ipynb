{
  "nbformat": 4,
  "nbformat_minor": 0,
  "metadata": {
    "colab": {
      "provenance": [],
      "include_colab_link": true
    },
    "kernelspec": {
      "name": "python3",
      "display_name": "Python 3"
    },
    "language_info": {
      "name": "python"
    }
  },
  "cells": [
    {
      "cell_type": "markdown",
      "metadata": {
        "id": "view-in-github",
        "colab_type": "text"
      },
      "source": [
        "<a href=\"https://colab.research.google.com/github/raultyv/Tareas/blob/main/examen_programacion_101_modulo_RaulTupacYupanqui_1.ipynb\" target=\"_parent\"><img src=\"https://colab.research.google.com/assets/colab-badge.svg\" alt=\"Open In Colab\"/></a>"
      ]
    },
    {
      "cell_type": "markdown",
      "source": [
        "<img src=\"https://posgrado.utec.edu.pe/sites/default/files/2023-08/Testimonial-home-2.jpg\" alt=\"HTML5 Icon\" width=\"900\" height=\"250\" >\n"
      ],
      "metadata": {
        "id": "ub41hbIV6UQ6"
      }
    },
    {
      "cell_type": "markdown",
      "source": [
        "#**Examen Programación 101 – Módulo 1**\n"
      ],
      "metadata": {
        "id": "zpZSxKDI51_7"
      }
    },
    {
      "cell_type": "markdown",
      "source": [
        "**Contexto**\n",
        "\n",
        "Estás colaborando en el diseño de un sistema básico de autenticación y validación de datos para una empresa tecnológica en expansión. El sistema debe realizar verificaciones fundamentales sobre usuarios, contraseñas, códigos de acceso e identificadores, utilizando únicamente estructuras condicionales y operaciones básicas, dado que el prototipo está pensado para funcionar en dispositivos con capacidad de cómputo muy limitada.\n",
        "\n",
        "Cada pregunta del examen representa uno de los desafíos que debes resolver en este sistema: desde validar un código, clasificar niveles de acceso, hasta verificar si una entrada cumple con múltiples criterios simultáneamente."
      ],
      "metadata": {
        "id": "qphDGB6eAe-K"
      }
    },
    {
      "cell_type": "markdown",
      "source": [
        "\n",
        "\n",
        "**Nombre y Apellido:** Raul Antonio Tupac Yupanqui velez\n",
        "\n",
        "---"
      ],
      "metadata": {
        "id": "_MYFZY5D97r5"
      }
    },
    {
      "cell_type": "markdown",
      "source": [
        "Duración: 45 minutos\n",
        "\n",
        "**Instrucciones**\n",
        "\n",
        "1. No está permitido el uso de funciones (def), bucles (for, while)\n",
        "\n",
        "2. Puedes utilizar:\n",
        "\n",
        "  * Asignación de variables\n",
        "  * Operadores aritméticos y lógicos\n",
        "  * Condicionales (if, elif, else)\n",
        "  * Funciones input() y print()\n",
        "\n",
        "3. Se evaluará no solo la respuesta correcta, sino también la claridad, buenas prácticas, uso correcto de tipos de datos y estructura lógica.\n",
        "\n",
        "---"
      ],
      "metadata": {
        "id": "VInsS6-u7MUH"
      }
    },
    {
      "cell_type": "markdown",
      "source": [
        "**Pregunta 1: Validación de Usuario**\n"
      ],
      "metadata": {
        "id": "xVGPY6H68IO_"
      }
    },
    {
      "cell_type": "markdown",
      "source": [
        "Escribe un programa que valide un usuario según estas reglas:\n",
        "\n",
        "* El usuario debe tener exactamente 5 caracteres.\n",
        "* El primer carácter debe ser mayúscula.\n",
        "* El último carácter debe ser un número.\n",
        "\n",
        "Imprime \"Usuario válido\" o \"Usuario inválido\" según corresponda."
      ],
      "metadata": {
        "id": "2mSAVboy8Q6m"
      }
    },
    {
      "cell_type": "code",
      "execution_count": 24,
      "metadata": {
        "id": "mOSniL8V5jR4",
        "outputId": "512bf179-346e-41d8-f87a-67d6045e4778",
        "colab": {
          "base_uri": "https://localhost:8080/"
        }
      },
      "outputs": [
        {
          "output_type": "stream",
          "name": "stdout",
          "text": [
            "Ingrese el usuario: Raul5\n",
            "Usuario válido\n"
          ]
        }
      ],
      "source": [
        "# Your code starts here\n",
        "# user_example: usuario = \"A12b4\"\n",
        "user=input(\"Ingrese el usuario: \") #enter your user name\n",
        "if len(user)==5: #first define if the length is correct ( 5 characters)\n",
        "  if user[0].isupper(): #check if the 1st character is capital letter\n",
        "    if user[-1].isdigit(): #check if the last character is a number\n",
        "      print(\"Usuario válido\") #return valid user\n",
        "    else:\n",
        "      print(\"Usuario inválido\") #return invalid user (last digit is not a number)\n",
        "  else:\n",
        "    print(\"Usuario inválido\") #return invalid user (first letter is not capital)\n",
        "else:\n",
        "    print(\"Usuario inválido\") #return invalid user (invalid length)\n",
        "\n",
        "\n",
        "\n",
        "\n",
        "# Your code ends here"
      ]
    },
    {
      "cell_type": "markdown",
      "source": [
        "**Pregunta 2: Nivel de Seguridad Numérico**\n",
        "\n",
        "Pide tres dígitos separados al usuario usando input(). Luego:\n",
        "\n",
        "* Imprime \"ALTO\" si los tres dígitos son diferentes.\n",
        "* Imprime \"MEDIO\" si solo dos son iguales.\n",
        "* Imprime \"BAJO\" si los tres son iguales."
      ],
      "metadata": {
        "id": "ZI1HrCRe8uU6"
      }
    },
    {
      "cell_type": "code",
      "source": [
        "# Your code starts here\n",
        "code=input(\"Ingrese sus 3 digitos consecutivos: \") #enter your 3 digits code\n",
        "if len(code) !=3: #check if the code has 3 digits\n",
        "  print(\"Codigo de 3 digitos invalido\") #stop the program\n",
        "else:\n",
        "  n1= int(code[0]) #define the first digit\n",
        "  n2= int(code[1]) #define the second digit\n",
        "  n3= int(code[2]) #define the third digit\n",
        "\n",
        "  if n1 != n2 and n1 != n3 and n2 != n3: #high level condition\n",
        "    print(\"ALTO\")\n",
        "  elif (n1 == n2 and n1 != n3) or (n1 == n3 and n1 != n2) or (n2 == n3 and n2 != n1): #medium level condition\n",
        "    print(\"MEDIO\")\n",
        "  elif n1 == n2 and n2 == n3: #low level condition\n",
        "    print(\"BAJO\")\n",
        "\n",
        "# Your code ends here"
      ],
      "metadata": {
        "id": "hEUnfNCK88lF",
        "outputId": "3a879c24-b93a-4366-da00-3ac45efeb4af",
        "colab": {
          "base_uri": "https://localhost:8080/"
        }
      },
      "execution_count": 35,
      "outputs": [
        {
          "output_type": "stream",
          "name": "stdout",
          "text": [
            "Ingrese sus 3 digitos consecutivos: 159\n",
            "ALTO\n"
          ]
        }
      ]
    },
    {
      "cell_type": "markdown",
      "source": [
        "**Pregunta 3: Código de Acceso**\n",
        "\n",
        "Pide al usuario ingresar un número entero de tres dígitos.\n",
        "Verifica si la suma de sus tres dígitos es exactamente 10:\n",
        "\n",
        "* Si lo es, imprime \"Código válido\".\n",
        "* Si no, imprime \"Código inválido\"."
      ],
      "metadata": {
        "id": "DaAUaft_9DMe"
      }
    },
    {
      "cell_type": "code",
      "source": [
        "# Your code starts here\n",
        "code=input(\"Ingrese su codigo de 3 digitos: \")  #enter your 3 digits code\n",
        "if len(code) == 3 and code.isdigit(): #check if the code has 3 digits and if it is a number\n",
        "  d1 = int(code[0]) #1st digit\n",
        "  d2 = int(code[1]) #2nd digit\n",
        "  d3 = int(code[2]) #3rd digit\n",
        "  if d1 + d2 + d3 == 10: #check main condition\n",
        "    print(\"Código válido\") #print result\n",
        "  else:\n",
        "    print(\"Código inválido\") #your code do not accomplish the main condition\n",
        "else:\n",
        "  print(\"Entrada inválida. Debe ingresar un número de tres dígitos.\") #if your code has more than 3 digits\n",
        "\n",
        "\n",
        "# Your code ends here"
      ],
      "metadata": {
        "id": "Xa15jei89HaU",
        "outputId": "c27bb2c8-7427-4d47-a8b2-d79733781805",
        "colab": {
          "base_uri": "https://localhost:8080/"
        }
      },
      "execution_count": 38,
      "outputs": [
        {
          "output_type": "stream",
          "name": "stdout",
          "text": [
            "Ingrese su codigo de 3 digitos: 622\n",
            "Código válido\n"
          ]
        }
      ]
    },
    {
      "cell_type": "markdown",
      "source": [
        "**Pregunta 4: Identificador de carácter**\n",
        "\n",
        "Pide al usuario un solo carácter y determina:\n",
        "\n",
        "* Si es vocal minúscula → \"Vocal minúscula\"\n",
        "* Si es vocal mayúscula → \"Vocal MAYÚSCULA\"\n",
        "* Si es número → \"Número\"\n",
        "* En cualquier otro caso → \"Símbolo especial\""
      ],
      "metadata": {
        "id": "zHCprzaP9fpB"
      }
    },
    {
      "cell_type": "code",
      "source": [
        "# Your code starts here\n",
        "char=input(\"Ingrese un caracter: \") #enter your character\n",
        "if len(char) == 1: #check if the character has only one character\n",
        "  if char in 'aeiou': #define first condition\n",
        "    print(\"Vocal minúscula\")\n",
        "  elif char in 'AEIOU': #define second condition\n",
        "    print(\"Vocal MAYÚSCULA\")\n",
        "  elif char.isdigit(): #define third condition\n",
        "    print(\"Número\")\n",
        "  else:\n",
        "    print(\"Símbolo especial\") #otherwise\n",
        "else:\n",
        "  print(\"Por favor, ingrese solo un carácter.\") #invalid input\n",
        "\n",
        "# Your code ends here"
      ],
      "metadata": {
        "id": "OvCpLVUT92uZ",
        "outputId": "070d3f7c-d80f-4404-d06b-f37052f7aceb",
        "colab": {
          "base_uri": "https://localhost:8080/"
        }
      },
      "execution_count": 41,
      "outputs": [
        {
          "output_type": "stream",
          "name": "stdout",
          "text": [
            "Ingrese un caracter: *\n",
            "Símbolo especial\n"
          ]
        }
      ]
    },
    {
      "cell_type": "markdown",
      "source": [
        "**Pregunta 5: Verificación cruzada de identidad**\n",
        "\n",
        "Un sistema de validación recibe los siguientes tres datos como entrada:\n",
        "\n",
        "\n",
        "1. Un código de 6 caracteres (ej. \"A1b2C3\")\n",
        "2. Un número de 3 cifras (ej. 528)\n",
        "3. Una letra (ej. \"b\")\n",
        "\n",
        "El programa debe:\n",
        "\n",
        "* Verificar si:\n",
        "\n",
        "  1. El primer carácter del código es una letra mayúscula,\n",
        "  2. El último carácter del código es un número,\n",
        "  3. La suma de los tres dígitos del número es par, y\n",
        "  4. La letra ingresada se encuentra dentro del código sin distinguir mayúsculas/minúsculas.\n",
        "\n",
        "* Si todas las condiciones se cumplen, imprimir: \"Identidad verificada\"\n",
        "\n",
        "* Si alguna no se cumple, imprimir: \"Acceso denegado\""
      ],
      "metadata": {
        "id": "FJyAxh0I-0N8"
      }
    },
    {
      "cell_type": "code",
      "source": [
        "# Your code starts here\n",
        "code=input(\"Ingrese su codigo de 6 caracteres: \") #1st input\n",
        "\n",
        "if len(code) == 6 and code[0].isupper(): #check 1st condition and length\n",
        "  if code[-1].isdigit():\n",
        "    num = input(\"Ingrese un número de 3 cifras : \") #2nd input (numeric code)\n",
        "    if len(num) == 3 and num.isdigit(): #check 2nd condition\n",
        "      suma_digitos = int(num[0]) + int(num[1]) + int(num[2]) #sum of digits\n",
        "      if suma_digitos % 2 == 0: #check 3rd condition\n",
        "        letra = input(\"Ingrese una letra (ej: b): \") #3rd input (letter)\n",
        "        if letra.lower() in code.lower(): #check 4th condition\n",
        "          print(\"Identidad verificada\") #accepted code\n",
        "        else:\n",
        "          print(\"Acceso denegado\") # Fail 4th check\n",
        "      else:\n",
        "        print(\"Acceso denegado\") # Fail 3rd check\n",
        "    else:\n",
        "      print(\"Acceso denegado\") # Invalid format\n",
        "  else:\n",
        "    print(\"Acceso denegado\") # Fail 2nd check\n",
        "else:\n",
        "  print(\"Acceso denegado\") # Fail 1st check\n",
        "\n",
        "\n",
        "\n",
        "# Your code ends here"
      ],
      "metadata": {
        "id": "Z16sSPRc_TDH",
        "outputId": "244a8a51-220c-409e-bc65-d71273545b0c",
        "colab": {
          "base_uri": "https://localhost:8080/"
        }
      },
      "execution_count": 47,
      "outputs": [
        {
          "output_type": "stream",
          "name": "stdout",
          "text": [
            "Ingrese su codigo de 6 caracteres: Raulx8\n",
            "Ingrese un número de 3 cifras : 158\n",
            "Ingrese una letra (ej: b): w\n",
            "Acceso denegado\n"
          ]
        }
      ]
    },
    {
      "cell_type": "markdown",
      "source": [
        "---\n",
        "\n",
        "### Gracias por completar este examen!\n",
        "\n",
        "---\n"
      ],
      "metadata": {
        "id": "vWNdqa91-NiX"
      }
    }
  ]
}