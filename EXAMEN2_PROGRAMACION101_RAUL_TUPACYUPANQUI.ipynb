{
  "nbformat": 4,
  "nbformat_minor": 0,
  "metadata": {
    "colab": {
      "provenance": [],
      "authorship_tag": "ABX9TyO34RRRS6bb9LC/X+uRagZS",
      "include_colab_link": true
    },
    "kernelspec": {
      "name": "python3",
      "display_name": "Python 3"
    },
    "language_info": {
      "name": "python"
    }
  },
  "cells": [
    {
      "cell_type": "markdown",
      "metadata": {
        "id": "view-in-github",
        "colab_type": "text"
      },
      "source": [
        "<a href=\"https://colab.research.google.com/github/raultyv/Tareas/blob/main/EXAMEN2_PROGRAMACION101_RAUL_TUPACYUPANQUI.ipynb\" target=\"_parent\"><img src=\"https://colab.research.google.com/assets/colab-badge.svg\" alt=\"Open In Colab\"/></a>"
      ]
    },
    {
      "cell_type": "code",
      "execution_count": 6,
      "metadata": {
        "colab": {
          "base_uri": "https://localhost:8080/"
        },
        "id": "RvPbmvDrt5Q3",
        "outputId": "338c99e0-cc92-44b8-ef3b-e22ebf7eaee3"
      },
      "outputs": [
        {
          "output_type": "stream",
          "name": "stdout",
          "text": [
            "Catálogo popular (Tupla original): ('Breaking Python', 'Data Science 101', 'Machine Love', 'Debug Wars')\n",
            "Catálogo convertido a lista: ['Breaking Python', 'Data Science 101', 'Machine Love', 'Debug Wars']\n",
            "Catálogo con nueva serie agregada: ['Breaking Python', 'Data Science 101', 'Machine Love', 'Debug Wars', 'Neural Networks']\n",
            "Catálogo con serie reemplazada: ['Breaking Python', 'Data Science 101', 'Machine Love', 'AI Rebellion', 'Neural Networks']\n",
            "Catálogo ordenado alfabéticamente: ['AI Rebellion', 'Breaking Python', 'Data Science 101', 'Machine Love', 'Neural Networks']\n"
          ]
        }
      ],
      "source": [
        "#1. Catálogo de contenido (Listas y tuplas)\n",
        "#Tienes una tupla inmutable con las series más vistas:\n",
        "\n",
        "#catalogo_popular = (\"Breaking Python\", \"Data Science 101\", \"Machine Love\", \"Debug Wars\")\n",
        "\n",
        "#Convierte esta tupla en una lista y realiza lo siguiente:\n",
        "#●\tAgrega una nueva serie: \"Neural Networks\"\n",
        "#●\tReemplaza \"Debug Wars\" por \"AI Rebellion\"\n",
        "#●\tOrdena la lista alfabéticamente\n",
        "\n",
        "#INICIO\n",
        "#Convierte esta tupla en una lista\n",
        "catalogo_popular = (\"Breaking Python\", \"Data Science 101\", \"Machine Love\", \"Debug Wars\")\n",
        "print(f\"Catálogo popular (Tupla original): {catalogo_popular}\")\n",
        "\n",
        "#Convierte esta tupla en una lista\n",
        "catalogo_lista = list(catalogo_popular)\n",
        "print(f\"Catálogo convertido a lista: {catalogo_lista}\")\n",
        "\n",
        "\n",
        "#Agrega una nueva serie: \"Neural Networks\"\n",
        "catalogo_lista.append(\"Neural Networks\")\n",
        "print(f\"Catálogo con nueva serie agregada: {catalogo_lista}\")\n",
        "\n",
        "#Reemplaza \"debug wars\" por \"AI rebelion\"\n",
        "indice = catalogo_lista.index(\"Debug Wars\")\n",
        "catalogo_lista[indice] = \"AI Rebellion\"\n",
        "print(f\"Catálogo con serie reemplazada: {catalogo_lista}\")\n",
        "\n",
        "#ordena la lista alfabeticamente\n",
        "catalogo_lista.sort()\n",
        "print(f\"Catálogo ordenado alfabéticamente: {catalogo_lista}\")\n",
        "#FIN\n"
      ]
    },
    {
      "cell_type": "code",
      "source": [
        "#2. Filtrado de géneros (Slicing)\n",
        "#Tienes una lista con los géneros disponibles:\n",
        "#generos = [\"Drama\", \"Comedia\", \"Acción\", \"Sci-Fi\", \"Documental\", \"Terror\", \"Romance\"]\n",
        "#Realiza:\n",
        "#●\tUn slicing que obtenga los géneros del medio\n",
        "#●\tUn slicing que obtenga los tres primeros géneros\n",
        "#●\tLos géneros ordenados en orden inverso (usando slicing)\n",
        "\n",
        "#INICIO\n",
        "generos = [\"Drama\", \"Comedia\", \"Acción\", \"Sci-Fi\", \"Documental\", \"Terror\", \"Romance\"]\n",
        "print(f\"Géneros originales: {generos}\")\n",
        "\n",
        "#Slicing para generos del medio\n",
        "generos_medio = generos[2:-2]\n",
        "print(f\"Géneros del medio: {generos_medio}\")\n",
        "\n",
        "#slicing para los 3 primeros generos\n",
        "primeros_tres_generos = generos[:3]\n",
        "print(f\"Los tres primeros géneros: {primeros_tres_generos}\")\n",
        "\n",
        "#generos ordenados en orden inverso\n",
        "generos_inverso = generos[::-1]\n",
        "print(f\"Géneros en orden inverso: {generos_inverso}\")\n",
        "#FIN"
      ],
      "metadata": {
        "colab": {
          "base_uri": "https://localhost:8080/"
        },
        "id": "F7ML0DX1vjT6",
        "outputId": "f9d5b8c9-0c41-4e0f-9cb7-71d3eee106ed"
      },
      "execution_count": 11,
      "outputs": [
        {
          "output_type": "stream",
          "name": "stdout",
          "text": [
            "Géneros originales: ['Drama', 'Comedia', 'Acción', 'Sci-Fi', 'Documental', 'Terror', 'Romance']\n",
            "Géneros del medio: ['Acción', 'Sci-Fi', 'Documental']\n",
            "Los tres primeros géneros: ['Drama', 'Comedia', 'Acción']\n",
            "Géneros en orden inverso: ['Romance', 'Terror', 'Documental', 'Sci-Fi', 'Acción', 'Comedia', 'Drama']\n"
          ]
        }
      ]
    },
    {
      "cell_type": "code",
      "source": [
        "#3. Puntajes de usuarios (Listas por comprensión)\n",
        "#Tienes una lista de ratings otorgados por un usuario a distintas series:\n",
        "#ratings = [4.5, 3.0, 5.0, 2.5, 4.0, 1.5]\n",
        "#Con listas por comprensión, crea:\n",
        "#●\tUna lista con solo los ratings mayores a 3.5\n",
        "#●\tUna lista con los ratings convertidos a una escala del 1 al 100\n",
        "#●\tUna lista de strings que diga \"Alta\" si rating > 4, \"Media\" si entre 3 y 4, \"Baja\" si menor\n",
        "\n",
        "#INICIO\n",
        "ratings = [4.5, 3.0, 5.0, 2.5, 4.0, 1.5]\n",
        "print(f\"Ratings originales: {ratings}\")\n",
        "\n",
        "#ratings mayores a 3.5\n",
        "ratings_altos = [rating for rating in ratings if rating > 3.5]\n",
        "print(f\"Ratings mayores a 3.5: {ratings_altos}\")\n",
        "\n",
        "#ratings en escala del 100 al 1\n",
        "ratings_escala_100 = [int((rating / 5.0) * 100) for rating in ratings] #cambiando de escala\n",
        "print(f\"Ratings en escala 1-100: {ratings_escala_100}\")\n",
        "\n",
        "#clasificacion de ratings en alta, media y baja segun su rating\n",
        "niveles_ratings = [\n",
        "    \"Alta\" if rating > 4 else (\"Media\" if rating >= 3 and rating <= 4 else \"Baja\")\n",
        "    for rating in ratings\n",
        "]\n",
        "print(f\"Niveles de ratings: {niveles_ratings}\")\n",
        "#FIN\n"
      ],
      "metadata": {
        "colab": {
          "base_uri": "https://localhost:8080/"
        },
        "id": "CKJ8H_sRwYEp",
        "outputId": "7dc5fe22-c629-470a-b06a-06f1bb6dbdf1"
      },
      "execution_count": 15,
      "outputs": [
        {
          "output_type": "stream",
          "name": "stdout",
          "text": [
            "Ratings originales: [4.5, 3.0, 5.0, 2.5, 4.0, 1.5]\n",
            "Ratings mayores a 3.5: [4.5, 5.0, 4.0]\n",
            "Ratings en escala 1-100: [90, 60, 100, 50, 80, 30]\n",
            "Niveles de ratings: ['Alta', 'Media', 'Alta', 'Baja', 'Media', 'Baja']\n"
          ]
        }
      ]
    },
    {
      "cell_type": "code",
      "source": [
        "#4. Historial de visualización (Diccionarios)\n",
        "#Tienes un diccionario que representa el historial de un usuario:\n",
        "#historial = {\n",
        "#  \"Breaking Python\": 3,\n",
        "#  \"Machine Love\": 5,\n",
        "#  \"Data Science 101\": 2\n",
        "#}\n",
        "\n",
        "#Realiza lo siguiente:\n",
        "#●\tAumenta en 1 la cantidad de veces que vio \"Data Science 101\"\n",
        "#●\tAñade la serie \"AI Rebellion\" con 1 visualización\n",
        "#●\tElimina \"Machine Love\" del historial\n",
        "#●\tMuestra todas las series que el usuario vio más de 2 veces\n",
        "\n",
        "#INICIO\n",
        "historial = {\n",
        "    \"Breaking Python\": 3,\n",
        "    \"Machine Love\": 5,\n",
        "    \"Data Science 101\": 2\n",
        "}\n",
        "\n",
        "print(f\"Historial inicial: {historial}\")\n",
        "\n",
        "#Aumenta en 1 la cantidad de veces que se vio data \"science 101\"\n",
        "historial[\"Data Science 101\"] += 1\n",
        "print(f\"Historial después de aumentar 'Data Science 101': {historial}\")\n",
        "\n",
        "#añadir la serie \"AI Rebelion\" con 1 de visualizacion\n",
        "historial[\"AI Rebellion\"] = 1\n",
        "print(f\"Historial después de añadir 'AI Rebellion': {historial}\")\n",
        "\n",
        "#elimina \"machine love\" del historial\n",
        "del historial[\"Machine Love\"]\n",
        "print(f\"Historial después de eliminar 'Machine Love': {historial}\")\n",
        "\n",
        "#nmostrar todas la series que el usuario vio mas de 2 veces\n",
        "print(\"\\nSeries vistas más de 2 veces:\")\n",
        "for serie, vistas in historial.items():\n",
        "    if vistas > 2:\n",
        "        print(f\"- {serie}: {vistas} veces\")\n",
        "\n",
        "#FIN"
      ],
      "metadata": {
        "colab": {
          "base_uri": "https://localhost:8080/"
        },
        "id": "8sQ0iAPswbww",
        "outputId": "e8149bad-43a5-43c5-8758-c43db435ef30"
      },
      "execution_count": 20,
      "outputs": [
        {
          "output_type": "stream",
          "name": "stdout",
          "text": [
            "Historial inicial: {'Breaking Python': 3, 'Machine Love': 5, 'Data Science 101': 2}\n",
            "Historial después de aumentar 'Data Science 101': {'Breaking Python': 3, 'Machine Love': 5, 'Data Science 101': 3}\n",
            "Historial después de añadir 'AI Rebellion': {'Breaking Python': 3, 'Machine Love': 5, 'Data Science 101': 3, 'AI Rebellion': 1}\n",
            "Historial después de eliminar 'Machine Love': {'Breaking Python': 3, 'Data Science 101': 3, 'AI Rebellion': 1}\n",
            "\n",
            "Series vistas más de 2 veces:\n",
            "- Breaking Python: 3 veces\n",
            "- Data Science 101: 3 veces\n"
          ]
        }
      ]
    },
    {
      "cell_type": "code",
      "source": [
        "#5. Usuarios únicos por serie (Sets)\n",
        "#Tienes la siguiente información:\n",
        "#usuarios_serie_A = {\"ana\", \"luis\", \"pedro\", \"maria\"}\n",
        "#usuarios_serie_B = {\"maria\", \"pedro\", \"carla\", \"lucas\"}\n",
        "#Usando sets:\n",
        "#●\tEncuentra qué usuarios vieron ambas series\n",
        "#●\tQué usuarios vieron solo la serie A\n",
        "#●\tQué usuarios únicos vieron al menos una de las dos\n",
        "\n",
        "#INICIO\n",
        "usuarios_serie_A = {\"ana\", \"luis\", \"pedro\", \"maria\"}\n",
        "usuarios_serie_B = {\"maria\", \"pedro\", \"carla\", \"lucas\"}\n",
        "\n",
        "print(f\"Usuarios Serie A: {usuarios_serie_A}\")\n",
        "print(f\"Usuarios Serie B: {usuarios_serie_B}\")\n",
        "\n",
        "#usuarios que vieron ambas series\n",
        "usuarios_ambas_series = usuarios_serie_A & usuarios_serie_B\n",
        "print(f\"Usuarios que vieron ambas series: {usuarios_ambas_series}\")\n",
        "\n",
        "#usuarios que vieron solo la serie A\n",
        "usuarios_solo_serie_A = usuarios_serie_A - usuarios_serie_B\n",
        "print(f\"Usuarios que vieron solo la serie A: {usuarios_solo_serie_A}\")\n",
        "\n",
        "#usuarios unicos que vieron al menos una de las dos series\n",
        "usuarios_al_menos_una = usuarios_serie_A | usuarios_serie_B\n",
        "print(f\"Usuarios únicos que vieron al menos una de las dos: {usuarios_al_menos_una}\")\n",
        "\n",
        "#FIN\n"
      ],
      "metadata": {
        "colab": {
          "base_uri": "https://localhost:8080/"
        },
        "id": "zQUtlVjTxSNY",
        "outputId": "fefd1847-0b77-4da7-e556-0c3350c9e538"
      },
      "execution_count": 24,
      "outputs": [
        {
          "output_type": "stream",
          "name": "stdout",
          "text": [
            "Usuarios Serie A: {'maria', 'pedro', 'luis', 'ana'}\n",
            "Usuarios Serie B: {'carla', 'maria', 'pedro', 'lucas'}\n",
            "Usuarios que vieron ambas series: {'maria', 'pedro'}\n",
            "Usuarios que vieron solo la serie A: {'ana', 'luis'}\n",
            "Usuarios únicos que vieron al menos una de las dos: {'lucas', 'luis', 'maria', 'pedro', 'carla', 'ana'}\n"
          ]
        }
      ]
    },
    {
      "cell_type": "code",
      "source": [
        "#6. Recomendaciones compartidas (Diccionario + Sets)\n",
        "#Tienes una estructura con recomendaciones por usuario:\n",
        "#recomendaciones = {\n",
        "#  \"ana\": {\"Machine Love\", \"AI Rebellion\"},\n",
        "#  \"luis\": {\"AI Rebellion\", \"Debug Wars\"},\n",
        "#  \"pedro\": {\"Debug Wars\", \"Machine Love\"}\n",
        "#}\n",
        "#Encuentra con código:\n",
        "#●\tLas series que fueron recomendadas a todos\n",
        "#●\tLas series recomendadas a al menos dos personas\n",
        "#●\tLas series recomendadas solo a una persona\n",
        "\n",
        "#INICIO\n",
        "recomendaciones = {\n",
        "    \"ana\": {\"Machine Love\", \"AI Rebellion\"},\n",
        "    \"luis\": {\"AI Rebellion\", \"Debug Wars\"},\n",
        "    \"pedro\": {\"Debug Wars\", \"Machine Love\"}\n",
        "}\n",
        "\n",
        "print(f\"Recomendaciones iniciales: {recomendaciones}\")\n",
        "\n",
        "#series recomendadas por todos\n",
        "todos_los_sets_de_recomendaciones = list(recomendaciones.values())\n",
        "series_a_todos = set() # Inicializamos un set vacío\n",
        "\n",
        "if todos_los_sets_de_recomendaciones: # Solo si hay recomendaciones para procesar\n",
        "    # Empezamos con una copia del primer set para la intersección\n",
        "    series_a_todos = todos_los_sets_de_recomendaciones[0].copy()\n",
        "\n",
        "    # Iteramos desde el segundo set en adelante\n",
        "    for i in range(1, len(todos_los_sets_de_recomendaciones)):\n",
        "        series_a_todos.intersection_update(todos_los_sets_de_recomendaciones[i])\n",
        "        # Si en algún punto se queda vacío, ya no hay intersección para todos\n",
        "        if not series_a_todos:\n",
        "            break # No tiene sentido seguir, ya no hay series en común a todos\n",
        "\n",
        "print(f\"\\nSeries recomendadas a todos: {series_a_todos}\")\n",
        "\n",
        "conteo_series = {}\n",
        "for series_set in recomendaciones.values():\n",
        "    for serie in series_set:\n",
        "        conteo_series[serie] = conteo_series.get(serie, 0) + 1\n",
        "\n",
        "# Usamos comprensiones de set para filtrar los resultados del conteo\n",
        "series_al_menos_dos = {serie for serie, conteo in conteo_series.items() if conteo >= 2}\n",
        "series_solo_una = {serie for serie, conteo in conteo_series.items() if conteo == 1}\n",
        "\n",
        "print(f\"Series recomendadas a al menos dos personas: {series_al_menos_dos}\")\n",
        "print(f\"Series recomendadas solo a una persona: {series_solo_una}\")\n",
        "\n",
        "#FIN"
      ],
      "metadata": {
        "colab": {
          "base_uri": "https://localhost:8080/"
        },
        "id": "LvRi94W-zuJs",
        "outputId": "e133ce7d-ec7b-4cc3-e89b-c5eb996aac98"
      },
      "execution_count": 30,
      "outputs": [
        {
          "output_type": "stream",
          "name": "stdout",
          "text": [
            "Recomendaciones iniciales: {'ana': {'Machine Love', 'AI Rebellion'}, 'luis': {'Debug Wars', 'AI Rebellion'}, 'pedro': {'Debug Wars', 'Machine Love'}}\n",
            "\n",
            "Series recomendadas a todos: set()\n",
            "Series recomendadas a al menos dos personas: {'Debug Wars', 'Machine Love', 'AI Rebellion'}\n",
            "Series recomendadas solo a una persona: set()\n"
          ]
        }
      ]
    },
    {
      "cell_type": "code",
      "source": [
        "#7. Transformar ratings (Tuplas + comprensión de diccionario)\n",
        "#Tienes una lista de tuplas con (serie, rating):\n",
        "#puntuaciones = [(\"Breaking Python\", 4.0), (\"AI Rebellion\", 5.0), (\"Debug Wars\", 2.0)]\n",
        "#Crea un diccionario en el formato:\n",
        "#{\n",
        "#  \"Breaking Python\": \"Buena\",\n",
        "#  \"AI Rebellion\": \"Excelente\",\n",
        "#  \"Debug Wars\": \"Regular\"\n",
        "#}\n",
        "#Regla:\n",
        "#●\tRating >= 4.5 → \"Excelente\"\n",
        "#●\t3 <= rating < 4.5 → \"Buena\"\n",
        "#●\t< 3 → \"Regular\"\n",
        "\n",
        "#INICIO\n",
        "puntuaciones = [(\"Breaking Python\", 4.0), (\"AI Rebellion\", 5.0), (\"Debug Wars\", 2.0)]\n",
        "print(f\"Puntuaciones originales (Lista de tuplas): {puntuaciones}\")\n",
        "#Crea diccionario transformado usando la regla de puntuacion de ratings\n",
        "ratings_transformados = {\n",
        "    serie: (\n",
        "        \"Excelente\" if rating >= 4.5 else\n",
        "        \"Buena\" if 3 <= rating < 4.5 else\n",
        "        \"Regular\"\n",
        "    )\n",
        "    for serie, rating in puntuaciones\n",
        "}\n",
        "\n",
        "print(f\"\\nRatings transformados (Diccionario): {ratings_transformados}\")\n",
        "\n",
        "#FIN\n"
      ],
      "metadata": {
        "colab": {
          "base_uri": "https://localhost:8080/"
        },
        "id": "Q6-vceh91cJc",
        "outputId": "156d6026-d5cd-46bb-9929-142ec3c366ee"
      },
      "execution_count": 32,
      "outputs": [
        {
          "output_type": "stream",
          "name": "stdout",
          "text": [
            "Puntuaciones originales (Lista de tuplas): [('Breaking Python', 4.0), ('AI Rebellion', 5.0), ('Debug Wars', 2.0)]\n",
            "\n",
            "Ratings transformados (Diccionario): {'Breaking Python': 'Buena', 'AI Rebellion': 'Excelente', 'Debug Wars': 'Regular'}\n"
          ]
        }
      ]
    },
    {
      "cell_type": "code",
      "source": [
        "#8. Usuarios y géneros favoritos (Diccionario + slicing)\n",
        "#Cada usuario tiene una lista de sus géneros preferidos (ordenados por preferencia):\n",
        "#gustos = {\n",
        "#  \"ana\": [\"Sci-Fi\", \"Drama\", \"Documental\"],\n",
        "#  \"luis\": [\"Comedia\", \"Acción\", \"Sci-Fi\"],\n",
        "#  \"pedro\": [\"Drama\", \"Sci-Fi\", \"Romance\"]\n",
        "#}\n",
        "#Realiza:\n",
        "#●\tUna lista con el primer género favorito de cada usuario\n",
        "#●\tUna lista con todos los géneros mencionados sin repeticiones\n",
        "#●\t¿Cuál género aparece más veces en la primera posición?\n",
        "\n",
        "#INICIO\n",
        "gustos = {\n",
        "    \"ana\": [\"Sci-Fi\", \"Drama\", \"Documental\"],\n",
        "    \"luis\": [\"Comedia\", \"Acción\", \"Sci-Fi\"],\n",
        "    \"pedro\": [\"Drama\", \"Sci-Fi\", \"Romance\"]\n",
        "}\n",
        "\n",
        "print(f\"Gustos iniciales: {gustos}\")\n",
        "\n",
        "#Lista con el primer genero favorito de cada usuario\n",
        "primeros_generos_slicing = [generos_lista[:1][0] for generos_lista in gustos.values()]\n",
        "print(f\"\\nPrimer género favorito de cada usuario: {primeros_generos}\")\n",
        "\n",
        "#lista con todos los generos sin repeticion\n",
        "todos_los_generos_concatenados = [genero for generos_lista in gustos.values() for genero in generos_lista]\n",
        "lista_generos_sin_repeticiones = list(set(todos_los_generos_concatenados))\n",
        "lista_generos_sin_repeticiones.sort() #orden alfabetico\n",
        "print(f\"Todos los géneros mencionados sin repeticiones: {lista_generos_sin_repeticiones}\")\n",
        "\n",
        "#genero que aparece mas veces en la primera posicion\n",
        "conteo_primeros_generos = {}\n",
        "for genero in primeros_generos:\n",
        "    conteo_primeros_generos[genero] = conteo_primeros_generos.get(genero, 0) + 1\n",
        "\n",
        "if conteo_primeros_generos:\n",
        "    max_conteo = max(conteo_primeros_generos.values())     # Encuentra el valor máximo de conteo\n",
        "    generos_mas_populares = [ # Crea una lista de todos los géneros que tienen ese conteo máximo\n",
        "        genero for genero, conteo in conteo_primeros_generos.items() if conteo == max_conteo\n",
        "    ]\n",
        "\n",
        "    print(f\"Género(s) más veces en primera posición: {generos_mas_populares} (aparecen {max_conteo} veces)\")\n",
        "else:\n",
        "    print(\"No hay géneros en primera posición para analizar.\")\n",
        "\n",
        "#FIN"
      ],
      "metadata": {
        "colab": {
          "base_uri": "https://localhost:8080/"
        },
        "id": "ASZBtqcb2JSH",
        "outputId": "12d4d024-2912-4a52-cac2-c47bd1192af6"
      },
      "execution_count": 41,
      "outputs": [
        {
          "output_type": "stream",
          "name": "stdout",
          "text": [
            "Gustos iniciales: {'ana': ['Sci-Fi', 'Drama', 'Documental'], 'luis': ['Comedia', 'Acción', 'Sci-Fi'], 'pedro': ['Drama', 'Sci-Fi', 'Romance']}\n",
            "\n",
            "Primer género favorito de cada usuario: ['Sci-Fi', 'Comedia', 'Drama']\n",
            "Todos los géneros mencionados sin repeticiones: ['Acción', 'Comedia', 'Documental', 'Drama', 'Romance', 'Sci-Fi']\n",
            "Género(s) más veces en primera posición: ['Sci-Fi', 'Comedia', 'Drama'] (aparecen 1 veces)\n"
          ]
        }
      ]
    },
    {
      "cell_type": "code",
      "source": [
        "#9. Resumen de votos por serie (Diccionario + listas)\n",
        "#Tienes una lista de votos como pares (serie, puntaje):\n",
        "#votos = [(\"Breaking Python\", 5), (\"AI Rebellion\", 4), (\"Breaking Python\", 4), (\"Debug Wars\", 3), (\"AI Rebellion\", 5)]\n",
        "#Crea un diccionario donde la clave sea la serie y el valor una lista con todos sus votos. Ejemplo:\n",
        "#{\n",
        "#  \"Breaking Python\": [5, 4],\n",
        "#  ...\n",
        "#}\n",
        "#Luego, calcula el promedio de rating de cada serie.\n",
        "\n",
        "#INICIO\n",
        "votos = [(\"Breaking Python\", 5), (\"AI Rebellion\", 4), (\"Breaking Python\", 4), (\"Debug Wars\", 3), (\"AI Rebellion\", 5)]\n",
        "print(f\"Votos originales: {votos}\")\n",
        "\n",
        "resumen_votos_por_serie = {}\n",
        "for serie, puntaje in votos:\n",
        "     resumen_votos_por_serie.setdefault(serie, []).append(puntaje)\n",
        "\n",
        "print(f\"\\nResumen de votos por serie: {resumen_votos_por_serie}\")\n",
        "\n",
        "#promedio de rating\n",
        "promedio_ratings_por_serie = {}\n",
        "\n",
        "for serie, lista_puntajes in resumen_votos_por_serie.items():\n",
        "    promedio = sum(lista_puntajes) / len(lista_puntajes) # Calcula la suma de los puntajes y la divide por la cantidad de puntajes\n",
        "    promedio_ratings_por_serie[serie] = promedio\n",
        "\n",
        "print(f\"Promedio de rating por serie: {promedio_ratings_por_serie}\")\n",
        "\n",
        "#FIN"
      ],
      "metadata": {
        "colab": {
          "base_uri": "https://localhost:8080/"
        },
        "id": "lKCahxmN5fMW",
        "outputId": "05dfe849-8380-4864-85bf-d979ff61052b"
      },
      "execution_count": 44,
      "outputs": [
        {
          "output_type": "stream",
          "name": "stdout",
          "text": [
            "Votos originales: [('Breaking Python', 5), ('AI Rebellion', 4), ('Breaking Python', 4), ('Debug Wars', 3), ('AI Rebellion', 5)]\n",
            "\n",
            "Resumen de votos por serie: {'Breaking Python': [5, 4], 'AI Rebellion': [4, 5], 'Debug Wars': [3]}\n",
            "Promedio de rating por serie: {'Breaking Python': 4.5, 'AI Rebellion': 4.5, 'Debug Wars': 3.0}\n"
          ]
        }
      ]
    },
    {
      "cell_type": "code",
      "source": [
        "#10. Motor básico de recomendaciones (Integrador)\n",
        "#Define una función recomendar_series(usuario, historial, catalogo) que:\n",
        "#●\tReciba el nombre de usuario, su historial en forma de diccionario {serie: vistas} y un catálogo con todas las series disponibles.\n",
        "#●\tDevuelva una lista de series del catálogo que no haya visto aún.\n",
        "#Ejemplo:\n",
        "#usuario = \"ana\"\n",
        "#historial = {\"AI Rebellion\": 3, \"Debug Wars\": 1}\n",
        "#catalogo = [\"AI Rebellion\", \"Debug Wars\", \"Machine Love\", \"Data Science 101\"]\n",
        "#Resultado:\n",
        "#[\"Machine Love\", \"Data Science 101\"]\n",
        "\n",
        "#INICIO\n",
        "def recomendar_series(usuario, historial, catalogo):\n",
        "#    Args:\n",
        "#        usuario (str): El nombre del usuario. (Aunque no se usa directamente en el cálculo, es parte de la firma).\n",
        "#        historial (dict): Diccionario con series vistas y su conteo (ej. {\"Serie A\": 3}).\n",
        "#        catalogo (list): Lista de todas las series disponibles.\n",
        "#    Returns:\n",
        "#        list: Una lista de series que el usuario no ha visto.\n",
        "  series_vistas = set(historial.keys())\n",
        "  series_no_vistas = [serie for serie in catalogo if serie not in series_vistas]\n",
        "\n",
        "  return series_no_vistas\n",
        "\n",
        "#ejemplo de la funcion\n",
        "usuario1 = \"ana\"\n",
        "historial1 = {\"AI Rebellion\": 3, \"Debug Wars\": 1}\n",
        "catalogo1 = [\"AI Rebellion\", \"Debug Wars\", \"Machine Love\", \"Data Science 101\"]\n",
        "\n",
        "print(f\"Usuario: {usuario1}\")\n",
        "print(f\"Historial: {historial1}\")\n",
        "print(f\"Catálogo: {catalogo1}\")\n",
        "recomendaciones1 = recomendar_series(usuario1, historial1, catalogo1)\n",
        "print(f\"Series recomendadas (no vistas): {recomendaciones1}\")\n",
        "\n",
        "#FIN"
      ],
      "metadata": {
        "colab": {
          "base_uri": "https://localhost:8080/"
        },
        "id": "Toz3OBFx6P1d",
        "outputId": "d53d2674-d72c-474a-c856-74a59fed3062"
      },
      "execution_count": 45,
      "outputs": [
        {
          "output_type": "stream",
          "name": "stdout",
          "text": [
            "Usuario: ana\n",
            "Historial: {'AI Rebellion': 3, 'Debug Wars': 1}\n",
            "Catálogo: ['AI Rebellion', 'Debug Wars', 'Machine Love', 'Data Science 101']\n",
            "Series recomendadas (no vistas): ['Machine Love', 'Data Science 101']\n"
          ]
        }
      ]
    }
  ]
}