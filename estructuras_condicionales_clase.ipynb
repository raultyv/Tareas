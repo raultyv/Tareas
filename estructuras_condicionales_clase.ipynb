{
  "nbformat": 4,
  "nbformat_minor": 0,
  "metadata": {
    "colab": {
      "provenance": [],
      "include_colab_link": true
    },
    "kernelspec": {
      "name": "python3",
      "display_name": "Python 3"
    },
    "language_info": {
      "name": "python"
    }
  },
  "cells": [
    {
      "cell_type": "markdown",
      "metadata": {
        "id": "view-in-github",
        "colab_type": "text"
      },
      "source": [
        "<a href=\"https://colab.research.google.com/github/raultyv/Tareas/blob/main/estructuras_condicionales_clase.ipynb\" target=\"_parent\"><img src=\"https://colab.research.google.com/assets/colab-badge.svg\" alt=\"Open In Colab\"/></a>"
      ]
    },
    {
      "cell_type": "markdown",
      "source": [
        "<img src=\"https://posgrado.utec.edu.pe/sites/default/files/2023-08/Testimonial-home-2.jpg\" alt=\"HTML5 Icon\" width=\"900\" height=\"250\" >\n"
      ],
      "metadata": {
        "id": "v3JGreO5zErE"
      }
    },
    {
      "cell_type": "markdown",
      "source": [
        "# **Estructuras Condicionales**"
      ],
      "metadata": {
        "id": "A9PFo41IzIqt"
      }
    },
    {
      "cell_type": "markdown",
      "source": [
        "---\n",
        "\n",
        "**Objetivo**\n",
        "\n",
        "- Comprender y aplicar pruebas condicionales usando comparaciones y operadores lógicos.\n",
        "- Utilizar sentencias `if`, `if-else` y `if-elif-else` para controlar el flujo de un programa.\n",
        "- Evaluar condiciones simples, múltiples y compuestas, incluyendo la pertenencia a listas.\n",
        "\n",
        "\n"
      ],
      "metadata": {
        "id": "DVXsQR7LzUZt"
      }
    },
    {
      "cell_type": "markdown",
      "source": [
        "---\n",
        "\n",
        "**Contenido**\n",
        "\n",
        "- 1. Pruebas Condicionales\n",
        "  - Igualdad y desigualdad\n",
        "  - Comparaciones numéricas\n",
        "  - Mayúsculas/minúsculas\n",
        "  - Condiciones múltiples y booleanos\n",
        "  - Verificación en listas\n",
        "- 2. Sentencias IF\n",
        "  - If simple\n",
        "  - If-else\n",
        "  - If-elif-else\n",
        "  - If sin else\n",
        "  - Múltiples if independientes\n",
        "\n",
        "  ---"
      ],
      "metadata": {
        "id": "Imzierfsz88s"
      }
    },
    {
      "cell_type": "markdown",
      "source": [
        "## 1. Pruebas Condicionales\n"
      ],
      "metadata": {
        "id": "lXLgRjAB0HX5"
      }
    },
    {
      "cell_type": "markdown",
      "source": [
        "### 1.1 Comprobar la igualdad\n"
      ],
      "metadata": {
        "id": "cnslePwn0L1e"
      }
    },
    {
      "cell_type": "markdown",
      "source": [
        "Las condiciones permiten verificar si dos valores son exactamente iguales usando `==`. Esta operación es fundamental para evaluar decisiones básicas en programas interactivos.\n"
      ],
      "metadata": {
        "id": "h6BAkjWN0NTh"
      }
    },
    {
      "cell_type": "markdown",
      "source": [
        "**Ejemplo**"
      ],
      "metadata": {
        "id": "HpNwudoq0RcY"
      }
    },
    {
      "cell_type": "code",
      "execution_count": null,
      "metadata": {
        "id": "EugCWlpFzDDJ"
      },
      "outputs": [],
      "source": [
        "color = 'rojo'"
      ]
    },
    {
      "cell_type": "code",
      "source": [
        "print(color == 'rojo')  # True"
      ],
      "metadata": {
        "id": "dkWed9JC0WnE",
        "colab": {
          "base_uri": "https://localhost:8080/"
        },
        "outputId": "8bb56a6d-1381-430d-ff32-fa66ce1ebc3f"
      },
      "execution_count": null,
      "outputs": [
        {
          "output_type": "stream",
          "name": "stdout",
          "text": [
            "True\n"
          ]
        }
      ]
    },
    {
      "cell_type": "code",
      "source": [
        "print(color == 'verde')  # False"
      ],
      "metadata": {
        "id": "BC1BC9q60V3z",
        "colab": {
          "base_uri": "https://localhost:8080/"
        },
        "outputId": "4db863d1-5e2a-48a2-ca97-729974e96328"
      },
      "execution_count": null,
      "outputs": [
        {
          "output_type": "stream",
          "name": "stdout",
          "text": [
            "False\n"
          ]
        }
      ]
    },
    {
      "cell_type": "markdown",
      "source": [
        "**Ejercicio 1.1**\n",
        "\n",
        "Declara una variable con tu comida favorita y verifica si es igual a 'pizza'. Imprime un mensaje según el resultado.\n"
      ],
      "metadata": {
        "id": "no3xYmgP0ZdP"
      }
    },
    {
      "cell_type": "code",
      "source": [],
      "metadata": {
        "id": "gkNmow3a0f1W"
      },
      "execution_count": null,
      "outputs": []
    },
    {
      "cell_type": "markdown",
      "source": [
        "### 1.2 Mayúsculas y minúsculas en igualdad\n",
        "\n"
      ],
      "metadata": {
        "id": "FffdvjBt0gS6"
      }
    },
    {
      "cell_type": "markdown",
      "source": [
        "Las cadenas en Python son sensibles a mayúsculas. Para hacer comparaciones insensibles al formato, se puede usar `.lower()` o `.upper()`."
      ],
      "metadata": {
        "id": "BmNqgS540mKz"
      }
    },
    {
      "cell_type": "markdown",
      "source": [
        "**Ejemplo**"
      ],
      "metadata": {
        "id": "DmA3GcBH0vtS"
      }
    },
    {
      "cell_type": "code",
      "source": [
        "animal = 'Gato'"
      ],
      "metadata": {
        "id": "38Q7H1Eo0s8X"
      },
      "execution_count": null,
      "outputs": []
    },
    {
      "cell_type": "code",
      "source": [
        "print(animal == 'gato')        # False"
      ],
      "metadata": {
        "id": "H6ILyOQD0yRV",
        "colab": {
          "base_uri": "https://localhost:8080/"
        },
        "outputId": "ec8f2a63-58f2-4ee0-c67c-19d0d3e3370b"
      },
      "execution_count": null,
      "outputs": [
        {
          "output_type": "stream",
          "name": "stdout",
          "text": [
            "False\n"
          ]
        }
      ]
    },
    {
      "cell_type": "code",
      "source": [
        "print(animal.lower() == 'gato')  # True"
      ],
      "metadata": {
        "id": "-0cnvpPB0zB6",
        "colab": {
          "base_uri": "https://localhost:8080/"
        },
        "outputId": "51e4a7d1-f44c-4f4a-9982-24f64381273f"
      },
      "execution_count": null,
      "outputs": [
        {
          "output_type": "stream",
          "name": "stdout",
          "text": [
            "True\n"
          ]
        }
      ]
    },
    {
      "cell_type": "markdown",
      "source": [
        "**Ejercicio 1.2**\n",
        "\n",
        "Pide al usuario su ciudad favorita y comprueba si es igual a 'lima', ignorando mayúsculas.\n"
      ],
      "metadata": {
        "id": "PmxEydgl02Uk"
      }
    },
    {
      "cell_type": "code",
      "source": [],
      "metadata": {
        "id": "V9iqcPyD0-d9"
      },
      "execution_count": null,
      "outputs": []
    },
    {
      "cell_type": "markdown",
      "source": [
        "### 1.3 Desigualdad\n",
        "\n",
        "El operador `!=` permite comprobar si dos valores son distintos. Es útil cuando queremos ejecutar una acción solo si algo **no** ocurre.\n"
      ],
      "metadata": {
        "id": "UNuwlNiC1BHb"
      }
    },
    {
      "cell_type": "markdown",
      "source": [
        "**Ejemplo**"
      ],
      "metadata": {
        "id": "tJSg4HJy1NnD"
      }
    },
    {
      "cell_type": "code",
      "source": [
        "lenguaje = 'Python'\n",
        "if lenguaje != 'Java':\n",
        "    print(\"Estás aprendiendo un buen lenguaje.\")\n",
        "\n",
        "if lenguaje == 'Python':\n",
        "    print(\"Estás aprendiendo un super lenguaje.\")\n",
        "\n",
        "if False:\n",
        "    print(\"Esto siempre se imprimirá.\")\n",
        "# el espacio se llama indentacion, es obligatorio para aplicar una misma linea de codigo\n",
        "# se puede estar tab/ espacio no se requiere una cantidad especifica de indentacion\n",
        "# recomendable usar 1 tab (buena practica)\n"
      ],
      "metadata": {
        "id": "Zf4b76Tf1Cui",
        "colab": {
          "base_uri": "https://localhost:8080/"
        },
        "outputId": "af21d04a-beaf-493e-c941-89dbc5ca6ac1"
      },
      "execution_count": null,
      "outputs": [
        {
          "output_type": "stream",
          "name": "stdout",
          "text": [
            "Estás aprendiendo un buen lenguaje.\n",
            "Estás aprendiendo un super lenguaje.\n"
          ]
        }
      ]
    },
    {
      "cell_type": "markdown",
      "source": [
        "**Ejercicio 1.3**\n",
        "\n",
        "Crea una variable con tu deporte favorito y verifica que no sea \"fútbol\". Imprime un mensaje adecuado.\n"
      ],
      "metadata": {
        "id": "3FDNFb-71RCT"
      }
    },
    {
      "cell_type": "code",
      "source": [
        "\n",
        "dep=input(\"¿Cual es tu deporte favorito?: \").lower().strip() #define tu deporte favorito\n",
        "if dep != 'fútbol': #si no es futbol solo muestra el deporte\n",
        "  print('Tu deporte favorito es '+dep)\n",
        "if dep == 'futbol': # si es futbol pregunta por tu jugador favorito\n",
        "  print('¿Cual es tu jugador favorito?')\n",
        "  jug=input().lower().strip()\n",
        "  if jug==\"messi\": # Corrected indentation\n",
        "    print(\"Tu deporte favorito es \"+dep+\" y tu jugador favorito es \"+jug) #impirme futbol mas tu jugador favorito\n",
        "    print(\"Gracias\")\n",
        "print(\"Fin\")\n",
        "\n"
      ],
      "metadata": {
        "id": "Z2OcAhqh1Tcc",
        "colab": {
          "base_uri": "https://localhost:8080/"
        },
        "outputId": "1ab836f5-ab79-428e-9ba3-ffc7d6e9aeb8"
      },
      "execution_count": null,
      "outputs": [
        {
          "output_type": "stream",
          "name": "stdout",
          "text": [
            "¿Cual es tu deporte favorito?: futbol\n",
            "Tu deporte favorito es futbol\n",
            "¿Cual es tu jugador favorito?\n",
            "messi\n",
            "Tu deporte favorito es futbol y tu jugador favorito es messi\n",
            "Gracias\n"
          ]
        }
      ]
    },
    {
      "cell_type": "markdown",
      "source": [
        "### 1.4 Comparaciones numéricas\n",
        "\n",
        "Permiten comparar valores numéricos para establecer relaciones como mayor, menor o igual. Esto es clave en validaciones, rangos y lógica de negocio.\n"
      ],
      "metadata": {
        "id": "FZiB43wL1T21"
      }
    },
    {
      "cell_type": "markdown",
      "source": [
        "**Ejemplo**"
      ],
      "metadata": {
        "id": "2RqXr4Jg3eGO"
      }
    },
    {
      "cell_type": "code",
      "source": [
        "edad = 17\n",
        "if edad >= 18:\n",
        "    print(\"Eres mayor de edad.\")\n",
        "else:\n",
        "    print(\"Eres menor de edad.\")\n",
        "\n",
        "\"a\"<\"b\"  #se compara el orden de las letras / util para ordernar alfabeticamente"
      ],
      "metadata": {
        "id": "awVISLb61XGY",
        "colab": {
          "base_uri": "https://localhost:8080/"
        },
        "outputId": "983bfeda-ec68-4620-e066-f527fe181079"
      },
      "execution_count": null,
      "outputs": [
        {
          "output_type": "stream",
          "name": "stdout",
          "text": [
            "Eres menor de edad.\n"
          ]
        }
      ]
    },
    {
      "cell_type": "markdown",
      "source": [
        "**Ejercicio 1.4**\n",
        "\n",
        "Verifica si una persona puede jubilarse (edad mayor o igual a 65). Imprime un mensaje.\n"
      ],
      "metadata": {
        "id": "QyzSWy7a24eC"
      }
    },
    {
      "cell_type": "code",
      "source": [
        "edad=input(\"¿Cual es tu edad?: \")\n",
        "if int(edad)>=65:\n",
        "  print(\"Puedes jubilarte\")\n",
        "else:\n",
        "  print(\"No puedes jubilarte\")\n",
        "\n"
      ],
      "metadata": {
        "id": "d4SSysS_26x_",
        "colab": {
          "base_uri": "https://localhost:8080/"
        },
        "outputId": "06eadc84-6951-4615-9f92-411b8f7fdbc6"
      },
      "execution_count": null,
      "outputs": [
        {
          "output_type": "stream",
          "name": "stdout",
          "text": [
            "¿Cual es tu edad?: 50\n",
            "No puedes jubilarte\n"
          ]
        },
        {
          "output_type": "execute_result",
          "data": {
            "text/plain": [
              "True"
            ]
          },
          "metadata": {},
          "execution_count": 35
        }
      ]
    },
    {
      "cell_type": "markdown",
      "source": [
        "### 1.5 Comprobar varias condiciones\n",
        "\n",
        "Usamos operadores lógicos para combinar condiciones. `and` exige que ambas sean verdaderas; `or`, que al menos una lo sea; `not` invierte el valor lógico.\n"
      ],
      "metadata": {
        "id": "0T7KPhzJ286B"
      }
    },
    {
      "cell_type": "markdown",
      "source": [
        "**Ejemplo**"
      ],
      "metadata": {
        "id": "4wjYI1Y53cP2"
      }
    },
    {
      "cell_type": "code",
      "source": [
        "edad = 20\n",
        "licencia = \"A1\"\n",
        "licencia = True\n",
        "if edad >= 18 and licencia:\n",
        "    print(\"Puedes conducir.\")\n",
        "\n",
        "\n",
        "condition1= edad >= 18\n",
        "condition2= licencia == \"A2\"\n",
        "condition3= vivienda= \"propia\"\n",
        "\n",
        "condition1 and condition2 and condition3\n",
        "condition1 or condition2 or condition3\n",
        "\n",
        "\n",
        "# puedes usar and / & (debes englobar entre parentesis)\n",
        "# puedes usar or / | (debes englobar entre parentesis)\n",
        "# sentencia and hace que se cumplan las condiciones de izq y der. Solo sera True si ambas condiciones son true. Basta que uno que sea false para que todo sea false\n",
        "# sentencia or, basta que una condicion sea true para que toda la sentencia sea true. Solo sera false si ambas son false"
      ],
      "metadata": {
        "id": "bOSv8rYH2-9S",
        "colab": {
          "base_uri": "https://localhost:8080/"
        },
        "outputId": "1a5695b6-1e2e-456c-c965-a5ae5abc6e63"
      },
      "execution_count": null,
      "outputs": [
        {
          "output_type": "stream",
          "name": "stdout",
          "text": [
            "Puedes conducir.\n"
          ]
        },
        {
          "output_type": "execute_result",
          "data": {
            "text/plain": [
              "True"
            ]
          },
          "metadata": {},
          "execution_count": 39
        }
      ]
    },
    {
      "cell_type": "code",
      "source": [
        "# EJERCICIO para aprobar la maestria en UTEC, se requiere aprobar por lo menos 3 de 4 cursos con nota mayor a 18\n",
        "# Desarrolle un programa que calcule si un alumno aprobo o no.\n",
        "# Los cursos son: programacion, ciencia de datos, estadistica y muestreo.\n",
        "\n",
        "cur1=int(input(\"Ingrese la nota del curso de programacion: \"))\n",
        "cur2=int(input(\"Ingrese la nota del curso de ciencia de datos: \"))\n",
        "cur3=int(input(\"Ingrese la nota del curso de estadistica: \"))\n",
        "cur4=int(input(\"Ingrese la nota del curso de muestreo: \"))\n",
        "\n",
        "con1=cur1>=18\n",
        "con2=cur2>=18\n",
        "con3=cur3>=18\n",
        "con4=cur4>=18\n",
        "\n",
        "for i in [con1,con2,con3,con4]:\n",
        "  if i==True:\n",
        "      i=2+i\n",
        "  else:\n",
        "      i=0\n",
        "i\n",
        "if i>=3:\n",
        "  print(\"Usted aprobo la maestria en UTEC\")\n",
        "else:\n",
        "  print(\"Usted no aprobo la maestria en UTEC\")\n",
        "\n",
        "################################################################################\n",
        "# otro metodo\n",
        "con1=cur1 >=18\n",
        "con2=cur2 >=18\n",
        "con3=cur3 >=18\n",
        "con4=cur4 >=18\n",
        "\n",
        "#nota sumar boleanos ejem. true+true =2 / true+true+false=2\n",
        "# la multiplicacion es equivalente a and\n",
        "# suma equivale a or\n",
        "if con1+con2+con3+con4>=3:\n",
        "  print(\"Usted aprobo la maestria en UTEC\")\n",
        "else:\n",
        "  print(\"Usted no aprobo la maestria en UTEC\")\n",
        "\n",
        "\n"
      ],
      "metadata": {
        "colab": {
          "base_uri": "https://localhost:8080/"
        },
        "id": "f97HfBAsY5p0",
        "outputId": "80b94941-821c-40dd-fa2a-f9302a3411fd"
      },
      "execution_count": null,
      "outputs": [
        {
          "output_type": "stream",
          "name": "stdout",
          "text": [
            "Ingrese la nota del curso de programacion: 18\n",
            "Ingrese la nota del curso de ciencia de datos: 18\n",
            "Ingrese la nota del curso de estadistica: 18\n",
            "Ingrese la nota del curso de muestreo: 18\n",
            "Usted aprobo la maestria en UTEC\n",
            "Usted aprobo la maestria en UTEC\n"
          ]
        }
      ]
    },
    {
      "cell_type": "markdown",
      "source": [
        "**Ejercicio 1.5**\n",
        "\n",
        "Simula que una persona puede conducir si tiene más de 18 años **y** licencia vigente. Usa variables para edad y licencia.\n"
      ],
      "metadata": {
        "id": "gRPgH_4N3IMD"
      }
    },
    {
      "cell_type": "code",
      "source": [],
      "metadata": {
        "id": "P8tmK2Xp3K4U"
      },
      "execution_count": null,
      "outputs": []
    },
    {
      "cell_type": "markdown",
      "source": [
        "### 1.6 Comprobar si hay un valor en una lista\n",
        "\n",
        "Con `in` podemos verificar si un elemento existe en una lista. Es muy útil para filtros y validaciones.\n"
      ],
      "metadata": {
        "id": "MKNF_Bx03NOY"
      }
    },
    {
      "cell_type": "markdown",
      "source": [
        "**Ejemplo**"
      ],
      "metadata": {
        "id": "heZom_TW3Zwx"
      }
    },
    {
      "cell_type": "code",
      "source": [
        "frutas = ['manzana', 'plátano', 'naranja']\n",
        "if 'manzana' in frutas: #si el elemento esta contenido en la lista \"frutas\"\n",
        "    print(\"Tenemos manzanas en stock.\")\n",
        "# una lista siempre entre []\n"
      ],
      "metadata": {
        "id": "bdGURTNk3TyN"
      },
      "execution_count": null,
      "outputs": []
    },
    {
      "cell_type": "markdown",
      "source": [
        "**Ejercicio 1.6**\n",
        "\n",
        "Verifica si \"mate\" está en una lista de infusiones disponibles. Imprime un mensaje si está o no está.\n"
      ],
      "metadata": {
        "id": "TPYPzodl3iCS"
      }
    },
    {
      "cell_type": "code",
      "source": [],
      "metadata": {
        "id": "HYSVzaky3kBw"
      },
      "execution_count": null,
      "outputs": []
    },
    {
      "cell_type": "markdown",
      "source": [
        "### 1.7 Comprobar si un valor no está en una lista\n",
        "\n",
        "Usamos `not in` para comprobar la ausencia de un elemento. Muy útil para listas de prohibiciones o restricciones.\n"
      ],
      "metadata": {
        "id": "pQxz65fy3nF6"
      }
    },
    {
      "cell_type": "markdown",
      "source": [
        "**Ejemplo**"
      ],
      "metadata": {
        "id": "xSeV9VS43pQt"
      }
    },
    {
      "cell_type": "code",
      "source": [
        "alergenos = ['gluten', 'lácteos']\n",
        "if 'soya' not in alergenos: #si el elemento no esta en la lista \"alergenos\"\n",
        "    print(\"Puede consumir el producto.\")"
      ],
      "metadata": {
        "id": "Z1BVOROT3qlb"
      },
      "execution_count": null,
      "outputs": []
    },
    {
      "cell_type": "markdown",
      "source": [
        "**Ejercicio 1.7**\n",
        "\n",
        "Verifica que \"maní\" no esté en una lista de ingredientes seguros. Imprime un mensaje.\n"
      ],
      "metadata": {
        "id": "kiXSC0tu3sl1"
      }
    },
    {
      "cell_type": "code",
      "source": [],
      "metadata": {
        "id": "Lg7mrplP3yZL"
      },
      "execution_count": null,
      "outputs": []
    },
    {
      "cell_type": "markdown",
      "source": [
        "### 1.8 Expresiones booleanas\n",
        "\n",
        "Una condición en Python siempre se evalúa como `True` o `False`, lo cual se conoce como valor booleano. Podemos almacenarlo y reutilizarlo.\n"
      ],
      "metadata": {
        "id": "OS-idh5Y3x4a"
      }
    },
    {
      "cell_type": "markdown",
      "source": [
        "**Ejemplo**"
      ],
      "metadata": {
        "id": "zwZz0Q5132yO"
      }
    },
    {
      "cell_type": "code",
      "source": [
        "es_adulto = 25 >= 18\n",
        "print(es_adulto)  # True"
      ],
      "metadata": {
        "id": "e4L-ydsV32Vf"
      },
      "execution_count": null,
      "outputs": []
    },
    {
      "cell_type": "markdown",
      "source": [
        "**Ejercicio 1.8**\n",
        "\n",
        "Declara tres expresiones booleanas diferentes y muestra sus valores con `print()`.\n"
      ],
      "metadata": {
        "id": "mJvGwgKL36cY"
      }
    },
    {
      "cell_type": "code",
      "source": [],
      "metadata": {
        "id": "pfLn67qN3-7S"
      },
      "execution_count": null,
      "outputs": []
    },
    {
      "cell_type": "markdown",
      "source": [
        "## 2. Sentencias IF\n"
      ],
      "metadata": {
        "id": "M99-9Dbr3_SI"
      }
    },
    {
      "cell_type": "markdown",
      "source": [
        "### 2.1 Sentencias if simples\n",
        "\n",
        "La sentencia `if` ejecuta un bloque solo si se cumple una condición. Es la base de toda toma de decisiones."
      ],
      "metadata": {
        "id": "pn20U5EO4NsA"
      }
    },
    {
      "cell_type": "markdown",
      "source": [
        "**Ejemplo**"
      ],
      "metadata": {
        "id": "H9_p12n34Typ"
      }
    },
    {
      "cell_type": "code",
      "source": [
        "numero = 10\n",
        "if numero > 0:\n",
        "    print(\"Es positivo\")"
      ],
      "metadata": {
        "id": "UZqqFXbL4YTl"
      },
      "execution_count": null,
      "outputs": []
    },
    {
      "cell_type": "markdown",
      "source": [
        "**Ejercicio 2.1**\n",
        "\n",
        "Verifica si un número ingresado es par. Si lo es, muestra un mensaje confirmándolo.\n"
      ],
      "metadata": {
        "id": "RBI-TsFE4aje"
      }
    },
    {
      "cell_type": "code",
      "source": [],
      "metadata": {
        "id": "ISQlf54J4eOp"
      },
      "execution_count": null,
      "outputs": []
    },
    {
      "cell_type": "markdown",
      "source": [
        "\n",
        "### 2.2 Sentencias if dobles\n",
        "\n",
        "Con `if-else`, se ejecuta un bloque si la condición se cumple, y otro si no.\n",
        "\n"
      ],
      "metadata": {
        "id": "2my1bYQb4eld"
      }
    },
    {
      "cell_type": "markdown",
      "source": [
        "**Ejemplo**\n"
      ],
      "metadata": {
        "id": "mca7Lbjk4j2C"
      }
    },
    {
      "cell_type": "code",
      "source": [
        "nota = 11\n",
        "if nota >= 11:\n",
        "    print(\"Aprobado\")\n",
        "else:\n",
        "    print(\"Desaprobado\")"
      ],
      "metadata": {
        "id": "-9EGhvKg4ofZ"
      },
      "execution_count": null,
      "outputs": []
    },
    {
      "cell_type": "markdown",
      "source": [
        "**Ejercicio 2.2**\n",
        "\n",
        "Simula una validación de edad para entrar a una película para mayores de edad. Muestra si puede o no ingresar."
      ],
      "metadata": {
        "id": "DN6LoT8U4qKS"
      }
    },
    {
      "cell_type": "code",
      "source": [
        "#edad=input(\"¿Cual es tu edad?: \") #ingresa tu edad\n",
        "#edad_min=18 #umbral de edad minima para ver la pelicula\n",
        "#if int(edad)>=edad_min: #limite de mayoria de edad\n",
        "#  print(\"Puedes ver a la pelicula\") # if true, puedes entrar\n",
        "#else:\n",
        "#  print(\"No puedes ver a la pelicula\") #otherwise no puedes entrar\n",
        "#  print(\"Edad minima requerida \"+str(edad_min)+\" años\")\n",
        "\n",
        "##################################################################\n",
        "## otro metodo\n",
        "\n",
        "edad=int(input(\"¿Cual es tu edad?: \")) #ingresa tu edad\n",
        "if edad<=0 or edad > 90:\n",
        "    print(\"Edad invalida\")\n",
        "elif edad>=18:\n",
        "    print(\"Puedes ver a la pelicula\") # if true, puedes entrar\n",
        "else:\n",
        "    print(\"No puedes ver a la pelicula\") #otherwise no puedes entrar\n",
        "\n"
      ],
      "metadata": {
        "id": "RlSLMcO24yN0",
        "colab": {
          "base_uri": "https://localhost:8080/"
        },
        "outputId": "0b196cdd-ebab-4665-f280-d607e8d50ab2"
      },
      "execution_count": null,
      "outputs": [
        {
          "output_type": "stream",
          "name": "stdout",
          "text": [
            "¿Cual es tu edad?: 50\n",
            "Puedes ver a la pelicula\n"
          ]
        }
      ]
    },
    {
      "cell_type": "markdown",
      "source": [
        "\n",
        "### 2.3 Sentencias if múltiples\n",
        "\n",
        "Con `if-elif-else` puedes evaluar múltiples condiciones secuenciales. Se ejecuta solo el primer bloque verdadero.\n"
      ],
      "metadata": {
        "id": "CCfgZ5I844cm"
      }
    },
    {
      "cell_type": "code",
      "source": [],
      "metadata": {
        "id": "BRk8nZVp45z2"
      },
      "execution_count": null,
      "outputs": []
    },
    {
      "cell_type": "markdown",
      "source": [
        "**Ejemplo**"
      ],
      "metadata": {
        "id": "BdJCoG6c5E44"
      }
    },
    {
      "cell_type": "code",
      "source": [
        "velocidad = 90\n",
        "if velocidad > 120:\n",
        "    print(\"Multa grave\")\n",
        "elif velocidad > 90:\n",
        "    print(\"Advertencia\")\n",
        "else:\n",
        "    print(\"Todo bien\")"
      ],
      "metadata": {
        "id": "exfBK3Iu5J0E"
      },
      "execution_count": null,
      "outputs": []
    },
    {
      "cell_type": "markdown",
      "source": [
        "**Ejercicio 2.3**\n",
        "\n",
        "Clasifica una nota en letras:\n",
        "- A (≥18)\n",
        "- B (≥14)\n",
        "- C (≥10)\n",
        "- D (<10)\n"
      ],
      "metadata": {
        "id": "pDEKm_Zp5V3B"
      }
    },
    {
      "cell_type": "code",
      "source": [
        "nota=input(\"Ingresa tu nota: \")\n",
        "if int(nota)>=18:\n",
        "  print(\"Tu nota es A\")\n",
        "elif int(nota)>=14:\n",
        "  print(\"Tu nota es B\")\n",
        "elif int(nota)>=10:\n",
        "  print(\"Tu nota es C\")\n",
        "else:\n",
        "  print(\"Tu nota es D\")"
      ],
      "metadata": {
        "id": "Uu6cO8dj5Yis",
        "colab": {
          "base_uri": "https://localhost:8080/"
        },
        "outputId": "7b1291cc-072d-4f5a-b422-27a5e81f8802"
      },
      "execution_count": null,
      "outputs": [
        {
          "output_type": "stream",
          "name": "stdout",
          "text": [
            "Ingresa tu nota: 17\n",
            "Tu nota es B\n"
          ]
        }
      ]
    },
    {
      "cell_type": "markdown",
      "source": [
        "### 2.4 Omitir el bloque else\n",
        "\n",
        "En ocasiones, solo se requiere una acción si la condición es verdadera. No se necesita cubrir el caso contrario."
      ],
      "metadata": {
        "id": "THluc0oi5d6I"
      }
    },
    {
      "cell_type": "markdown",
      "source": [
        "**Ejemplo**\n"
      ],
      "metadata": {
        "id": "lpVDqa7N5gnQ"
      }
    },
    {
      "cell_type": "code",
      "source": [
        "usuario = 'admin'\n",
        "if usuario == 'admin':\n",
        "    print(\"Bienvenido, administrador.\")"
      ],
      "metadata": {
        "id": "Cfjj5cNR5mSi"
      },
      "execution_count": null,
      "outputs": []
    },
    {
      "cell_type": "markdown",
      "source": [
        "**Ejercicio 2.4**\n",
        "\n",
        "Muestra un mensaje especial si el usuario ingresado es \"profesor\"."
      ],
      "metadata": {
        "id": "c2glYtdT5pTl"
      }
    },
    {
      "cell_type": "code",
      "source": [],
      "metadata": {
        "id": "zF4zhZ5K5y2K"
      },
      "execution_count": null,
      "outputs": []
    },
    {
      "cell_type": "markdown",
      "source": [
        "\n",
        "### 2.5 Probar múltiples condiciones\n",
        "\n",
        "A veces queremos evaluar varias condiciones, **independientes entre sí**. Usamos múltiples `if`, no `elif`.\n"
      ],
      "metadata": {
        "id": "KZFE5bGa50gD"
      }
    },
    {
      "cell_type": "markdown",
      "source": [
        "**Ejemplo**"
      ],
      "metadata": {
        "id": "2IHxBKiK51sk"
      }
    },
    {
      "cell_type": "code",
      "source": [
        "edad = 20\n",
        "if edad >= 18:\n",
        "    print(\"Es mayor de edad\")\n",
        "if edad >= 16:\n",
        "    print(\"Puede conducir\")"
      ],
      "metadata": {
        "id": "ryKiRLWd55MI"
      },
      "execution_count": null,
      "outputs": []
    },
    {
      "cell_type": "markdown",
      "source": [
        "**Ejercicio 2.5**\n",
        "\n",
        "Evalúa separadamente si una persona:\n",
        "- Es mayor de edad (`edad >= 18`)\n",
        "- Puede votar (`edad >= 18`)\n",
        "- Puede conducir (`edad >= 16`)"
      ],
      "metadata": {
        "id": "CTqMD7WN565s"
      }
    },
    {
      "cell_type": "code",
      "source": [],
      "metadata": {
        "id": "D-h0W-sX58rm"
      },
      "execution_count": null,
      "outputs": []
    },
    {
      "cell_type": "markdown",
      "source": [
        "**Reto 1**\n",
        "\n",
        "Imagina que un extraterrestre acaba de ser derribado en un juego. Cree una variable llamada alien_color y asígnele un valor de 'verde', 'amarillo' o 'rojo'.\n",
        "\n",
        "Escribe una declaración if para probar si el color del extraterrestre es verde. Si es así, imprime un mensaje de que el jugador acaba de ganar 5 puntos."
      ],
      "metadata": {
        "id": "VRh_bkR86d9b"
      }
    },
    {
      "cell_type": "code",
      "source": [
        "colores = ['verde', 'amarillo', 'rojo']\n",
        "alien_color = input(\"Ingresa el color del extraterrestre: \")\n",
        "if alien_color == 'verde':\n",
        "    # Si es así, imprime un mensaje de que el jugador acaba de ganar 5 puntos.\n",
        "    print(\"¡Felicidades! Acabas de derribar un alienígena verde y ganaste 5 puntos.\")\n",
        "else:\n",
        "    print(f\"Derribaste un alienígena de color {alien_color}. ¡Sigue jugando!\")\n",
        "\n",
        "\n",
        "\n"
      ],
      "metadata": {
        "id": "0h5aKbTt6geM",
        "colab": {
          "base_uri": "https://localhost:8080/"
        },
        "outputId": "7b718876-ed98-4045-b3fa-82e2189653a1"
      },
      "execution_count": null,
      "outputs": [
        {
          "output_type": "stream",
          "name": "stdout",
          "text": [
            "Ingresa el color del extraterrestre: verde\n",
            "¡Felicidades! Acabas de derribar un alienígena verde y ganaste 5 puntos.\n"
          ]
        }
      ]
    },
    {
      "cell_type": "markdown",
      "source": [
        "\n",
        "\n",
        "**Reto 2**\n",
        "\n",
        "Elija un color para un extraterrestre como lo hizo en el Ejercicio anterior y escriba una cadena if-else.\n",
        "\n",
        "Si el alienígena es verde, imprime un mensaje de que el jugador obtuvo 5 puntos. Si el alienígena es amarillo, imprime un mensaje de que el jugador obtuvo 10 puntos. Si el alienígena es rojo, imprime un mensaje de que el jugador obtuvo 15 puntos.\n"
      ],
      "metadata": {
        "id": "bn42R8XB6csW"
      }
    },
    {
      "cell_type": "code",
      "source": [
        "colores = ['verde', 'amarillo', 'rojo']\n",
        "alien_color = input(\"Ingresa el color del extraterrestre: \")\n",
        "if alien_color == 'verde':\n",
        "    # Si es así, imprime un mensaje de que el jugador acaba de ganar 5 puntos.\n",
        "    print(f\"¡Felicidades! Acabas de derribar un alienígena {alien_color} y ganaste 5 puntos.\")\n",
        "elif alien_color == 'amarillo':\n",
        "    print(f\"¡Felicidades! Acabas de derribar un alienígena {alien_color} y ganaste 10 puntos.\")\n",
        "else:\n",
        "    print(f\"Derribaste un alienígena de color {alien_color} y ganaste 15 puntos.\")"
      ],
      "metadata": {
        "id": "7Ez0OH9_6jyC",
        "colab": {
          "base_uri": "https://localhost:8080/"
        },
        "outputId": "86ea8b32-87eb-4143-e232-cf92b00b02bb"
      },
      "execution_count": null,
      "outputs": [
        {
          "output_type": "stream",
          "name": "stdout",
          "text": [
            "Ingresa el color del extraterrestre: rojo\n",
            "Derribaste un alienígena de color rojo y ganaste 10¿5 puntos.\n"
          ]
        }
      ]
    },
    {
      "cell_type": "markdown",
      "source": [
        "**Reto 3**\n",
        "\n",
        "Pregunte al usuario su edad, si esta es mayor igual a 18 años, imprima un mensaje que indique que puede votar, si la presona es menor que 18 años ,imprima un mensaje de que aun no cumple mayoría de edad, finalmente si la persona supera los 65 años, imprima un mensaje de que supera el umbral de edad para votar.\n",
        "\n",
        "Extra: A las personas que sean aptas para votar preguntele su candidato y guadelo en una lista la cual se imprimirá el finalizar el programa."
      ],
      "metadata": {
        "id": "DI_UqvW46kYV"
      }
    },
    {
      "cell_type": "code",
      "source": [
        "cand=[]\n",
        "age=input(\"Ingrese su edad: \")\n",
        "if 18 <= int(age) <= 65:\n",
        "  print(\"Usted puede votar\")\n",
        "  print(\"¿Cual es su candidato?: \")\n",
        "  candi=input()\n",
        "  cand.append(candi)\n",
        "  print(f\"Su candidato es {cand}\")\n",
        "elif int(age) > 65:\n",
        "  print(\"Usted supera el umbral de edad para votar\")\n",
        "else:\n",
        "  print(\"Usted no puede votar\")\n",
        "\n",
        "\n"
      ],
      "metadata": {
        "id": "BqNiZanB6oQA",
        "colab": {
          "base_uri": "https://localhost:8080/"
        },
        "outputId": "413688dd-4bb0-4a59-95c8-34ad4af93a55"
      },
      "execution_count": null,
      "outputs": [
        {
          "output_type": "stream",
          "name": "stdout",
          "text": [
            "Ingrese su edad: 18\n",
            "Usted puede votar\n",
            "¿Cual es su candidato?: \n",
            "raul\n",
            "Su candidato es ['raul']\n"
          ]
        }
      ]
    },
    {
      "cell_type": "markdown",
      "source": [
        "---\n",
        "\n",
        "# Conclusión\n",
        "\n",
        "A lo largo de este laboratorio, aprendiste a usar **estructuras condicionales** para que tus programas tomen decisiones en función de distintos criterios. Dominar las pruebas condicionales y las sentencias **`if`** es esencial para construir programas dinámicos, inteligentes y adaptables. Estas habilidades serán la base para los siguientes temas del curso.\n",
        "\n",
        "\n",
        "---\n"
      ],
      "metadata": {
        "id": "7FrX1o7Y6L-H"
      }
    },
    {
      "cell_type": "markdown",
      "source": [
        "---\n",
        "\n",
        "# Gracias por completar este laboratorio!\n",
        "\n",
        "---\n"
      ],
      "metadata": {
        "id": "whQxk9Rn6Zlv"
      }
    }
  ]
}