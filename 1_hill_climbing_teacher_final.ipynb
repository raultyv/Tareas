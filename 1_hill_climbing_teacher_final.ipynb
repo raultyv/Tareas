{
  "nbformat": 4,
  "nbformat_minor": 0,
  "metadata": {
    "colab": {
      "provenance": [],
      "include_colab_link": true
    },
    "kernelspec": {
      "name": "python3",
      "display_name": "Python 3"
    },
    "language_info": {
      "name": "python"
    }
  },
  "cells": [
    {
      "cell_type": "markdown",
      "metadata": {
        "id": "view-in-github",
        "colab_type": "text"
      },
      "source": [
        "<a href=\"https://colab.research.google.com/github/raultyv/Tareas/blob/main/1_hill_climbing_teacher_final.ipynb\" target=\"_parent\"><img src=\"https://colab.research.google.com/assets/colab-badge.svg\" alt=\"Open In Colab\"/></a>"
      ]
    },
    {
      "cell_type": "markdown",
      "source": [
        "#Hill climbing search"
      ],
      "metadata": {
        "id": "l53KCHGbTxwM"
      }
    },
    {
      "cell_type": "markdown",
      "source": [
        "![](https://drive.google.com/uc?export=view&id=1IlgFVvt98JrqeC7A1eracheX7oUHBx0E)"
      ],
      "metadata": {
        "id": "FcVmwFu6TvxI"
      }
    },
    {
      "cell_type": "code",
      "execution_count": null,
      "metadata": {
        "id": "awp6eqnKGZ7L",
        "colab": {
          "base_uri": "https://localhost:8080/"
        },
        "outputId": "92d2fadd-9cf3-4c33-f58a-aeea99666343"
      },
      "outputs": [
        {
          "output_type": "stream",
          "name": "stdout",
          "text": [
            "[3 0 2 1]\n"
          ]
        }
      ],
      "source": [
        "import numpy as np\n",
        "\n",
        "TSP = [\n",
        "    [0,   200,  600,  100],\n",
        "    [200,   0,  300,  100],\n",
        "    [600, 300,  0,    400],\n",
        "    [100, 100,  400,  0],\n",
        "]\n",
        "\n",
        "# Step 1\n",
        "current_solution = np.array([0, 1, 2, 3])\n",
        "np.random.shuffle(current_solution)\n",
        "\n",
        "print(current_solution)"
      ]
    },
    {
      "cell_type": "code",
      "source": [
        "def fitness(sol):\n",
        "  distance = 0\n",
        "  for i in range( len(sol) - 1 ):\n",
        "    distance = distance + TSP[ sol[i]  ][ sol[i+1]  ]\n",
        "\n",
        "  return distance\n",
        "\n",
        "print( fitness(current_solution) )"
      ],
      "metadata": {
        "colab": {
          "base_uri": "https://localhost:8080/"
        },
        "id": "BfVFdznJV5BU",
        "outputId": "caf03812-2218-4a1f-f653-e1cac503604c"
      },
      "execution_count": null,
      "outputs": [
        {
          "output_type": "stream",
          "name": "stdout",
          "text": [
            "1000\n"
          ]
        }
      ]
    },
    {
      "cell_type": "code",
      "source": [
        "def get_neighbors(sol):\n",
        "  neighbors = []\n",
        "  for i in range(len(sol) - 1):\n",
        "    for j in range( i + 1, len(sol) ):\n",
        "      new_sol = sol.copy()\n",
        "      new_sol[i], new_sol[j] = new_sol[j], new_sol[i]\n",
        "      neighbors.append(new_sol)\n",
        "  return neighbors\n",
        "\n",
        "print( (current_solution) )\n",
        "print( get_neighbors(current_solution) )"
      ],
      "metadata": {
        "colab": {
          "base_uri": "https://localhost:8080/"
        },
        "id": "LlcSgnBLXb1s",
        "outputId": "8b6a320e-18e5-41b1-e8d8-b61109cd6f64"
      },
      "execution_count": null,
      "outputs": [
        {
          "output_type": "stream",
          "name": "stdout",
          "text": [
            "[3 0 2 1]\n",
            "[array([0, 3, 2, 1]), array([2, 0, 3, 1]), array([1, 0, 2, 3]), array([3, 2, 0, 1]), array([3, 1, 2, 0]), array([3, 0, 1, 2])]\n"
          ]
        }
      ]
    },
    {
      "cell_type": "code",
      "source": [
        "def hill_climbing():\n",
        "  # step 1: Solucion inicial\n",
        "  current_solution = np.array([0, 1, 2, 3])\n",
        "  np.random.shuffle(current_solution)\n",
        "\n",
        "  while True:\n",
        "    print(\"Iteration...\")\n",
        "    # step: generar vecinos\n",
        "    neighbors = get_neighbors(current_solution)\n",
        "    best_neighbor = min(neighbors, key=fitness)\n",
        "\n",
        "    print(\"current_solution\", current_solution)\n",
        "    print(\"fitness current_solution\", fitness(current_solution))\n",
        "    print(\"neighbors\", neighbors)\n",
        "    print(\"best_neighbor\", best_neighbor)\n",
        "    print(\"fitness best_neighbor\", fitness(best_neighbor))\n",
        "\n",
        "    if fitness(best_neighbor) < fitness(current_solution):\n",
        "      current_solution = best_neighbor\n",
        "    else:\n",
        "      return current_solution\n",
        "\n",
        "    print(\"\")\n",
        "\n",
        "solution = hill_climbing()\n",
        "\n",
        "print(\"\\nbest solution:\", solution)\n",
        "\n",
        "\n"
      ],
      "metadata": {
        "colab": {
          "base_uri": "https://localhost:8080/"
        },
        "id": "gLnNSB3XDgWT",
        "outputId": "16a50e36-d491-455f-dd05-8bbeba214e7c"
      },
      "execution_count": null,
      "outputs": [
        {
          "output_type": "stream",
          "name": "stdout",
          "text": [
            "Iteration...\n",
            "current_solution [2 0 1 3]\n",
            "fitness current_solution 900\n",
            "neighbors [array([0, 2, 1, 3]), array([1, 0, 2, 3]), array([3, 0, 1, 2]), array([2, 1, 0, 3]), array([2, 3, 1, 0]), array([2, 0, 3, 1])]\n",
            "best_neighbor [3 0 1 2]\n",
            "fitness best_neighbor 600\n",
            "\n",
            "Iteration...\n",
            "current_solution [3 0 1 2]\n",
            "fitness current_solution 600\n",
            "neighbors [array([0, 3, 1, 2]), array([1, 0, 3, 2]), array([2, 0, 1, 3]), array([3, 1, 0, 2]), array([3, 2, 1, 0]), array([3, 0, 2, 1])]\n",
            "best_neighbor [0 3 1 2]\n",
            "fitness best_neighbor 500\n",
            "\n",
            "Iteration...\n",
            "current_solution [0 3 1 2]\n",
            "fitness current_solution 500\n",
            "neighbors [array([3, 0, 1, 2]), array([1, 3, 0, 2]), array([2, 3, 1, 0]), array([0, 1, 3, 2]), array([0, 2, 1, 3]), array([0, 3, 2, 1])]\n",
            "best_neighbor [3 0 1 2]\n",
            "fitness best_neighbor 600\n",
            "\n",
            "best solution: [0 3 1 2]\n"
          ]
        }
      ]
    },
    {
      "cell_type": "code",
      "source": [],
      "metadata": {
        "colab": {
          "base_uri": "https://localhost:8080/"
        },
        "id": "ZcN3MkdnsO4c",
        "outputId": "dfdb6de5-9a72-4ba5-e75e-d3af6a83a79d"
      },
      "execution_count": null,
      "outputs": [
        {
          "output_type": "execute_result",
          "data": {
            "text/plain": [
              "2"
            ]
          },
          "metadata": {},
          "execution_count": 16
        }
      ]
    }
  ]
}