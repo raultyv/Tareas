{
  "nbformat": 4,
  "nbformat_minor": 0,
  "metadata": {
    "colab": {
      "provenance": [],
      "include_colab_link": true
    },
    "kernelspec": {
      "name": "python3",
      "display_name": "Python 3"
    },
    "language_info": {
      "name": "python"
    }
  },
  "cells": [
    {
      "cell_type": "markdown",
      "metadata": {
        "id": "view-in-github",
        "colab_type": "text"
      },
      "source": [
        "<a href=\"https://colab.research.google.com/github/raultyv/Tareas/blob/main/Copia_de_20251_Asesoria_2.ipynb\" target=\"_parent\"><img src=\"https://colab.research.google.com/assets/colab-badge.svg\" alt=\"Open In Colab\"/></a>"
      ]
    },
    {
      "cell_type": "code",
      "source": [
        "# P"
      ],
      "metadata": {
        "id": "RzYzqXsKZFu1"
      },
      "execution_count": null,
      "outputs": []
    },
    {
      "cell_type": "markdown",
      "source": [
        "**Ejercicio 1: Palíndromo:**\n",
        "Escribe una función que determine si una cadena es un palíndromo (es decir, se lee igual de izquierda a derecha que de derecha a izquierda).\n",
        "\n",
        "La función debe recibir una cadena como entrada y devolver True si es un palíndromo y False si no lo es.\n",
        "\n",
        "La función debe ser insensible a mayúsculas y minúsculas, y debe ignorar los espacios en blanco y signos de puntuación.\n",
        "\n",
        "**Ejercicio 2: Contador de palabras:**\n",
        "Escribe una función que cuente el número de veces que aparece cada palabra en una cadena.\n",
        "\n",
        "La función debe recibir una cadena como entrada y devolver un diccionario donde las claves son las palabras y los valores son el número de veces que aparece cada palabra.\n",
        "\n",
        "La función debe ser insensible a mayúsculas y minúsculas, y debe ignorar los signos de puntuación.\n",
        "\n",
        "**Ejercicio 3: Búsqueda de subcadena:**\n",
        "\n",
        "Escribe una función que reciba dos cadenas como entrada: la cadena principal y la subcadena a buscar.\n",
        "\n",
        "La función debe devolver una lista con todas las posiciones donde se encuentre una subcadena específica.\n",
        "\n",
        "La función debe ser insensible a mayúsculas y minúsculas."
      ],
      "metadata": {
        "id": "sFnpeeu-YBjz"
      }
    },
    {
      "cell_type": "markdown",
      "source": [
        "**Strings**\n",
        "Escribe una función que reciba un texto largo y devuelva una lista de las 10 palabras más frecuentes (ignorando mayúsculas, signos de puntuación y acentos), ordenadas de mayor a menor frecuencia. En caso de empate, se ordenan alfabéticamente.\n",
        "\n",
        "\n",
        "**Matrices**\n",
        "Implementa una función que reciba una matriz cuadrada (lista de listas) y determine si es una matriz mágica (es decir, que la suma de cada fila, cada columna y las dos diagonales sea la misma). La matriz puede tener cualquier dimensión NxN.\n",
        "\n",
        "**Diccionarios: insertar y extraer información**\n",
        "Desarrolla un sistema de registro de estudiantes donde puedas:\n",
        "\n",
        "*   Insertar estudiantes con su nombre y una lista de calificaciones.\n",
        "\n",
        "*   Extraer:\n",
        "\n",
        "a) El estudiante con mejor promedio,\n",
        "\n",
        "b) Los nombres de los estudiantes que tengan al menos una calificación menor a 6.\n",
        "Usa un diccionario como estructura principal: {nombre: [calificaciones]}."
      ],
      "metadata": {
        "id": "uNBY42m-ZIHT"
      }
    },
    {
      "cell_type": "code",
      "execution_count": null,
      "metadata": {
        "id": "wYmU_A8aT_Y4",
        "outputId": "454205b5-217d-4f41-af65-90e75e824f9d",
        "colab": {
          "base_uri": "https://localhost:8080/"
        }
      },
      "outputs": [
        {
          "output_type": "stream",
          "name": "stdout",
          "text": [
            "hola aloh\n",
            "False\n",
            "ana ana\n",
            "True\n",
            "papap papap\n",
            "True\n"
          ]
        }
      ],
      "source": [
        "#palindromo\n",
        "def palindromo(cadena):\n",
        "  cadena=cadena.lower() #crea unma nueva cadena en miniscula\n",
        "#  signos_puntuacion=\" .,;-_*/+#$%&\"\n",
        "#  for signo in signos_puntuacion:\n",
        "#    cadena=cadena.replace(signo,'') #elimina los signos de puntuacion\n",
        "  alfabeto='abcdefghijklmnñopqrstuvwxyz'\n",
        "  cadena2= ''\n",
        "  for letra in cadena:\n",
        "    if letra in alfabeto:\n",
        "      cadena2 += letra #actualiza valor actual\n",
        "\n",
        "\n",
        "  inversa=cadena2[::-1] #desde el inicio hasta el final invertido (comenzando desde el final)\n",
        "  print(cadena2,inversa)\n",
        "  return inversa == cadena2\n",
        "\n",
        "print(palindromo('hola'))\n",
        "print(palindromo('ana'))\n",
        "print(palindromo('pAp a,p'))\n",
        "\n",
        "\n"
      ]
    },
    {
      "cell_type": "code",
      "source": [
        "def contador_palabras(texto):\n",
        "  texto = texto.lower()\n",
        "  alfabeto='abcdefghijklmnñopqrstuvwxyz '\n",
        "  texto2= ''\n",
        "  for letra in texto:\n",
        "    if letra in alfabeto:\n",
        "      texto2 += letra #actualiza valor actual\n",
        "  print(texto2)\n",
        "\n",
        "  lista = texto.split() #divide una cadena por el caracter que uno ponga, por defecto es el espacio\n",
        "  print(lista)\n",
        "  diccionario = {} #{clave : valor} clave son las palabras y el valor la cantidad de veces que se repite\n",
        "  for palabra in lista:\n",
        "    if palabra not in diccionario.keys():\n",
        "      diccionario[palabra] = 0\n",
        "    diccionario[palabra] += 1\n",
        "  return diccionario\n",
        "\n",
        "\n",
        "\n",
        "print(contador_palabras(\"\"\"su su su perin ten ten ten dente dente dente\"\"\"))"
      ],
      "metadata": {
        "id": "zBD9sYL7zMTn",
        "outputId": "18d3bc4a-a601-4176-ff31-f5ae3e64d12e",
        "colab": {
          "base_uri": "https://localhost:8080/"
        }
      },
      "execution_count": null,
      "outputs": [
        {
          "output_type": "stream",
          "name": "stdout",
          "text": [
            "su su su perin ten ten ten dente dente dente\n",
            "['su', 'su', 'su', 'perin', 'ten', 'ten', 'ten', 'dente', 'dente', 'dente']\n",
            "{'su': 3, 'perin': 1, 'ten': 3, 'dente': 3}\n"
          ]
        }
      ]
    },
    {
      "cell_type": "code",
      "source": [
        "def matriz_magica(matriz):\n",
        "  #suma por filas\n",
        "  matriz[0] #primera fila\n",
        "  suma = sum(matriz[0])\n",
        "  for fila in matriz:\n",
        "    if sum(fila) != suma:\n",
        "      return False\n",
        "  #suma por columnas\n",
        "  tmp = [0]*len(matriz) # [0 0 0]\n",
        "  for fila in matriz: # [1,2,3]\n",
        "    for c in range(len(matriz[0])):\n",
        "      tmp[c] += fila[c]\n",
        "  for num in tmp:\n",
        "    if num != suma:\n",
        "      return False #no es matriz magica\n",
        "  #suma por diagonales\n",
        "  suma_diag_1=0\n",
        "  suma_diag_2=0\n",
        "  for f in range(len(matriz)): # indices 0 1 2\n",
        "    suma_diag_1 +=matriz[f][f]\n",
        "    suma_diag_2 +=matriz[f][c]\n",
        "    c -= 1\n",
        "  if suma_diag_1 != suma or suma_diag_2 !=suma:\n",
        "    return False\n",
        "  return True\n",
        "\n",
        "\n",
        "m1 = [[1,1,1],[ 1,1,1],[1,1,1]]\n",
        "print(matriz_magica(m1))"
      ],
      "metadata": {
        "id": "7F-vgTz92R5q",
        "outputId": "216e6884-4ec3-4138-f8db-e4bdef443f62",
        "colab": {
          "base_uri": "https://localhost:8080/"
        }
      },
      "execution_count": null,
      "outputs": [
        {
          "output_type": "stream",
          "name": "stdout",
          "text": [
            "True\n"
          ]
        }
      ]
    }
  ]
}