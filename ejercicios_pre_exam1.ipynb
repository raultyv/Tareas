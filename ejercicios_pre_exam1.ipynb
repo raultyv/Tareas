{
  "nbformat": 4,
  "nbformat_minor": 0,
  "metadata": {
    "colab": {
      "provenance": [],
      "include_colab_link": true
    },
    "kernelspec": {
      "name": "python3",
      "display_name": "Python 3"
    },
    "language_info": {
      "name": "python"
    }
  },
  "cells": [
    {
      "cell_type": "markdown",
      "metadata": {
        "id": "view-in-github",
        "colab_type": "text"
      },
      "source": [
        "<a href=\"https://colab.research.google.com/github/raultyv/Tareas/blob/main/ejercicios_pre_exam1.ipynb\" target=\"_parent\"><img src=\"https://colab.research.google.com/assets/colab-badge.svg\" alt=\"Open In Colab\"/></a>"
      ]
    },
    {
      "cell_type": "markdown",
      "source": [
        "<img src=\"https://posgrado.utec.edu.pe/sites/default/files/2023-08/Testimonial-home-2.jpg\" alt=\"HTML5 Icon\" width=\"900\" height=\"250\" >\n"
      ],
      "metadata": {
        "id": "a8zyMsSvRXp5"
      }
    },
    {
      "cell_type": "markdown",
      "source": [
        "#**Preguntas Tipo - Programación 101**\n",
        "## **Examen 1**"
      ],
      "metadata": {
        "id": "9zJeD0SAM13Y"
      }
    },
    {
      "cell_type": "markdown",
      "source": [
        "Restricción: No usar bucles (for, while), funciones definidas (def), ni listas.\n",
        "Usar únicamente variables, condicionales (if, elif, else), operaciones básicas, entrada (input()) y salida (print()).\n",
        "\n"
      ],
      "metadata": {
        "id": "eFGrD-AYNEbv"
      }
    },
    {
      "cell_type": "markdown",
      "source": [
        "###**Pregunta 1:**\n",
        "**Verificación numérica sencilla**\n",
        "\n",
        "Ingresa un número entero de dos dígitos y verifica si ambos dígitos son iguales."
      ],
      "metadata": {
        "id": "Y6CsgRhINSz6"
      }
    },
    {
      "cell_type": "code",
      "source": [
        "#Ejemplo:\n",
        "#Entrada: 44\n",
        "#Salida: Dígitos iguales"
      ],
      "metadata": {
        "id": "2jhsmLYPNTW9"
      },
      "execution_count": null,
      "outputs": []
    },
    {
      "cell_type": "code",
      "source": [
        "# Your code starts here\n",
        "num=input(\"ingrese un numero de dos digitos \")\n",
        "correcto= True\n",
        "while correcto:\n",
        "  if 10<= int(num) <99:\n",
        "    correcto=False\n",
        "  else:\n",
        "    print(\"numero incorrecto\")\n",
        "    num=input(\"ingrese un numero de dos digitos \")\n",
        "\n",
        "if num[0]==num[1]:\n",
        "  print(\"los digitos son iguales\")\n",
        "else:\n",
        "  print(\"los digitos son diferentes\")\n",
        "\n",
        "\n",
        "# Your code ends here"
      ],
      "metadata": {
        "id": "J5AUksDbNqEV",
        "colab": {
          "base_uri": "https://localhost:8080/"
        },
        "outputId": "f574076b-9adf-458e-fc64-786598dba506"
      },
      "execution_count": null,
      "outputs": [
        {
          "output_type": "stream",
          "name": "stdout",
          "text": [
            "ingrese un numero de dos digitos 125\n",
            "numero incorrecto\n",
            "ingrese un numero de dos digitos 2\n",
            "numero incorrecto\n",
            "ingrese un numero de dos digitos 46\n",
            "los digitos son diferentes\n"
          ]
        }
      ]
    },
    {
      "cell_type": "markdown",
      "source": [
        "###**Pregunta 2:**\n",
        "**Clasificación de letra**\n",
        "\n",
        "Dado un carácter ingresado, determina si es consonante minúscula, consonante mayúscula o no consonante.\n"
      ],
      "metadata": {
        "id": "bOruUQBZNrIT"
      }
    },
    {
      "cell_type": "code",
      "source": [
        "#Ejemplo:\n",
        "#Entrada: \"G\"\n",
        "#Salida: Consonante MAYÚSCULA"
      ],
      "metadata": {
        "id": "q9nphTXnN2e-"
      },
      "execution_count": null,
      "outputs": []
    },
    {
      "cell_type": "code",
      "source": [
        "# Your code starts here\n",
        "letra=input(\"ingrese una letra \")\n",
        "cond=True\n",
        "while cond:\n",
        "  if len(letra)==1:\n",
        "    cond= False\n",
        "  else:\n",
        "    letra=input(\"ingrese una letra \")\n",
        "\n",
        "if \"a\" <= letra <= \"z\":\n",
        "  print(\"la letra es una consonante minuscula\")\n",
        "elif \"A\" <= letra <= \"Z\":\n",
        "  print(\"la letra es una consonante mayuscula\")\n",
        "else:\n",
        "  print(\"la letra no es una consonante\")\n",
        "\n",
        "\n",
        "# Your code ends here"
      ],
      "metadata": {
        "id": "6D49YSMAN5VP",
        "colab": {
          "base_uri": "https://localhost:8080/"
        },
        "outputId": "5a2c15f2-ab8c-4b24-beba-f162ac9e92e4"
      },
      "execution_count": null,
      "outputs": [
        {
          "output_type": "stream",
          "name": "stdout",
          "text": [
            "ingrese una letra 5\n",
            "la letra no es una consonante\n"
          ]
        }
      ]
    },
    {
      "cell_type": "markdown",
      "source": [
        "###**Pregunta 3:**\n",
        "**Verificador de año bisiesto simplificado**\n",
        "\n",
        "Ingresa un año y determina si es bisiesto (divisible entre 4) o no.\n"
      ],
      "metadata": {
        "id": "bd7DcYvbN5yU"
      }
    },
    {
      "cell_type": "code",
      "source": [
        "#Ejemplo\n",
        "#Entrada: 2024\n",
        "#Salida: Bisiesto"
      ],
      "metadata": {
        "id": "gW-9lUhwOFuq"
      },
      "execution_count": null,
      "outputs": []
    },
    {
      "cell_type": "code",
      "source": [
        "# Your code starts here\n",
        "an=int(input(\"Ingrese un año: \"))\n",
        "cond=True\n",
        "while cond:\n",
        "  if an >=0:\n",
        "    cond=False\n",
        "  else:\n",
        "    an=int(input(\"Ingrese un año: \"))\n",
        "\n",
        "if an%4==0:\n",
        "  print(\"el año es bisiesto\")\n",
        "else:\n",
        "  print(\"el año no es bisiesto\")\n",
        "\n",
        "\n",
        "# Your code ends here"
      ],
      "metadata": {
        "id": "rguN-tC3OESX",
        "outputId": "3a0b026c-6200-422a-ed6c-c43bece5c67e",
        "colab": {
          "base_uri": "https://localhost:8080/"
        }
      },
      "execution_count": null,
      "outputs": [
        {
          "output_type": "stream",
          "name": "stdout",
          "text": [
            "Ingrese un año: 2024\n",
            "el año es bisiesto\n"
          ]
        }
      ]
    },
    {
      "cell_type": "markdown",
      "source": [
        "###**Pregunta 4:**\n",
        "**Rango numérico**\n",
        "\n",
        "Ingresa un número y verifica si está dentro del rango [10-20] inclusive o fuera del mismo."
      ],
      "metadata": {
        "id": "iNdvTtA6Qbwe"
      }
    },
    {
      "cell_type": "code",
      "source": [
        "#Ejemplo:\n",
        "#Entrada: 15\n",
        "#Salida: Dentro del rango"
      ],
      "metadata": {
        "id": "vBEZbQ4ZPoCd"
      },
      "execution_count": null,
      "outputs": []
    },
    {
      "cell_type": "code",
      "source": [
        "# Your code starts here\n",
        "num=int(input(\"Ingrese un numero: \"))\n",
        "\n",
        "if 10<=num<=20:\n",
        "  print(\"el numero esta dentro del rango\")\n",
        "else:\n",
        "  print(\"el numero esta fuera del rango\")\n",
        "\n",
        "\n",
        "# Your code ends here"
      ],
      "metadata": {
        "id": "teGjrMo1PqK2",
        "outputId": "16de7400-3599-445b-91eb-e5a7b4b2f511",
        "colab": {
          "base_uri": "https://localhost:8080/"
        }
      },
      "execution_count": null,
      "outputs": [
        {
          "output_type": "stream",
          "name": "stdout",
          "text": [
            "Ingrese un numero: 14\n",
            "el numero esta dentro del rango\n"
          ]
        }
      ]
    },
    {
      "cell_type": "markdown",
      "source": [
        "###**Pregunta 5:**\n",
        "**Código especial (2 dígitos)**\n",
        "\n",
        "Ingresa un número de dos dígitos. Determina si la multiplicación de ambos dígitos es mayor a 20."
      ],
      "metadata": {
        "id": "U3ct-SRkQhTS"
      }
    },
    {
      "cell_type": "code",
      "source": [
        "#Ejemplo:\n",
        "#Entrada: 57  (5×7=35)\n",
        "#Salida: Producto mayor a 20"
      ],
      "metadata": {
        "id": "l75HDOQ7Qky_"
      },
      "execution_count": null,
      "outputs": []
    },
    {
      "cell_type": "code",
      "source": [
        "# Your code starts here\n",
        "num=input(\"ingrese un numero de dos digitos \")\n",
        "cond=True\n",
        "while cond:\n",
        "  if len(str(num))==2:\n",
        "    cond=False\n",
        "  else:\n",
        "    num=(input(\"ingrese un numero de dos digitos \"))\n",
        "a=int(num[0])\n",
        "b=int(num[1])\n",
        "c=a*b\n",
        "\n",
        "if c>20:\n",
        "  print(f\"El producto de los digitos del numero {num} es mayor a 20\")\n",
        "else:\n",
        "  print(f\"El producto de los digitos del numero {num} es menor a 20\")\n",
        "\n",
        "\n",
        "\n",
        "# Your code ends here"
      ],
      "metadata": {
        "id": "Z3uRcAcaQnGP",
        "outputId": "0cfaacd6-eac5-46b0-f0de-91e8836dc4ef",
        "colab": {
          "base_uri": "https://localhost:8080/"
        }
      },
      "execution_count": null,
      "outputs": [
        {
          "output_type": "stream",
          "name": "stdout",
          "text": [
            "ingrese un numero de dos digitos 12\n",
            "El producto de los digitos del numero 12 es menor a 20\n"
          ]
        }
      ]
    },
    {
      "cell_type": "markdown",
      "source": [
        "###**Pregunta 6:**\n",
        "**Comparador de caracteres**\n",
        "\n",
        "Ingresa dos caracteres e indica cuál tiene mayor valor ASCII. Si son iguales, indícalo."
      ],
      "metadata": {
        "id": "9gtPmEjiQpSy"
      }
    },
    {
      "cell_type": "code",
      "source": [
        "#Ejemplo:\n",
        "#Entrada: a, b\n",
        "#Salida: Segundo mayor"
      ],
      "metadata": {
        "id": "eTtpZLqUQsEH"
      },
      "execution_count": null,
      "outputs": []
    },
    {
      "cell_type": "code",
      "source": [
        "# Your code starts here\n",
        "car1=input(\"ingrense un caracter: \")\n",
        "car2=input(\"ingrese otro caracter: \")\n",
        "asc1=ord(car1)\n",
        "asc2=ord(car2)\n",
        "if asc1 < asc2:\n",
        "  print(f\"El caracter {car2} tiene mayor ASCII que el caracter {car1}\")\n",
        "elif car1 > car2:\n",
        "  print(f\"El caracter {car1} tiene mayor ASCII que el caracter {car2}\")\n",
        "else:\n",
        "  print(f\"ambos caracteres tienen el mismo valor ASCII\")\n",
        "\n",
        "\n",
        "\n",
        "# Your code ends here"
      ],
      "metadata": {
        "id": "M-OcrIy8QstB",
        "outputId": "8f964535-63de-4edb-a05d-dc37bc4eb99b",
        "colab": {
          "base_uri": "https://localhost:8080/"
        }
      },
      "execution_count": 5,
      "outputs": [
        {
          "output_type": "stream",
          "name": "stdout",
          "text": [
            "ingrense un caracter: t\n",
            "ingrese otro caracter: H\n",
            "El caracter t tiene mayor ASCII que el caracter H\n"
          ]
        }
      ]
    },
    {
      "cell_type": "markdown",
      "source": [
        "\n",
        "###**Pregunta 7:**\n",
        "**Contraseña numérica corta**\n",
        "\n",
        "Verifica una contraseña numérica de 3 cifras ingresada por el usuario. La contraseña válida es 369.\n"
      ],
      "metadata": {
        "id": "DbRYWtFaQuYU"
      }
    },
    {
      "cell_type": "code",
      "source": [
        "#Ejemplo:\n",
        "#Entrada: 369\n",
        "#Salida: Acceso autorizado"
      ],
      "metadata": {
        "id": "fO9BNFo4QYbN"
      },
      "execution_count": null,
      "outputs": []
    },
    {
      "cell_type": "code",
      "source": [
        "#START\n",
        "pasword=input(\"ingrese una contraseña numerica de 3 digitos \")\n",
        "cond= True\n",
        "while cond:\n",
        "  if len(pasword)==3:\n",
        "    cond=False\n",
        "  else:\n",
        "    pasword=input(\"ingrese una contraseña numerica de 3 digitos \")\n",
        "if pasword==\"369\":\n",
        "  print(\"acceso autorizado\")\n",
        "else:\n",
        "  print(\"acceso denegado\")\n",
        "\n",
        "\n",
        "#END"
      ],
      "metadata": {
        "id": "d95lnFx3QYFL",
        "outputId": "dcdcf3ff-1dd9-40f6-957e-e05bdb209987",
        "colab": {
          "base_uri": "https://localhost:8080/"
        }
      },
      "execution_count": 8,
      "outputs": [
        {
          "output_type": "stream",
          "name": "stdout",
          "text": [
            "ingrese una contraseña numerica de 3 digitos 369\n",
            "acceso autorizado\n"
          ]
        }
      ]
    },
    {
      "cell_type": "markdown",
      "source": [
        "###**Pregunta 8:**\n",
        "**Vocales seguidas**\n",
        "\n",
        "Ingresa dos letras, determina si ambas son vocales (mayúsculas o minúsculas).\n"
      ],
      "metadata": {
        "id": "Ltt7Y9EhQSaa"
      }
    },
    {
      "cell_type": "code",
      "source": [
        "#Ejemplo:\n",
        "#Entrada: a, E\n",
        "#Salida: Ambas son vocales"
      ],
      "metadata": {
        "id": "H_h9E0CoQTMS"
      },
      "execution_count": null,
      "outputs": []
    },
    {
      "cell_type": "code",
      "source": [
        "# Your code starts here\n",
        "vocales=\"aeiouAEIOU\"\n",
        "letra1=input(\"ingrese una letra \")\n",
        "letra2=input(\"ingrese otra letra \")\n",
        "cond=True\n",
        "while cond:\n",
        "  if len(letra1)==1 and len(letra2)==1:\n",
        "    cond=False\n",
        "  else:\n",
        "    letra1=input(\"ingrese una letra \")\n",
        "    letra2=input(\"ingrese otra letra \")\n",
        "\n",
        "if letra1 in vocales and letra2 in vocales:\n",
        "  print(\"ambas letras son vocales\")\n",
        "elif letra1 in vocales and letra2 not in vocales:\n",
        "  print(f\"la {letra1} es vocal, la {letra2} no es vocal\")\n",
        "elif letra1 not in vocales and letra2 in vocales:\n",
        "  print(f\"la {letra1} no es vocal, la {letra2} es vocal\")\n",
        "else:\n",
        "  print(\"las dos letras no son vocales\")\n",
        "\n",
        "\n",
        "\n",
        "\n",
        "# Your code ends here"
      ],
      "metadata": {
        "id": "tqwQPMJ9QVRK",
        "outputId": "79fc1482-6d24-4080-a5e3-145ffa10778e",
        "colab": {
          "base_uri": "https://localhost:8080/"
        }
      },
      "execution_count": 13,
      "outputs": [
        {
          "output_type": "stream",
          "name": "stdout",
          "text": [
            "ingrese una letra a\n",
            "ingrese otra letra E\n",
            "ambas letras son vocales\n"
          ]
        }
      ]
    },
    {
      "cell_type": "markdown",
      "source": [
        "---\n",
        "\n",
        "# Gracias por completar este laboratorio!\n",
        "\n",
        "---\n"
      ],
      "metadata": {
        "id": "eu9RJbEMRbUd"
      }
    }
  ]
}