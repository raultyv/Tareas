{
  "nbformat": 4,
  "nbformat_minor": 0,
  "metadata": {
    "colab": {
      "provenance": [],
      "include_colab_link": true
    },
    "kernelspec": {
      "name": "python3",
      "display_name": "Python 3"
    },
    "language_info": {
      "name": "python"
    }
  },
  "cells": [
    {
      "cell_type": "markdown",
      "metadata": {
        "id": "view-in-github",
        "colab_type": "text"
      },
      "source": [
        "<a href=\"https://colab.research.google.com/github/raultyv/Tareas/blob/main/02_estructuras_de_datos_LAB.ipynb\" target=\"_parent\"><img src=\"https://colab.research.google.com/assets/colab-badge.svg\" alt=\"Open In Colab\"/></a>"
      ]
    },
    {
      "cell_type": "markdown",
      "source": [
        "<img src=\"https://www.ctic.uni.edu.pe/wp-content/uploads/2022/04/588px-x-348px-web-1.png\" alt=\"HTML5 Icon\" width=\"900\" height=\"350\" >\n"
      ],
      "metadata": {
        "id": "a2Ojkh4ciEiA"
      }
    },
    {
      "cell_type": "markdown",
      "source": [
        "<h1 align=center><font size = 5>ESTRUCTURAS DE DATOS - PARTE 1\n",
        "</font></h1>\n",
        "\n",
        "---"
      ],
      "metadata": {
        "id": "-amNk-kqiHO2"
      }
    },
    {
      "cell_type": "markdown",
      "source": [
        "## Tabla de Contenidos\n",
        "\n",
        "<div class=\"alert alert-block alert-info\" style=\"margin-top: 20px\">\n",
        "\n",
        "<font size = 3>\n",
        "    \n",
        "1. <a href=\"#item31\">Listas</a>  \n",
        "2. <a href=\"#item31\">Tuplas</a>  \n",
        "3. <a href=\"#item31\">Slicing</a>  \n",
        "4. <a href=\"#item31\">List comprehension</a>  \n",
        "</font>\n",
        "</div>\n",
        "\n",
        "---\n",
        "\n",
        "\n",
        "\n"
      ],
      "metadata": {
        "id": "qJ6hLRHNiQCG"
      }
    },
    {
      "cell_type": "markdown",
      "source": [
        "## <b>Objetivo:</b>\n",
        "\n",
        "Este laboratorio está diseñado para cubrir los conceptos de listas, tuplas, slicing, y listas por comprensión, con ejercicios detallados para practicar la manipulación de estos tipos de datos en Python.\n",
        "\n",
        "---"
      ],
      "metadata": {
        "id": "1XCUOST_igWZ"
      }
    },
    {
      "cell_type": "markdown",
      "source": [
        "## <b>1. Trabajando con Listas numéricas</b>\n",
        "\n",
        "Las listas son una secuencia de elementos que pueden ser modificados después de su creación. Vamos a realizar varias operaciones con listas numéricas, utilizando también la función range() para generar secuencias de números.\n",
        "\n"
      ],
      "metadata": {
        "id": "MWslSPQKjLYb"
      }
    },
    {
      "cell_type": "markdown",
      "source": [
        "### Ejemplo 1.1: Creación de listas\n"
      ],
      "metadata": {
        "id": "WVuNuyWsjXsU"
      }
    },
    {
      "cell_type": "code",
      "source": [
        "my_list = [1, 2, 3, 5 , 10,  'hola', 'a', [1, 2, '3']]\n",
        "print(my_list)\n"
      ],
      "metadata": {
        "id": "PipEewFTEOzw",
        "outputId": "608db886-90ea-400b-d529-898d96a6b12a",
        "colab": {
          "base_uri": "https://localhost:8080/"
        }
      },
      "execution_count": 2,
      "outputs": [
        {
          "output_type": "stream",
          "name": "stdout",
          "text": [
            "[1, 2, 3, 5, 10, 'hola', 'a', [1, 2, '3']]\n"
          ]
        }
      ]
    },
    {
      "cell_type": "code",
      "source": [
        "print(my_list)"
      ],
      "metadata": {
        "colab": {
          "base_uri": "https://localhost:8080/"
        },
        "id": "KxEKK7FXEdO7",
        "outputId": "2f48f243-dbd6-4c76-ccce-2f6df4644c52"
      },
      "execution_count": null,
      "outputs": [
        {
          "output_type": "stream",
          "name": "stdout",
          "text": [
            "[1, 2, 3, 5, 10, 'hola', 'a', [1, 2, '3']]\n"
          ]
        }
      ]
    },
    {
      "cell_type": "code",
      "source": [
        "students = ['Angelo', 'Diego', 'Edgar', 'Edwin', 'Enrique',['Estuardo','Jhon','Julio'],'Adolfo']\n",
        "students\n",
        "nested=students[5]\n",
        "students[3:5] #ans 1\n",
        "nested[1:3] #ans 2\n",
        "students[-2][1:3] #ans 2\n",
        "students[-4] #ans 3"
      ],
      "metadata": {
        "colab": {
          "base_uri": "https://localhost:8080/"
        },
        "id": "cfq1oJTLEsA2",
        "outputId": "66687aa8-39e0-4f64-c0b0-269fda4bace1"
      },
      "execution_count": 28,
      "outputs": [
        {
          "output_type": "execute_result",
          "data": {
            "text/plain": [
              "['Edwin', 'Enrique']"
            ]
          },
          "metadata": {},
          "execution_count": 28
        }
      ]
    },
    {
      "cell_type": "code",
      "source": [
        "#    -5      -4        -3        -2       -1\n",
        "#    0.       1.        2.      3.        4\n",
        "#['Angelo', 'Diego', 'Edgar', 'Edwin', 'Enrique']\n"
      ],
      "metadata": {
        "id": "U5MXz_e8E5kZ"
      },
      "execution_count": null,
      "outputs": []
    },
    {
      "cell_type": "code",
      "source": [
        "students[2]\n",
        "students[2: 5]\n",
        "students[1:3]"
      ],
      "metadata": {
        "colab": {
          "base_uri": "https://localhost:8080/"
        },
        "id": "fsgUcamWFVgl",
        "outputId": "d31a10ec-fde8-4c85-aadc-981140c7d24a"
      },
      "execution_count": 13,
      "outputs": [
        {
          "output_type": "execute_result",
          "data": {
            "text/plain": [
              "['Diego', 'Edgar']"
            ]
          },
          "metadata": {},
          "execution_count": 13
        }
      ]
    },
    {
      "cell_type": "code",
      "source": [
        "students[3]"
      ],
      "metadata": {
        "colab": {
          "base_uri": "https://localhost:8080/",
          "height": 35
        },
        "id": "UypQMfueFfx8",
        "outputId": "df772bc3-c9ce-4f9c-b34c-5792aaea268e"
      },
      "execution_count": 5,
      "outputs": [
        {
          "output_type": "execute_result",
          "data": {
            "text/plain": [
              "'Edwin'"
            ],
            "application/vnd.google.colaboratory.intrinsic+json": {
              "type": "string"
            }
          },
          "metadata": {},
          "execution_count": 5
        }
      ]
    },
    {
      "cell_type": "code",
      "source": [
        "students[-4]"
      ],
      "metadata": {
        "colab": {
          "base_uri": "https://localhost:8080/",
          "height": 35
        },
        "id": "ufBGR5JpF-pq",
        "outputId": "8c429eda-4ec3-4a02-c4dc-c64fa7e532f2"
      },
      "execution_count": 6,
      "outputs": [
        {
          "output_type": "execute_result",
          "data": {
            "text/plain": [
              "'Diego'"
            ],
            "application/vnd.google.colaboratory.intrinsic+json": {
              "type": "string"
            }
          },
          "metadata": {},
          "execution_count": 6
        }
      ]
    },
    {
      "cell_type": "code",
      "source": [
        "# Slicing\n",
        "#[2 - 4>\n",
        "students[2:4]"
      ],
      "metadata": {
        "colab": {
          "base_uri": "https://localhost:8080/"
        },
        "id": "UcJxYVYuGHaA",
        "outputId": "e0cbf65b-e4dd-4996-9ffd-e9728756cb0e"
      },
      "execution_count": 11,
      "outputs": [
        {
          "output_type": "execute_result",
          "data": {
            "text/plain": [
              "['Edgar', 'Edwin']"
            ]
          },
          "metadata": {},
          "execution_count": 11
        }
      ]
    },
    {
      "cell_type": "code",
      "source": [
        "#[-3 - -1>\n",
        "students[-3:-1]"
      ],
      "metadata": {
        "colab": {
          "base_uri": "https://localhost:8080/"
        },
        "id": "IqER2YHLHILD",
        "outputId": "8c183d98-936d-42c3-a04d-4bbb36470c0f"
      },
      "execution_count": 10,
      "outputs": [
        {
          "output_type": "execute_result",
          "data": {
            "text/plain": [
              "['Edgar', 'Edwin']"
            ]
          },
          "metadata": {},
          "execution_count": 10
        }
      ]
    },
    {
      "cell_type": "code",
      "source": [
        "\n",
        "my_list = [1, 2, 3, 4, 5, 6, [7, 8, 9], 10, 11, 12]\n",
        "\n",
        "print(my_list[7])\n",
        "print(my_list[-5])\n",
        "\n",
        "print(my_list[0: 3])\n",
        "\n",
        "print(my_list[-3:])\n",
        "print(my_list[5:])"
      ],
      "metadata": {
        "colab": {
          "base_uri": "https://localhost:8080/"
        },
        "id": "APpfOpVSHhfm",
        "outputId": "b29c449f-fbfd-4e31-8af1-f4ae43ac90bd"
      },
      "execution_count": null,
      "outputs": [
        {
          "output_type": "stream",
          "name": "stdout",
          "text": [
            "8\n",
            "8\n",
            "[1, 2, 3]\n",
            "[10, 11, 12]\n",
            "[6, 7, 8, 9, 10, 11, 12]\n"
          ]
        }
      ]
    },
    {
      "cell_type": "code",
      "source": [
        "my_list = [1, 2, 3, 4, 5, 6, [7, 8, 9], 10, 11, 12]\n",
        "\n",
        "# 1. con indice negativo [3, 4, 5]\n",
        "# 2. extrae el listado [7, 8, 9]\n",
        "# 3. extrae el valor 8\n",
        "# 4. extrae el listado [[7, 8, 9], 10, 11, 12]\n",
        "\n",
        "# 1. [>  inicio,  fin +1\n",
        "print(my_list[2:5])\n",
        "print(my_list[-8:-5])\n",
        "\n",
        "# 2.\n",
        "print(my_list[6])\n",
        "print(my_list[-4])\n",
        "\n",
        "# 3.\n",
        "print(my_list[6][1])\n",
        "\n",
        "# 4.\n",
        "print(my_list[6:])\n"
      ],
      "metadata": {
        "colab": {
          "base_uri": "https://localhost:8080/"
        },
        "id": "oOCbWT5TI5aR",
        "outputId": "ab913077-2ae6-417e-8c3e-1236d4dc84c7"
      },
      "execution_count": null,
      "outputs": [
        {
          "output_type": "stream",
          "name": "stdout",
          "text": [
            "[3, 4, 5]\n",
            "[3, 4, 5]\n",
            "[7, 8, 9]\n",
            "[7, 8, 9]\n",
            "8\n",
            "[[7, 8, 9], 10, 11, 12]\n"
          ]
        }
      ]
    },
    {
      "cell_type": "code",
      "source": [
        "print(my_list[:5])\n"
      ],
      "metadata": {
        "colab": {
          "base_uri": "https://localhost:8080/"
        },
        "id": "qrV1KcHzQE4o",
        "outputId": "fd2c8aaa-ce4a-4331-cd7c-a3c4231e5f92"
      },
      "execution_count": null,
      "outputs": [
        {
          "output_type": "stream",
          "name": "stdout",
          "text": [
            "[1, 2, 3, 4, 5]\n"
          ]
        }
      ]
    },
    {
      "cell_type": "code",
      "source": [
        "a = my_list[6]\n",
        "a[1]"
      ],
      "metadata": {
        "colab": {
          "base_uri": "https://localhost:8080/"
        },
        "id": "d_6KrUN3OC-E",
        "outputId": "861b18ca-5617-4754-979d-e6a2be44db3c"
      },
      "execution_count": null,
      "outputs": [
        {
          "output_type": "execute_result",
          "data": {
            "text/plain": [
              "8"
            ]
          },
          "metadata": {},
          "execution_count": 33
        }
      ]
    },
    {
      "cell_type": "code",
      "source": [
        "len(my_list)"
      ],
      "metadata": {
        "colab": {
          "base_uri": "https://localhost:8080/"
        },
        "id": "NOFnfQQ5OKg-",
        "outputId": "faaa5ecc-cd00-4e20-e675-47f3883f4671"
      },
      "execution_count": null,
      "outputs": [
        {
          "output_type": "execute_result",
          "data": {
            "text/plain": [
              "10"
            ]
          },
          "metadata": {},
          "execution_count": 43
        }
      ]
    },
    {
      "cell_type": "code",
      "source": [
        "list_a = ['R', 'Python', 'C++']\n",
        "list_b = ['spark', 'julia', 'pytorch']\n",
        "\n",
        "list_a + list_b\n",
        "len(list_b+list_a) #contabiliza el numero de elementos"
      ],
      "metadata": {
        "colab": {
          "base_uri": "https://localhost:8080/"
        },
        "id": "hgxbGMfsQclq",
        "outputId": "ab917197-1512-4ce2-e428-b48e709fbbeb"
      },
      "execution_count": 32,
      "outputs": [
        {
          "output_type": "execute_result",
          "data": {
            "text/plain": [
              "6"
            ]
          },
          "metadata": {},
          "execution_count": 32
        }
      ]
    },
    {
      "cell_type": "code",
      "source": [
        "list_a.append(['spark', 'julia', 'pytorch'])\n",
        "print(list_a)"
      ],
      "metadata": {
        "colab": {
          "base_uri": "https://localhost:8080/"
        },
        "id": "C0O7PMxfQ2sf",
        "outputId": "e05957f8-6f46-454a-fed5-bf5666c596b5"
      },
      "execution_count": null,
      "outputs": [
        {
          "output_type": "stream",
          "name": "stdout",
          "text": [
            "['R', 'Python', 'C++', 'spark', 'julia', 'pytorch', ['spark', 'julia', 'pytorch'], ['spark', 'julia', 'pytorch']]\n"
          ]
        }
      ]
    },
    {
      "cell_type": "code",
      "source": [
        "# ¿Como agregar elementos dentro de una lista con IA?\n",
        "# append : agrega valores  la derecha\n",
        "# insert: inseta elementos a una lista pero en una posicion donde el usuario indique moviendo todos los demas elementos a la derecha.\n",
        "\n",
        "\n",
        "my_list=[]\n",
        "my_list.append('Daniel')\n",
        "my_list.append('Ramiro')\n",
        "my_list.append('Herles')\n",
        "my_list.insert(0, 'Jhon')\n",
        "my_list.insert(2, 'Edgar')\n",
        "my_list.insert(-1, 'Raul')\n",
        "my_list\n",
        "\n"
      ],
      "metadata": {
        "id": "wexzlg56ZKRg",
        "outputId": "b5511b69-2125-42e7-c769-c1d6b30b9898",
        "colab": {
          "base_uri": "https://localhost:8080/"
        }
      },
      "execution_count": 36,
      "outputs": [
        {
          "output_type": "execute_result",
          "data": {
            "text/plain": [
              "['Jhon', 'Daniel', 'Edgar', 'Ramiro', 'Raul', 'Herles']"
            ]
          },
          "metadata": {},
          "execution_count": 36
        }
      ]
    },
    {
      "cell_type": "code",
      "source": [
        "\n",
        "# Escribe un programa que va a recibir el nombre de los estudiantes y los va a guardar en una lista\n",
        "# modifica el programa para que cada estudiante nuevo y su materia se guarde en el primer slot de la lista y no en el ultimo\n",
        "\n",
        "list_names = []\n",
        "while True:\n",
        "    name = input('Hola, ¿Cuál es tu nombre? (escriba exit para salir): ')\n",
        "    if name == 'exit':\n",
        "        break\n",
        "\n",
        "    subject=input(f'¿Que materia esta cursando {name}? ')\n",
        "    student_info=[name, subject]\n",
        "    list_names.insert(0, student_info)\n",
        "\n",
        "print('lista actualizada:', list_names)"
      ],
      "metadata": {
        "colab": {
          "base_uri": "https://localhost:8080/"
        },
        "id": "fpjvIsyIRTuO",
        "outputId": "1491c119-8e07-41eb-c7b0-9371a15f9e6c"
      },
      "execution_count": 38,
      "outputs": [
        {
          "output_type": "stream",
          "name": "stdout",
          "text": [
            "Hola, ¿Cuál es tu nombre? (escriba exit para salir): raul \n",
            "f¿Que materia esta cursando {name}? fisica\n",
            "Hola, ¿Cuál es tu nombre? (escriba exit para salir): juan\n",
            "f¿Que materia esta cursando {name}? quimica\n",
            "Hola, ¿Cuál es tu nombre? (escriba exit para salir): marcos\n",
            "f¿Que materia esta cursando {name}? matematica\n",
            "Hola, ¿Cuál es tu nombre? (escriba exit para salir): exit\n",
            "lista actualizada: [['marcos', 'matematica'], ['juan', 'quimica'], ['raul ', 'fisica']]\n"
          ]
        }
      ]
    },
    {
      "cell_type": "code",
      "source": [
        "list_names[-2]"
      ],
      "metadata": {
        "colab": {
          "base_uri": "https://localhost:8080/",
          "height": 35
        },
        "id": "pbLHPwTbSt5k",
        "outputId": "4b64ea98-e045-4d1b-edcf-12bb1012ca47"
      },
      "execution_count": null,
      "outputs": [
        {
          "output_type": "execute_result",
          "data": {
            "text/plain": [
              "'Geraldo'"
            ],
            "application/vnd.google.colaboratory.intrinsic+json": {
              "type": "string"
            }
          },
          "metadata": {},
          "execution_count": 56
        }
      ]
    },
    {
      "cell_type": "code",
      "source": [
        "# Crear una lista de frutas\n",
        "frutas = [\"manzana\", \"banana\", \"naranja\", \"uva\", \"pera\"]\n"
      ],
      "metadata": {
        "id": "_nYyKe_bjHY5"
      },
      "execution_count": null,
      "outputs": []
    },
    {
      "cell_type": "code",
      "execution_count": null,
      "metadata": {
        "id": "MNGFUaC6hyfi"
      },
      "outputs": [],
      "source": [
        "\n",
        "# Acceder a elementos individuales\n",
        "primera_fruta = frutas[0]\n",
        "ultima_fruta = frutas[-1]\n",
        "print(primera_fruta, ultima_fruta)\n",
        "\n"
      ]
    },
    {
      "cell_type": "code",
      "source": [
        "# Modificar un elemento\n",
        "frutas[1] = \"plátano\"\n",
        "print(frutas)"
      ],
      "metadata": {
        "id": "hbnOS3lsjdWc"
      },
      "execution_count": null,
      "outputs": []
    },
    {
      "cell_type": "markdown",
      "source": [
        "### Ejemplo 1.2: Métodos útiles de listas\n",
        "\n"
      ],
      "metadata": {
        "id": "oa1fRACgjlV_"
      }
    },
    {
      "cell_type": "code",
      "source": [
        "# Agregar un elemento al final\n",
        "frutas.append(\"kiwi\")\n",
        "print(frutas)\n"
      ],
      "metadata": {
        "id": "yrlpPiGWjol1"
      },
      "execution_count": null,
      "outputs": []
    },
    {
      "cell_type": "code",
      "source": [
        "\n",
        "# Insertar un elemento en una posición específica\n",
        "frutas.insert(2, \"mango\")\n",
        "print(frutas)\n"
      ],
      "metadata": {
        "id": "wx9q6KbWnZ56"
      },
      "execution_count": null,
      "outputs": []
    },
    {
      "cell_type": "code",
      "source": [
        "students=['Jhon','Daniel','Ramiro','Herles','Alejandro']\n",
        "students_b=['Sherly','Jorge', 'Bruno']\n",
        "#extend es un metodo que realiza un in place, modifica el input inicial\n",
        "students+students_b #no mdifica, solo contatena\n",
        "students.extend(students_b) #modifica el input inicial\n",
        "students\n",
        "\n"
      ],
      "metadata": {
        "id": "7f8qgBfufRcf",
        "outputId": "7f58c3f2-d138-426f-ede9-b0461163f661",
        "colab": {
          "base_uri": "https://localhost:8080/"
        }
      },
      "execution_count": 41,
      "outputs": [
        {
          "output_type": "execute_result",
          "data": {
            "text/plain": [
              "['Jhon', 'Daniel', 'Ramiro', 'Herles', 'Alejandro', 'Sherly', 'Jorge', 'Bruno']"
            ]
          },
          "metadata": {},
          "execution_count": 41
        }
      ]
    },
    {
      "cell_type": "code",
      "source": [
        "\n",
        "\n",
        "students=['Jhon','Daniel','Ramiro','Herles','Alejandro']\n",
        "students_b=['Sherly','Jorge', 'Bruno']\n",
        "students.extend(students_b)\n",
        "\n",
        "#elimine de students a los estudiantes students_b usando del\n",
        "#del students[-3:]\n",
        "del students[-len(students_b):]\n",
        "print(students)\n"
      ],
      "metadata": {
        "id": "X8Si8MYLgPUy",
        "outputId": "ca46fd8a-3046-42b9-cfd9-07d8176fa11d",
        "colab": {
          "base_uri": "https://localhost:8080/"
        }
      },
      "execution_count": 49,
      "outputs": [
        {
          "output_type": "stream",
          "name": "stdout",
          "text": [
            "['Jhon', 'Daniel', 'Ramiro', 'Herles', 'Alejandro']\n"
          ]
        }
      ]
    },
    {
      "cell_type": "code",
      "source": [
        "#pop elimina siempre el ultimo elemento / el valor que elimina lo genera como un objeto de retorno para otras utilidades\n",
        "students=['Jhon','Daniel','Ramiro','Herles','Alejandro']\n",
        "for x in students:\n",
        "  student=students.pop()\n",
        "  print(f'el alumno {student} fue eliminado')\n",
        "\n"
      ],
      "metadata": {
        "id": "7DjzwhOUiIOl",
        "outputId": "13aa8d57-2f29-492d-d92b-5b8af962bdff",
        "colab": {
          "base_uri": "https://localhost:8080/"
        }
      },
      "execution_count": 52,
      "outputs": [
        {
          "output_type": "stream",
          "name": "stdout",
          "text": [
            "el alumno Alejandro fue eliminado\n",
            "el alumno Herles fue eliminado\n",
            "el alumno Ramiro fue eliminado\n"
          ]
        }
      ]
    },
    {
      "cell_type": "code",
      "source": [
        "#Crea un programa que reciba una lista de compras hasta que el usuario decida que esta listo, posteriormente que envie una orden de procesamiento por cada pedido y que\n",
        "# elimine paulatinamente cada uno del carrito de compras mientras va proccesando\n",
        "\n",
        "carrito_compras = []\n",
        "\n",
        "print(\"Ingrese los artículos para su carrito de compras (escriba 'fin' para terminar):\")\n",
        "\n",
        "while True:\n",
        "    articulo = input(\"> \") #indica tus articulos\n",
        "    if articulo.lower() == 'fin': #listo\n",
        "        break\n",
        "    carrito_compras.append(articulo)\n",
        "\n",
        "print(\"\\nProcesando carrito de compras:\")\n",
        "\n",
        "while carrito_compras:\n",
        "    articulo_a_procesar = carrito_compras.pop(0) #procesando\n",
        "    print(f\"Procesando: {articulo_a_procesar}\")\n",
        "    print(f\"Artículos restantes: {carrito_compras}\") #faltante\n",
        "\n",
        "print(\"\\n¡Carrito de compras procesado completamente!\")"
      ],
      "metadata": {
        "id": "WLCyatNHjNtt",
        "outputId": "e7fa3576-0d7c-4836-8fc6-06d650c529cc",
        "colab": {
          "base_uri": "https://localhost:8080/"
        }
      },
      "execution_count": 53,
      "outputs": [
        {
          "output_type": "stream",
          "name": "stdout",
          "text": [
            "Ingrese los artículos para su carrito de compras (escriba 'fin' para terminar):\n",
            "> fruta\n",
            "> vegetales\n",
            "> carne\n",
            "> fin\n",
            "\n",
            "Procesando carrito de compras:\n",
            "Procesando: fruta\n",
            "Artículos restantes: ['vegetales', 'carne']\n",
            "Procesando: vegetales\n",
            "Artículos restantes: ['carne']\n",
            "Procesando: carne\n",
            "Artículos restantes: []\n",
            "\n",
            "¡Carrito de compras procesado completamente!\n"
          ]
        }
      ]
    },
    {
      "cell_type": "code",
      "source": [
        "stock_items=['peras','naranja','papaya','manzana','piña']\n",
        "stock_items.remove('manzana')\n",
        "stock_items\n"
      ],
      "metadata": {
        "id": "fbkbQFyFr9YV",
        "outputId": "de417f2b-d0b1-43f5-f1ec-ba1a623951a3",
        "colab": {
          "base_uri": "https://localhost:8080/"
        }
      },
      "execution_count": 54,
      "outputs": [
        {
          "output_type": "execute_result",
          "data": {
            "text/plain": [
              "['peras', 'naranja', 'papaya', 'piña']"
            ]
          },
          "metadata": {},
          "execution_count": 54
        }
      ]
    },
    {
      "cell_type": "code",
      "source": [
        "# Eliminar un elemento\n",
        "frutas.remove(\"naranja\")\n",
        "print(frutas)\n"
      ],
      "metadata": {
        "id": "XVXLcedpna3G"
      },
      "execution_count": null,
      "outputs": []
    },
    {
      "cell_type": "code",
      "source": [
        "# Ordenar una lista\n",
        "stock_items=['peras','naranja','papaya','manzana','piña']\n",
        "stock_items.sort()\n",
        "print(stock_items)\n"
      ],
      "metadata": {
        "id": "v0vdv2Wknb4y",
        "outputId": "14966097-b5c3-4d34-d1cf-22ab5f83b277",
        "colab": {
          "base_uri": "https://localhost:8080/"
        }
      },
      "execution_count": 56,
      "outputs": [
        {
          "output_type": "stream",
          "name": "stdout",
          "text": [
            "['manzana', 'naranja', 'papaya', 'peras', 'piña']\n"
          ]
        }
      ]
    },
    {
      "cell_type": "code",
      "source": [
        "# Ordenar en reversa (aplica para numeros tambien)\n",
        "stock_items.sort(reverse=True)\n",
        "print(stock_items)"
      ],
      "metadata": {
        "id": "Z6ermqmGncXu",
        "outputId": "ec5edfad-cbf9-4836-a735-3d5b0c195908",
        "colab": {
          "base_uri": "https://localhost:8080/"
        }
      },
      "execution_count": 58,
      "outputs": [
        {
          "output_type": "stream",
          "name": "stdout",
          "text": [
            "['piña', 'peras', 'papaya', 'naranja', 'manzana']\n"
          ]
        }
      ]
    },
    {
      "cell_type": "markdown",
      "source": [
        "### Ejemplo 1.3: Operaciones numéricas con listas\n",
        "\n"
      ],
      "metadata": {
        "id": "zxB2ys0rm21v"
      }
    },
    {
      "cell_type": "code",
      "source": [
        "numbers = [3,7,1,2,6,4]\n",
        "numbers.sort(reverse=True) #se reasignan los valores (ordenamiento) es un in place\n",
        "print(numbers)\n",
        "numbers[0]\n"
      ],
      "metadata": {
        "id": "ZhOVt1LUtQTp",
        "outputId": "9d6bf7bc-f029-41aa-c0e4-593ab2635278",
        "colab": {
          "base_uri": "https://localhost:8080/"
        }
      },
      "execution_count": 60,
      "outputs": [
        {
          "output_type": "stream",
          "name": "stdout",
          "text": [
            "[7, 6, 4, 3, 2, 1]\n"
          ]
        },
        {
          "output_type": "execute_result",
          "data": {
            "text/plain": [
              "7"
            ]
          },
          "metadata": {},
          "execution_count": 60
        }
      ]
    },
    {
      "cell_type": "code",
      "source": [
        "numbers = [3,7,1,2,6,4]\n",
        "sorted(numbers) #pero mantiene la lista original, solo muestra una vista reordenada, se le puede asignar a otra lista\n",
        "print(sorted(numbers))"
      ],
      "metadata": {
        "id": "bXeVenX0uR80",
        "outputId": "27cb41ec-9d15-456c-f44b-71f12ffdab14",
        "colab": {
          "base_uri": "https://localhost:8080/"
        }
      },
      "execution_count": 62,
      "outputs": [
        {
          "output_type": "stream",
          "name": "stdout",
          "text": [
            "[1, 2, 3, 4, 6, 7]\n"
          ]
        }
      ]
    },
    {
      "cell_type": "code",
      "source": [
        "stock_items=['peras','naranja','papaya','manzana','piña']\n",
        "stock_items.revers\n",
        "print(stock_items)\n",
        "\n"
      ],
      "metadata": {
        "id": "vHBTov5bu_pQ",
        "outputId": "15d2ca10-aec7-42b3-f9bb-9c695cebb5a0",
        "colab": {
          "base_uri": "https://localhost:8080/"
        }
      },
      "execution_count": 65,
      "outputs": [
        {
          "output_type": "stream",
          "name": "stdout",
          "text": [
            "['peras', 'naranja', 'papaya', 'manzana', 'piña']\n"
          ]
        }
      ]
    },
    {
      "cell_type": "code",
      "source": [
        "digits = [1, 2, 3, 4, 5, 6, 7, 8, 9, 0]\n",
        "\n",
        "print(\"Mínimo:\", min(digits))\n",
        "print(\"Máximo:\", max(digits))\n",
        "print(\"Suma:\", sum(digits))\n",
        "\n",
        "\n",
        "numeros = [1, 2, 3, 4, 5, 6, 7, 8, 9, 10]\n",
        "\n",
        "# Mínimo, máximo y suma\n",
        "print(\"Mínimo:\", min(numeros))\n",
        "print(\"Máximo:\", max(numeros))\n",
        "print(\"Suma total:\", sum(numeros))\n",
        "\n",
        "# Longitud de la lista\n",
        "print(\"Cantidad de elementos:\", len(numeros))\n",
        "\n",
        "# Promedio de los valores en la lista\n",
        "promedio = sum(numeros) / len(numeros)\n",
        "print(\"Promedio:\", promedio)\n"
      ],
      "metadata": {
        "id": "kSOIel4Wm8D2"
      },
      "execution_count": null,
      "outputs": []
    },
    {
      "cell_type": "code",
      "source": [
        "#genera un programa qu permita ingresar el nombre de un estudiante y pregunte la nota de los cursos de matematicas, programacion y estadistica.\n",
        "# luego calcule su promedio y guarde en dos listas separadas su nombre y su nota promedio final. El programa debe terminar cuando el usuario indique salir.\n",
        "\n",
        "nombres = []\n",
        "promedios = []\n",
        "\n",
        "while True:\n",
        "    nombre = input(\"Ingrese el nombre del estudiante (o 'salir' para terminar): \")\n",
        "    if nombre.lower() == 'salir':\n",
        "        break\n",
        "\n",
        "    try:\n",
        "        matematicas = float(input(f\"Ingrese la nota de Matemáticas de {nombre}: \"))\n",
        "        programacion = float(input(f\"Ingrese la nota de Programación de {nombre}: \"))\n",
        "        estadistica = float(input(f\"Ingrese la nota de Estadística de {nombre}: \"))\n",
        "\n",
        "        promedio = (matematicas + programacion + estadistica) / 3\n",
        "\n",
        "        nombres.append(nombre)\n",
        "        promedios.append(promedio)\n",
        "\n",
        "        print(f\"El promedio de {nombre} es: {promedio:.2f}\\n\")\n",
        "\n",
        "    except ValueError:\n",
        "        print(\"Por favor, ingrese notas válidas (números).\\n\")\n",
        "\n",
        "print(\"\\n Resumen de notas\")\n",
        "for i in range(len(nombres)):\n",
        "    print(f\"Estudiante: {nombres[i]}: promedio: {promedios[i]:.2f}\")"
      ],
      "metadata": {
        "id": "cRKvj5jpwYJ1",
        "outputId": "52186fc5-4519-488c-d099-4fac342c0495",
        "colab": {
          "base_uri": "https://localhost:8080/"
        }
      },
      "execution_count": 68,
      "outputs": [
        {
          "output_type": "stream",
          "name": "stdout",
          "text": [
            "Ingrese el nombre del estudiante (o 'salir' para terminar): raul\n",
            "Ingrese la nota de Matemáticas de raul: 18\n",
            "Ingrese la nota de Programación de raul: 19\n",
            "Ingrese la nota de Estadística de raul: 15\n",
            "El promedio de raul es: 17.33\n",
            "\n",
            "Ingrese el nombre del estudiante (o 'salir' para terminar): juan\n",
            "Ingrese la nota de Matemáticas de juan: 17\n",
            "Ingrese la nota de Programación de juan: 14\n",
            "Ingrese la nota de Estadística de juan: 15\n",
            "El promedio de juan es: 15.33\n",
            "\n",
            "Ingrese el nombre del estudiante (o 'salir' para terminar): salir\n",
            "\n",
            " Resumen de notas\n",
            "Estudiante: raul: promedio: 17.33\n",
            "Estudiante: juan: promedio: 15.33\n"
          ]
        }
      ]
    },
    {
      "cell_type": "code",
      "source": [
        "my_nums = [1, 2, 3, 4, ...... , 99]"
      ],
      "metadata": {
        "id": "HwxxX_yiWDo9"
      },
      "execution_count": null,
      "outputs": []
    },
    {
      "cell_type": "code",
      "source": [
        "#[>\n",
        "for x in range(1, 100):\n",
        "  print(x)"
      ],
      "metadata": {
        "id": "_6HEQeFJWQQ_"
      },
      "execution_count": null,
      "outputs": []
    },
    {
      "cell_type": "markdown",
      "source": [
        "## 1.2: Uso de la función range()\n"
      ],
      "metadata": {
        "id": "x_ULJgErpMDb"
      }
    },
    {
      "cell_type": "markdown",
      "source": [
        "La función range() se utiliza para generar secuencias de números, y es especialmente útil cuando se quiere evitar la creación manual de listas largas de números consecutivos."
      ],
      "metadata": {
        "id": "2gHPgAIxpskX"
      }
    },
    {
      "cell_type": "code",
      "source": [
        "list(range(0,10)) #lo convierte en una lista\n",
        "# range es iterable, permite agregar saltos\n",
        "list(range(0,13,3)) #lo convierte en una lista"
      ],
      "metadata": {
        "id": "eyGm30gE17pZ",
        "outputId": "4ff5bbff-b2e0-45ca-b1eb-81a25c22a89a",
        "colab": {
          "base_uri": "https://localhost:8080/"
        }
      },
      "execution_count": 70,
      "outputs": [
        {
          "output_type": "execute_result",
          "data": {
            "text/plain": [
              "[0, 3, 6, 9, 12]"
            ]
          },
          "metadata": {},
          "execution_count": 70
        }
      ]
    },
    {
      "cell_type": "code",
      "source": [
        "#usando range, imprima los multiplos de 13 menores de 200\n",
        "list(range(0, 200, 13))\n"
      ],
      "metadata": {
        "id": "3zA_sfBB3B58",
        "outputId": "7ab45616-a037-49c6-a84c-4a2a60a11843",
        "colab": {
          "base_uri": "https://localhost:8080/"
        }
      },
      "execution_count": 71,
      "outputs": [
        {
          "output_type": "execute_result",
          "data": {
            "text/plain": [
              "[0, 13, 26, 39, 52, 65, 78, 91, 104, 117, 130, 143, 156, 169, 182, 195]"
            ]
          },
          "metadata": {},
          "execution_count": 71
        }
      ]
    },
    {
      "cell_type": "markdown",
      "source": [
        "### Ejemplo 1.4: Creación de listas con range()\n"
      ],
      "metadata": {
        "id": "zgXTDTTIpvwz"
      }
    },
    {
      "cell_type": "code",
      "source": [
        "# Crear una lista con los números del 1 al 10\n",
        "lista_numeros = list(range(1, 11))\n",
        "print(\"Números del 1 al 10:\", lista_numeros)\n"
      ],
      "metadata": {
        "id": "oSjCMXolp0_a"
      },
      "execution_count": null,
      "outputs": []
    },
    {
      "cell_type": "code",
      "source": [
        "# Crear una lista con los números pares entre 2 y 20\n",
        "pares = list(range(2, 21, 2))\n",
        "print(\"Números pares del 2 al 20:\", pares)\n"
      ],
      "metadata": {
        "id": "irHM5QenptAD"
      },
      "execution_count": null,
      "outputs": []
    },
    {
      "cell_type": "code",
      "source": [
        "# Crear una lista de números en orden inverso (del 10 al 1)\n",
        "reversa = list(range(10, 0, -1))\n",
        "print(\"Números en orden inverso:\", reversa)\n"
      ],
      "metadata": {
        "id": "SFRs3Qv1p56E"
      },
      "execution_count": null,
      "outputs": []
    },
    {
      "cell_type": "code",
      "source": [
        "# Crear una lista de múltiplos de 5 entre 0 y 50\n",
        "multiplos_de_5 = list(range(0, 51, 5))\n",
        "print(\"Múltiplos de 5 entre 0 y 50:\", multiplos_de_5)\n"
      ],
      "metadata": {
        "id": "u9dMaOU8p6UX"
      },
      "execution_count": null,
      "outputs": []
    },
    {
      "cell_type": "markdown",
      "source": [
        "### Ejercicio 1.1: Operaciones numéricas con listas\n",
        "\n",
        "- Crea una lista de números entre 1 y 100 usando la función range() (verás cómo usarla en el próximo ejemplo).\n",
        "\n",
        "- Calcula la media de los valores de la lista usando las funciones sum() y len().\n",
        "\n",
        "- Usa sorted() para crear una lista ordenada inversamente de los primeros 50 números.\n",
        "\n",
        "- Crea una lista que contenga solo los números mayores a 50, multiplicados por 2."
      ],
      "metadata": {
        "id": "H0ED3Dkxm8cd"
      }
    },
    {
      "cell_type": "code",
      "source": [],
      "metadata": {
        "id": "8Yot9kIypKuw"
      },
      "execution_count": null,
      "outputs": []
    },
    {
      "cell_type": "markdown",
      "source": [
        "## <b>2. Listas por Comprensión</b>\n",
        "\n",
        "Las listas por comprensión son una forma concisa de crear listas nuevas a partir de una expresión. Se pueden utilizar para realizar operaciones sobre secuencias de forma más rápida y sin necesidad de ciclos explícitos.\n",
        "\n"
      ],
      "metadata": {
        "id": "8q_I9AOBjpH7"
      }
    },
    {
      "cell_type": "code",
      "source": [
        "for x in [1, 2, 3]:\n",
        "  print(x)"
      ],
      "metadata": {
        "colab": {
          "base_uri": "https://localhost:8080/"
        },
        "id": "FLUk0MHvXh4a",
        "outputId": "785b60a3-a7d7-4ed4-eff8-f645300bf9e6"
      },
      "execution_count": null,
      "outputs": [
        {
          "output_type": "stream",
          "name": "stdout",
          "text": [
            "1\n",
            "2\n",
            "3\n"
          ]
        }
      ]
    },
    {
      "cell_type": "code",
      "source": [
        "[x for x in [1, 2, 3]]"
      ],
      "metadata": {
        "colab": {
          "base_uri": "https://localhost:8080/"
        },
        "id": "1CJJOSSgXnQl",
        "outputId": "f3a5a283-44ce-44d4-b7d2-ea4ef1af83ae"
      },
      "execution_count": null,
      "outputs": [
        {
          "output_type": "execute_result",
          "data": {
            "text/plain": [
              "[1, 2, 3]"
            ]
          },
          "metadata": {},
          "execution_count": 64
        }
      ]
    },
    {
      "cell_type": "code",
      "source": [
        "[x for x in range(1, 11)]"
      ],
      "metadata": {
        "colab": {
          "base_uri": "https://localhost:8080/"
        },
        "id": "rrpmcf42Wwa4",
        "outputId": "9f8af519-4f0a-471e-9094-bfc07225e46e"
      },
      "execution_count": null,
      "outputs": [
        {
          "output_type": "execute_result",
          "data": {
            "text/plain": [
              "[1, 2, 3, 4, 5, 6, 7, 8, 9, 10]"
            ]
          },
          "metadata": {},
          "execution_count": 65
        }
      ]
    },
    {
      "cell_type": "code",
      "source": [
        "from math import log\n",
        "\n",
        "[log(x) for x in range(1, 21)]"
      ],
      "metadata": {
        "colab": {
          "base_uri": "https://localhost:8080/"
        },
        "id": "YK7VOEBEYTtW",
        "outputId": "e70d9b57-84a7-4926-848a-7c290f0c1116"
      },
      "execution_count": null,
      "outputs": [
        {
          "output_type": "execute_result",
          "data": {
            "text/plain": [
              "[0.0,\n",
              " 0.6931471805599453,\n",
              " 1.0986122886681098,\n",
              " 1.3862943611198906,\n",
              " 1.6094379124341003,\n",
              " 1.791759469228055,\n",
              " 1.9459101490553132,\n",
              " 2.0794415416798357,\n",
              " 2.1972245773362196,\n",
              " 2.302585092994046,\n",
              " 2.3978952727983707,\n",
              " 2.4849066497880004,\n",
              " 2.5649493574615367,\n",
              " 2.6390573296152584,\n",
              " 2.70805020110221,\n",
              " 2.772588722239781,\n",
              " 2.833213344056216,\n",
              " 2.8903717578961645,\n",
              " 2.9444389791664403,\n",
              " 2.995732273553991]"
            ]
          },
          "metadata": {},
          "execution_count": 70
        }
      ]
    },
    {
      "cell_type": "code",
      "source": [
        "[x*2 for x in range(100, 501) if x%17 == 0]"
      ],
      "metadata": {
        "colab": {
          "base_uri": "https://localhost:8080/"
        },
        "id": "qpWmt8aiY7MB",
        "outputId": "96072e2b-9a2c-42b4-b26a-f688df9a35df"
      },
      "execution_count": null,
      "outputs": [
        {
          "output_type": "execute_result",
          "data": {
            "text/plain": [
              "[204,\n",
              " 238,\n",
              " 272,\n",
              " 306,\n",
              " 340,\n",
              " 374,\n",
              " 408,\n",
              " 442,\n",
              " 476,\n",
              " 510,\n",
              " 544,\n",
              " 578,\n",
              " 612,\n",
              " 646,\n",
              " 680,\n",
              " 714,\n",
              " 748,\n",
              " 782,\n",
              " 816,\n",
              " 850,\n",
              " 884,\n",
              " 918,\n",
              " 952,\n",
              " 986]"
            ]
          },
          "metadata": {},
          "execution_count": 73
        }
      ]
    },
    {
      "cell_type": "code",
      "source": [
        "features_pas = ['ahorros_prom12', 'abonos_prom12', 'cargos_prom12', 'trxn_prom12']\n",
        "features_rcc = ['deuda_prom12', 'entidades_prom12', 'atraso_prom12']\n",
        "\n",
        "my_list1 = ['pas_'  + x.upper() for x in features_pas]\n",
        "my_list2 =  ['rcc_' + x.upper() for x in features_pas]\n",
        "\n",
        "my_list1 + my_list2"
      ],
      "metadata": {
        "colab": {
          "base_uri": "https://localhost:8080/"
        },
        "id": "W3J7UX4HZiho",
        "outputId": "2f602cdc-2fff-4f7a-ed2e-e57ca9495397"
      },
      "execution_count": null,
      "outputs": [
        {
          "output_type": "execute_result",
          "data": {
            "text/plain": [
              "['pas_AHORROS_PROM12',\n",
              " 'pas_ABONOS_PROM12',\n",
              " 'pas_CARGOS_PROM12',\n",
              " 'pas_TRXN_PROM12',\n",
              " 'rcc_AHORROS_PROM12',\n",
              " 'rcc_ABONOS_PROM12',\n",
              " 'rcc_CARGOS_PROM12',\n",
              " 'rcc_TRXN_PROM12']"
            ]
          },
          "metadata": {},
          "execution_count": 78
        }
      ]
    },
    {
      "cell_type": "markdown",
      "source": [
        "### Ejemplo 2.1: Generación de listas por comprensión\n"
      ],
      "metadata": {
        "id": "o3SzxNcajzk4"
      }
    },
    {
      "cell_type": "code",
      "source": [
        "# Crear una lista de cuadrados de los números del 1 al 10\n",
        "cuadrados = [x**2 for x in range(1, 11)]\n",
        "print(cuadrados)\n",
        "\n"
      ],
      "metadata": {
        "id": "Uu2JI0Ycj7DM"
      },
      "execution_count": null,
      "outputs": []
    },
    {
      "cell_type": "code",
      "source": [
        "# Crear una lista de números pares entre 1 y 20\n",
        "pares = [x for x in range(1, 21) if x % 2 == 0]\n",
        "print(pares)\n"
      ],
      "metadata": {
        "id": "j8UcjDF7j9JX"
      },
      "execution_count": null,
      "outputs": []
    },
    {
      "cell_type": "markdown",
      "source": [
        "### Ejemplo 2.2: Listas por comprensión con manipulación de cadenas\n",
        "\n"
      ],
      "metadata": {
        "id": "v9o0-F4FkBRa"
      }
    },
    {
      "cell_type": "code",
      "source": [
        "# Crear una lista con las primeras letras en mayúsculas de una lista de nombres\n",
        "\n",
        "nombres = [\"juan\", \"pedro\", \"ana\", \"maria\"]\n",
        "nombres_mayuscula = [nombre.capitalize() for nombre in nombres]\n",
        "print(nombres_mayuscula)\n"
      ],
      "metadata": {
        "id": "V3ZGMDOKkY29"
      },
      "execution_count": null,
      "outputs": []
    },
    {
      "cell_type": "markdown",
      "source": [
        "### Ejercicio 2: Creación avanzada con listas por comprensión\n",
        "\n",
        "- Crea una lista de los números impares entre 1 y 50.\n",
        "- Genera una lista con los cubos de los primeros 10 números (1 al 10).\n",
        "- Dada una lista de palabras, crea una nueva lista que contenga las palabras con más de 4 letras en mayúsculas.\n"
      ],
      "metadata": {
        "id": "ONAVddiUkk0I"
      }
    },
    {
      "cell_type": "code",
      "source": [
        "# 1. Crea una lista de los números impares entre 1 y 50.\n",
        "\n",
        "lista_impares = [x for x in range(1,51) if x%2 != 0]\n",
        "print(lista_impares)\n"
      ],
      "metadata": {
        "id": "jfyhX8FmksPF",
        "colab": {
          "base_uri": "https://localhost:8080/"
        },
        "outputId": "72b60267-1e5b-4b39-a2bd-f6415cc4c177"
      },
      "execution_count": null,
      "outputs": [
        {
          "output_type": "stream",
          "name": "stdout",
          "text": [
            "[1, 3, 5, 7, 9, 11, 13, 15, 17, 19, 21, 23, 25, 27, 29, 31, 33, 35, 37, 39, 41, 43, 45, 47, 49]\n"
          ]
        }
      ]
    },
    {
      "cell_type": "code",
      "source": [
        "# 2. Genera una lista con los cubos de los primeros 10 números (1 al 10).\n",
        "\n",
        "[x**3 for x in range(1, 11)]"
      ],
      "metadata": {
        "id": "rfqsAd-Zd941",
        "outputId": "2fdbe516-b3c4-4853-e92b-0e77ddd67e86",
        "colab": {
          "base_uri": "https://localhost:8080/"
        }
      },
      "execution_count": null,
      "outputs": [
        {
          "output_type": "execute_result",
          "data": {
            "text/plain": [
              "[1, 8, 27, 64, 125, 216, 343, 512, 729, 1000]"
            ]
          },
          "metadata": {},
          "execution_count": 81
        }
      ]
    },
    {
      "cell_type": "code",
      "source": [
        "# 3. Dada una lista de palabras, crea una nueva lista que contenga las palabras con más de 4 letras en mayúsculas\n",
        "\n",
        "word_list = []\n",
        "\n",
        "while True:\n",
        "  word = input(\"Ingrese una palabra (escriba exit para salir): \")\n",
        "  if word == \"exit\":\n",
        "    break\n",
        "  else:\n",
        "    word_list.append(word)\n",
        "    print(\"lista actualizada\", word_list)\n",
        "\n",
        "word_mayusculaa = [word.upper() for word in word_list if len(word) > 4]\n",
        "print(word_mayusculaa)"
      ],
      "metadata": {
        "id": "CHMhZlg7e0Vi"
      },
      "execution_count": null,
      "outputs": []
    },
    {
      "cell_type": "code",
      "source": [
        "for x in 'jOhN':\n",
        "    if x == x.upper():\n",
        "        print(x)\n"
      ],
      "metadata": {
        "id": "pyBwaIDlgN6d",
        "outputId": "32bb7b80-5730-4781-832e-14ca0936f5dd",
        "colab": {
          "base_uri": "https://localhost:8080/"
        }
      },
      "execution_count": null,
      "outputs": [
        {
          "output_type": "stream",
          "name": "stdout",
          "text": [
            "O\n",
            "N\n"
          ]
        }
      ]
    },
    {
      "cell_type": "code",
      "source": [
        "word = ''\n",
        "len([x for x in word if x == x.upper()])\n"
      ],
      "metadata": {
        "id": "IXVG9YlygvaK",
        "outputId": "8103b479-9df8-41a1-b1c1-b4fcf97a91c4",
        "colab": {
          "base_uri": "https://localhost:8080/"
        }
      },
      "execution_count": null,
      "outputs": [
        {
          "output_type": "execute_result",
          "data": {
            "text/plain": [
              "2"
            ]
          },
          "metadata": {},
          "execution_count": 89
        }
      ]
    },
    {
      "cell_type": "code",
      "source": [
        "\n",
        "word_list = []\n",
        "\n",
        "while True:\n",
        "  word = input(\"Ingrese una palabra (escriba exit para salir): \")\n",
        "  if word == \"exit\":\n",
        "    break\n",
        "  else:\n",
        "    word_list.append(word)\n",
        "    print(\"lista actualizada\", word_list)\n",
        "\n",
        "word_mayusculaa = [word for word in word_list if len([x for x in word if x == x.upper()]) > 4]\n",
        "print(word_mayusculaa)\n",
        "\n"
      ],
      "metadata": {
        "id": "81aTV_oOhEJH",
        "outputId": "1080cf93-4835-43fb-b304-e9b2a889e010",
        "colab": {
          "base_uri": "https://localhost:8080/"
        }
      },
      "execution_count": null,
      "outputs": [
        {
          "output_type": "stream",
          "name": "stdout",
          "text": [
            "Ingrese una palabra (escriba exit para salir): john\n",
            "lista actualizada ['john']\n",
            "Ingrese una palabra (escriba exit para salir): MIA\n",
            "lista actualizada ['john', 'MIA']\n",
            "Ingrese una palabra (escriba exit para salir): ANGELO\n",
            "lista actualizada ['john', 'MIA', 'ANGELO']\n",
            "Ingrese una palabra (escriba exit para salir): DIEGO\n",
            "lista actualizada ['john', 'MIA', 'ANGELO', 'DIEGO']\n",
            "Ingrese una palabra (escriba exit para salir): sebastian\n",
            "lista actualizada ['john', 'MIA', 'ANGELO', 'DIEGO', 'sebastian']\n",
            "Ingrese una palabra (escriba exit para salir): exit\n",
            "['ANGELO', 'DIEGO']\n"
          ]
        }
      ]
    },
    {
      "cell_type": "code",
      "source": [
        "\n",
        "def greatings():\n",
        "  \"\"\"Esta función saluda a los estudiantes nuevos\"\"\"\n",
        "  print('Bienvenido al curso!')\n"
      ],
      "metadata": {
        "id": "zgk6jHVril_m"
      },
      "execution_count": null,
      "outputs": []
    },
    {
      "cell_type": "code",
      "source": [
        "greatings()"
      ],
      "metadata": {
        "id": "LIQLj6bojbyE",
        "outputId": "36ce2064-3723-423f-d741-95a370cd4e65",
        "colab": {
          "base_uri": "https://localhost:8080/"
        }
      },
      "execution_count": null,
      "outputs": [
        {
          "output_type": "stream",
          "name": "stdout",
          "text": [
            "Bienvenido al curso!\n"
          ]
        }
      ]
    },
    {
      "cell_type": "code",
      "source": [
        "\n",
        "def greatings(name):\n",
        "  \"\"\"Esta función saluda a los estudiantes nuevos\"\"\"\n",
        "  print(f'Bienvenido al curso {name}!')\n",
        "\n"
      ],
      "metadata": {
        "id": "FbzXfVSkjuRP"
      },
      "execution_count": null,
      "outputs": []
    },
    {
      "cell_type": "code",
      "source": [
        "greatings('John')"
      ],
      "metadata": {
        "id": "d8jSxYh6j6dq",
        "outputId": "294d7e1d-43b9-4552-9706-82b40565f0cc",
        "colab": {
          "base_uri": "https://localhost:8080/"
        }
      },
      "execution_count": null,
      "outputs": [
        {
          "output_type": "stream",
          "name": "stdout",
          "text": [
            "Bienvenido al curso John!\n"
          ]
        }
      ]
    },
    {
      "cell_type": "code",
      "source": [
        "greatings('Edwin')"
      ],
      "metadata": {
        "id": "pC_-KvsbkEAN",
        "outputId": "a6238bec-1c72-431c-d0ac-c5116099a674",
        "colab": {
          "base_uri": "https://localhost:8080/"
        }
      },
      "execution_count": null,
      "outputs": [
        {
          "output_type": "stream",
          "name": "stdout",
          "text": [
            "Bienvenido al curso Edwin!\n"
          ]
        }
      ]
    },
    {
      "cell_type": "code",
      "source": [
        "greatings('Edgar')"
      ],
      "metadata": {
        "id": "C-ks16aUkICp",
        "outputId": "62f7da4b-6083-4707-d2dc-cde382f54c47",
        "colab": {
          "base_uri": "https://localhost:8080/"
        }
      },
      "execution_count": null,
      "outputs": [
        {
          "output_type": "stream",
          "name": "stdout",
          "text": [
            "Bienvenido al curso Edgar!\n"
          ]
        }
      ]
    },
    {
      "cell_type": "code",
      "source": [
        "\n",
        "def sum(a, b):\n",
        "  \"\"\"Esta función suma dos argumentos a y b\"\"\"\n",
        "  print(f'la suma es: {a + b}')\n"
      ],
      "metadata": {
        "id": "TqOew5R7kRnB"
      },
      "execution_count": null,
      "outputs": []
    },
    {
      "cell_type": "code",
      "source": [
        "sum(4, 5)"
      ],
      "metadata": {
        "id": "nIM-4R26khBD",
        "outputId": "eaee5b4d-7861-447b-b630-82030ef0ab0b",
        "colab": {
          "base_uri": "https://localhost:8080/"
        }
      },
      "execution_count": null,
      "outputs": [
        {
          "output_type": "stream",
          "name": "stdout",
          "text": [
            "la suma es: 9\n"
          ]
        }
      ]
    },
    {
      "cell_type": "code",
      "source": [
        "sum(5, 12)"
      ],
      "metadata": {
        "id": "9xYkTSNSkjfQ",
        "outputId": "b7477dd3-85ce-4263-d0e6-9d93ab4cd240",
        "colab": {
          "base_uri": "https://localhost:8080/"
        }
      },
      "execution_count": null,
      "outputs": [
        {
          "output_type": "stream",
          "name": "stdout",
          "text": [
            "la suma es: 17\n"
          ]
        }
      ]
    },
    {
      "cell_type": "code",
      "source": [
        "sum?"
      ],
      "metadata": {
        "id": "7Z-CJ-Kok5LI"
      },
      "execution_count": null,
      "outputs": []
    },
    {
      "cell_type": "markdown",
      "source": [
        "## <b>3. Trabajando con Slicing</b>\n"
      ],
      "metadata": {
        "id": "8Pw1lVQAk_1c"
      }
    },
    {
      "cell_type": "markdown",
      "source": [
        "El slicing es una técnica que te permite extraer sublistas de listas existentes, seleccionando elementos de una lista mediante índices."
      ],
      "metadata": {
        "id": "E4pOl2C8lKzF"
      }
    },
    {
      "cell_type": "markdown",
      "source": [
        "### Ejemplo 3.1: Slicing de listas\n"
      ],
      "metadata": {
        "id": "NhyOyyLtnaLV"
      }
    },
    {
      "cell_type": "code",
      "source": [
        "# Crear una lista de letras\n",
        "letras = ['a', 'b', 'c', 'd', 'e', 'f', 'g', 'h']\n",
        "\n"
      ],
      "metadata": {
        "id": "YZkf5aLHmhde"
      },
      "execution_count": null,
      "outputs": []
    },
    {
      "cell_type": "code",
      "source": [
        "# Extraer una subsección de la lista\n",
        "primeras_tres = letras[:3]  # Primeros 3 elementos\n",
        "print(primeras_tres)"
      ],
      "metadata": {
        "id": "qi5sJLuUmR0m"
      },
      "execution_count": null,
      "outputs": []
    },
    {
      "cell_type": "code",
      "source": [
        "desde_el_cuarto = letras[3:]  # Desde el cuarto hasta el final\n",
        "print(desde_el_cuarto)\n"
      ],
      "metadata": {
        "id": "8T_pNL9gmoT8"
      },
      "execution_count": null,
      "outputs": []
    },
    {
      "cell_type": "code",
      "source": [
        "ultimos_dos = letras[-2:]  # Los últimos dos elementos\n",
        "print(ultimos_dos)\n"
      ],
      "metadata": {
        "id": "hSQ9bC3Vmy96"
      },
      "execution_count": null,
      "outputs": []
    },
    {
      "cell_type": "markdown",
      "source": [
        "### Ejemplo 3.2: Slicing con pasos\n"
      ],
      "metadata": {
        "id": "QJzj1X6undzm"
      }
    },
    {
      "cell_type": "code",
      "source": [
        "# Crear una lista de números del 1 al 10\n",
        "numeros = list(range(1, 11))\n"
      ],
      "metadata": {
        "id": "9u0Sho8vno-g"
      },
      "execution_count": null,
      "outputs": []
    },
    {
      "cell_type": "code",
      "source": [
        "\n",
        "# Obtener todos los números en posiciones pares\n",
        "pares = numeros[1::2]  # Inicia en el segundo elemento y salta de 2 en 2\n",
        "print(pares)\n",
        "\n",
        "\n"
      ],
      "metadata": {
        "id": "EADKhXulntOP"
      },
      "execution_count": null,
      "outputs": []
    },
    {
      "cell_type": "code",
      "source": [
        "# Obtener cada tercer número\n",
        "tercios = numeros[::3]\n",
        "print(tercios)"
      ],
      "metadata": {
        "id": "lRCCtFKBnweq"
      },
      "execution_count": null,
      "outputs": []
    },
    {
      "cell_type": "markdown",
      "source": [
        "### Ejercicio 3: Aplicaciones de slicing\n",
        "\n",
        "Crea una lista con los números del 1 al 100. Luego, usando slicing:\n",
        "- Extrae los primeros 10 números.\n",
        "- Extrae los últimos 10 números.\n",
        "- Extrae todos los números en posiciones impares.\n",
        "- Usa slicing para dividir una lista de palabras en dos mitades."
      ],
      "metadata": {
        "id": "vp3MgC__lQyw"
      }
    },
    {
      "cell_type": "code",
      "source": [],
      "metadata": {
        "id": "8wxUXYwOlYNE"
      },
      "execution_count": null,
      "outputs": []
    },
    {
      "cell_type": "markdown",
      "source": [
        "## <b>4. Trabajando con Tuplas\n",
        "</b>"
      ],
      "metadata": {
        "id": "m2oeaICsrlMr"
      }
    },
    {
      "cell_type": "markdown",
      "source": [
        "Las tuplas son como listas, pero inmutables, lo que significa que no se pueden modificar después de su creación. Son útiles para almacenar datos que no deben cambiar."
      ],
      "metadata": {
        "id": "-m-yjEGmrpxH"
      }
    },
    {
      "cell_type": "markdown",
      "source": [
        "### Ejemplo 4.1: Crear y acceder a tuplas\n"
      ],
      "metadata": {
        "id": "iN8wV0F0rsJK"
      }
    },
    {
      "cell_type": "code",
      "source": [
        "# Crear una tupla\n",
        "coordenadas = (10.5, 20.3)\n",
        "\n",
        "# Acceder a los elementos de la tupla\n",
        "print(\"X:\", coordenadas[0])\n",
        "print(\"Y:\", coordenadas[1])\n"
      ],
      "metadata": {
        "id": "cBiHFdW_rqqi"
      },
      "execution_count": null,
      "outputs": []
    },
    {
      "cell_type": "markdown",
      "source": [
        "### Ejemplo 4.2: Intento de modificación de una tupla\n"
      ],
      "metadata": {
        "id": "YIMqOp-erw_K"
      }
    },
    {
      "cell_type": "code",
      "source": [
        "# Crear una tupla\n",
        "dimensiones = (200, 50)\n"
      ],
      "metadata": {
        "id": "4SMEGO6ZrzJj"
      },
      "execution_count": null,
      "outputs": []
    },
    {
      "cell_type": "code",
      "source": [
        "# Intentar modificar la tupla (esto generará un error)\n",
        "# dimensiones[0] = 250  # Descomenta esta línea para ver el error\n"
      ],
      "metadata": {
        "id": "0Zd9AM9Cr2ZN"
      },
      "execution_count": null,
      "outputs": []
    },
    {
      "cell_type": "code",
      "source": [
        "# Reasignar una nueva tupla\n",
        "dimensiones = (400, 100)\n",
        "print(\"Nuevas dimensiones:\", dimensiones)"
      ],
      "metadata": {
        "id": "lIv2eQcmr3aL"
      },
      "execution_count": null,
      "outputs": []
    },
    {
      "cell_type": "markdown",
      "source": [
        "### Ejercicio 4: Trabajando con tuplas\n",
        "- Crea una tupla que almacene las dimensiones de un objeto (ancho, alto).\n",
        "- Intenta modificar un elemento de la tupla y observa el error que genera.\n",
        "- Reescribe la tupla completa con nuevas dimensiones.\n"
      ],
      "metadata": {
        "id": "juG-GKwwr7hC"
      }
    },
    {
      "cell_type": "code",
      "source": [],
      "metadata": {
        "id": "flPWwLBRr-87"
      },
      "execution_count": null,
      "outputs": []
    },
    {
      "cell_type": "markdown",
      "source": [
        "## <b>5. Desafío</b>"
      ],
      "metadata": {
        "id": "K8ioDMpJl8zI"
      }
    },
    {
      "cell_type": "markdown",
      "source": [
        "### Desafío 1: Análisis de ventas de una tienda de ropa\n",
        "\n",
        "Eres el encargado de una tienda de ropa y tienes una lista de ventas diarias para diferentes productos. Cada día, vendes camisetas, pantalones y zapatos. Quieres analizar las ventas para entender mejor el rendimiento de cada producto.\n",
        "\n",
        "<b>Objetivo:</b>\n",
        "\n",
        "- Crea tres listas: una para camisetas, otra para pantalones y una para zapatos, con la cantidad vendida cada día durante una semana.\n",
        "- Usa slicing para extraer las ventas de los últimos 3 días de cada producto.\n",
        "- Usa listas por comprensión para calcular el total de ventas de cada producto y el promedio de ventas diarias.\n",
        "\n",
        "- Clasifica los productos en \"buenas ventas\" o \"malas ventas\" según si el promedio de ventas diarias es mayor o menor a 5.\n",
        "\n",
        "Instrucciones:\n",
        "- Genera los datos de ventas usando listas manualmente o simulándolos con valores constantes.\n",
        "- Calcula el total de ventas por producto usando sum() y el promedio con len().\n",
        "- Usa listas por comprensión para clasificar las ventas de los productos."
      ],
      "metadata": {
        "id": "mQkPuK6ymKTk"
      }
    },
    {
      "cell_type": "code",
      "source": [],
      "metadata": {
        "id": "43HiaKjEmmPg"
      },
      "execution_count": null,
      "outputs": []
    },
    {
      "cell_type": "markdown",
      "source": [
        "---\n",
        "\n",
        "# Gracias por completar este laboratorio!\n",
        "\n",
        "---"
      ],
      "metadata": {
        "id": "_G9dWzTgp6-m"
      }
    }
  ]
}