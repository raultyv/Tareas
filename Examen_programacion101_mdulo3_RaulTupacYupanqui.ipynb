{
  "nbformat": 4,
  "nbformat_minor": 0,
  "metadata": {
    "colab": {
      "provenance": [],
      "include_colab_link": true
    },
    "kernelspec": {
      "name": "python3",
      "display_name": "Python 3"
    },
    "language_info": {
      "name": "python"
    }
  },
  "cells": [
    {
      "cell_type": "markdown",
      "metadata": {
        "id": "view-in-github",
        "colab_type": "text"
      },
      "source": [
        "<a href=\"https://colab.research.google.com/github/raultyv/Tareas/blob/main/Examen_programacion101_mdulo3_RaulTupacYupanqui.ipynb\" target=\"_parent\"><img src=\"https://colab.research.google.com/assets/colab-badge.svg\" alt=\"Open In Colab\"/></a>"
      ]
    },
    {
      "cell_type": "markdown",
      "source": [
        "<img src=\"https://posgrado.utec.edu.pe/sites/default/files/2023-08/Testimonial-home-2.jpg\" alt=\"HTML5 Icon\" width=\"900\" height=\"250\" >"
      ],
      "metadata": {
        "id": "F0pagrVwedlT"
      }
    },
    {
      "cell_type": "markdown",
      "source": [
        "#**Examen Programación 101 – Módulo 3**"
      ],
      "metadata": {
        "id": "n0QIu7WQMANP"
      }
    },
    {
      "cell_type": "markdown",
      "source": [
        "**Contexto:**\n",
        "\n",
        "Estás colaborando con un equipo de analistas que trabaja en el diseño de herramientas básicas para preparar, limpiar y analizar datos antes de que sean utilizados por científicos de datos. Estas herramientas deben ejecutarse en entornos controlados, sin acceso a librerías externas y con requisitos mínimos de procesamiento.\n",
        "\n",
        "Cada ejercicio del examen representa uno de los desafíos que debes resolver como parte del equipo de soporte analítico: desde calcular estadísticas básicas, limpiar entradas de texto, hasta realizar predicciones sencillas con modelos lineales simulados."
      ],
      "metadata": {
        "id": "miMQKZv6MHrC"
      }
    },
    {
      "cell_type": "markdown",
      "source": [
        "\n",
        "\n",
        "**Nombre y Apellido:** **Raul Antonio Tupac Yupanqui Velez**\n",
        "\n",
        "---"
      ],
      "metadata": {
        "id": "ivo0N7RXM0VM"
      }
    },
    {
      "cell_type": "markdown",
      "source": [
        "Duración: 45 minutos\n"
      ],
      "metadata": {
        "id": "5UN_MQy1M76N"
      }
    },
    {
      "cell_type": "markdown",
      "source": [
        "**Instrucciones**\n",
        "\n",
        "Puedes utilizar:\n",
        "\n",
        "- Definición de funciones (def)\n",
        "\n",
        "- Creación de clases (class)\n",
        "\n",
        "- Listas, strings, diccionarios, operadores, condicionales, bucles\n",
        "\n",
        "- Funciones integradas como sum(), len(), max(), min(), sorted()\n",
        "\n",
        "- No uses pandas, numpy, matplotlib, ni lectura de archivos.\n",
        "\n",
        "Se evaluará no solo la respuesta correcta, sino también la claridad del código, las buenas prácticas (nombres descriptivos, comentarios si es necesario), el uso adecuado de estructuras de datos y la lógica general."
      ],
      "metadata": {
        "id": "JXUtBQpVM_Da"
      }
    },
    {
      "cell_type": "markdown",
      "source": [
        "**Pregunta 1 – Estadística simple**"
      ],
      "metadata": {
        "id": "EpERA8PAN-wz"
      }
    },
    {
      "cell_type": "markdown",
      "source": [
        "Dado el siguiente conjunto de datos:\n",
        "```\n",
        "valores = [12, 17, 15, 21, 17, 18, 15, 19, 21, 17]\n",
        "```\n",
        "Escribe una función resumen_estadistico(lista) que retorne un diccionario con las siguientes claves:\n",
        "\n",
        "- \"promedio\": promedio de los valores\n",
        "\n",
        "- \"min\": valor mínimo\n",
        "\n",
        "- \"max\": valor máximo\n",
        "\n",
        "- \"moda\": valor que más veces se repite en la lista"
      ],
      "metadata": {
        "id": "guv8XWUSOBdx"
      }
    },
    {
      "cell_type": "code",
      "execution_count": null,
      "metadata": {
        "id": "_R4-sqZ1LhZL",
        "colab": {
          "base_uri": "https://localhost:8080/"
        },
        "outputId": "a6196fe3-59f9-4c9d-d49d-7d6d62719e93"
      },
      "outputs": [
        {
          "output_type": "stream",
          "name": "stdout",
          "text": [
            "Lista de valores: [12, 17, 15, 21, 17, 18, 15, 19, 21, 17]\n",
            "Resumen estadístico: {'promedio': 17.2, 'min': 12, 'max': 21, 'moda': 17}\n"
          ]
        }
      ],
      "source": [
        "# Your code starts here\n",
        "def resumen_estadistico(lista: list) -> dict:\n",
        "    \"\"\"\n",
        "    Calcula un resumen estadístico básico de una lista de números.\n",
        "\n",
        "    Args:\n",
        "        lista (list): Una lista de números enteros o flotantes.\n",
        "\n",
        "    Returns:\n",
        "        dict: Un diccionario con el promedio, mínimo, máximo y moda de la lista.\n",
        "    \"\"\"\n",
        "    if not lista:\n",
        "        return {\n",
        "            \"promedio\": 0.0,\n",
        "            \"min\": None,\n",
        "            \"max\": None,\n",
        "            \"moda\": None\n",
        "        }\n",
        "\n",
        "    # Calcular promedio\n",
        "    # Se utiliza sum() para la suma total y len() para la cantidad de elementos.\n",
        "    promedio = sum(lista) / len(lista)\n",
        "\n",
        "    # Calcular mínimo y máximo\n",
        "    # Se utilizan las funciones  min() y max().\n",
        "    valor_minimo = min(lista)\n",
        "    valor_maximo = max(lista)\n",
        "\n",
        "    # Calcular moda\n",
        "    # Se construye un diccionario para contar la frecuencia de cada número.\n",
        "    frecuencias = {}\n",
        "    for numero in lista:\n",
        "        frecuencias[numero] = frecuencias.get(numero, 0) + 1\n",
        "\n",
        "    # Encontrar el valor con la frecuencia más alta\n",
        "    moda = None\n",
        "    max_frecuencia = 0\n",
        "\n",
        "    # Iterar sobre las frecuencias para encontrar la moda.\n",
        "    # En caso de empate (varios números con la misma frecuencia más alta),\n",
        "    # se elige el primero que se encuentra.\n",
        "    for numero, frecuencia in frecuencias.items():\n",
        "        if frecuencia > max_frecuencia:\n",
        "            max_frecuencia = frecuencia\n",
        "            moda = numero\n",
        "    return {\n",
        "        \"promedio\": promedio,\n",
        "        \"min\": valor_minimo,\n",
        "        \"max\": valor_maximo,\n",
        "        \"moda\": moda\n",
        "    }\n",
        "\n",
        "# Conjunto de datos de prueba proporcionado\n",
        "valores = [12, 17, 15, 21, 17, 18, 15, 19, 21, 17]\n",
        "\n",
        "# Prueba de la función\n",
        "resumen = resumen_estadistico(valores)\n",
        "print(f\"Lista de valores: {valores}\")\n",
        "print(f\"Resumen estadístico: {resumen}\")\n",
        "\n",
        "# Your code ends here"
      ]
    },
    {
      "cell_type": "markdown",
      "source": [
        "**Pregunta 2 – Limpieza de texto**"
      ],
      "metadata": {
        "id": "3rV2t5cXOOve"
      }
    },
    {
      "cell_type": "markdown",
      "source": [
        "Tienes la siguiente lista con nombres ingresados de forma inconsistente:\n",
        "```\n",
        "nombres = [\" ana \", \"LUIS\", \"cAmila \", \"JORGE\", \" sofiA\"]\n",
        "```\n",
        "Crea una función normalizar_nombres(lista) que:\n",
        "\n",
        "- Elimine espacios adicionales al inicio o final de cada nombre\n",
        "\n",
        "- Convierta todos los nombres a formato título (por ejemplo: \"Camila\")\n",
        "\n",
        "Devuelve una nueva lista con los nombres normalizados."
      ],
      "metadata": {
        "id": "TLFj-jI-OYwu"
      }
    },
    {
      "cell_type": "code",
      "source": [
        "# Your code starts here\n",
        "def normalizar_nombres(lista_nombres: list[str]) -> list[str]:\n",
        "    \"\"\"\n",
        "    Normaliza una lista de nombres eliminando espacios adicionales y\n",
        "    convirtiéndolos a formato título.\n",
        "\n",
        "    Args:\n",
        "        lista_nombres (list[str]): Una lista de strings (nombres) con posibles\n",
        "                                   inconsistencias de formato.\n",
        "\n",
        "    Returns:\n",
        "        list[str]: Una nueva lista con los nombres normalizados.\n",
        "    \"\"\"\n",
        "    nombres_normalizados = []\n",
        "\n",
        "    for nombre in lista_nombres:\n",
        "        # 1. Eliminar espacios adicionales al inicio o final de cada nombre\n",
        "        nombre_sin_espacios = nombre.strip()\n",
        "\n",
        "        # 2. Convertir todos los nombres a formato título\n",
        "        nombre_normalizado = nombre_sin_espacios.title()\n",
        "\n",
        "        # Añadir el nombre normalizado a la nueva lista\n",
        "        nombres_normalizados.append(nombre_normalizado)\n",
        "\n",
        "    return nombres_normalizados\n",
        "\n",
        "# Conjunto de datos de prueba proporcionado\n",
        "nombres = [\" ana \", \"LUIS\", \" cAmila \", \"JORGE\", \" sofIA\"]\n",
        "\n",
        "# Prueba de la función\n",
        "nombres_limpios = normalizar_nombres(nombres)\n",
        "print(f\"Nombres originales: {nombres}\")\n",
        "print(f\"Nombres normalizados: {nombres_limpios}\")\n",
        "\n",
        "# Your code ends here"
      ],
      "metadata": {
        "id": "Yeuwf3fWOftV",
        "colab": {
          "base_uri": "https://localhost:8080/"
        },
        "outputId": "ef278fb4-7711-4b48-a7fe-5b48c59bc1c9"
      },
      "execution_count": null,
      "outputs": [
        {
          "output_type": "stream",
          "name": "stdout",
          "text": [
            "Nombres originales: [' ana ', 'LUIS', ' cAmila ', 'JORGE', ' sofIA']\n",
            "Nombres normalizados: ['Ana', 'Luis', 'Camila', 'Jorge', 'Sofia']\n"
          ]
        }
      ]
    },
    {
      "cell_type": "markdown",
      "source": [
        "**Pregunta 3 – Clasificador por edad**"
      ],
      "metadata": {
        "id": "qzum0ADEOk-a"
      }
    },
    {
      "cell_type": "markdown",
      "source": [
        "Crea una clase ClasificadorEdad con un atributo edad.\n",
        "La clase debe tener un método:\n",
        "\n",
        "clasificar() -> str\n",
        "Que devuelva según la edad:\n",
        "\n",
        "- \"Niño\" si es menor de 13\n",
        "\n",
        "- \"Adolescente\" si tiene entre 13 y 17 años\n",
        "\n",
        "- \"Adulto\" si tiene entre 18 y 59 años\n",
        "\n",
        "- \"Adulto mayor\" si tiene 60 o más"
      ],
      "metadata": {
        "id": "xS7revZCOoZ1"
      }
    },
    {
      "cell_type": "code",
      "source": [
        "# Your code starts here\n",
        "class ClasificadorEdad:\n",
        "    \"\"\"\n",
        "    Clase para clasificar la edad de una persona en categorías predefinidas.\n",
        "    \"\"\"\n",
        "\n",
        "    def __init__(self, edad: int):\n",
        "        \"\"\"\n",
        "        Constructor de la clase ClasificadorEdad.\n",
        "\n",
        "        Args:\n",
        "            edad (int): La edad de la persona a clasificar.\n",
        "        \"\"\"\n",
        "        # Se asigna la edad como un atributo de la instancia.\n",
        "        self.edad = edad\n",
        "\n",
        "    def clasificar(self) -> str:\n",
        "        \"\"\"\n",
        "        Clasifica la edad de la persona en una de las siguientes categorías:\n",
        "        \"Niño\", \"Adolescente\", \"Adulto\" o \"Adulto mayor\".\n",
        "\n",
        "        Returns:\n",
        "            str: La categoría de edad correspondiente.\n",
        "        \"\"\"\n",
        "        if self.edad < 13:\n",
        "            return \"Niño\"\n",
        "        elif 13 <= self.edad <= 17:\n",
        "            return \"Adolescente\"\n",
        "        elif 18 <= self.edad <= 59:\n",
        "            return \"Adulto\"\n",
        "        else:  # self.edad >= 60\n",
        "            return \"Adulto mayor\"\n",
        "\n",
        "# Pruebas\n",
        "persona1 = ClasificadorEdad(10)\n",
        "print(f\"Una persona de {persona1.edad} años es: {persona1.clasificar()}\")\n",
        "\n",
        "persona1 = ClasificadorEdad(15)\n",
        "print(f\"Una persona de {persona1.edad} años es: {persona1.clasificar()}\")\n",
        "\n",
        "persona1 = ClasificadorEdad(25)\n",
        "print(f\"Una persona de {persona1.edad} años es: {persona1.clasificar()}\")\n",
        "\n",
        "persona1 = ClasificadorEdad(75)\n",
        "print(f\"Una persona de {persona1.edad} años es: {persona1.clasificar()}\")\n",
        "\n",
        "\n",
        "# Your code ends here"
      ],
      "metadata": {
        "id": "TEedziL-Oosu",
        "colab": {
          "base_uri": "https://localhost:8080/"
        },
        "outputId": "22c1f53d-1f0f-44b1-8522-ce745f1082ab"
      },
      "execution_count": null,
      "outputs": [
        {
          "output_type": "stream",
          "name": "stdout",
          "text": [
            "--- Pruebas del Clasificador de Edad ---\n",
            "Una persona de 10 años es: Niño\n",
            "Una persona de 15 años es: Adolescente\n",
            "Una persona de 25 años es: Adulto\n",
            "Una persona de 75 años es: Adulto mayor\n"
          ]
        }
      ]
    },
    {
      "cell_type": "markdown",
      "source": [
        "**Pregunta 4 – Palabras clave en encuestas**"
      ],
      "metadata": {
        "id": "O7K1bCleO3du"
      }
    },
    {
      "cell_type": "markdown",
      "source": [
        "Tienes una lista con respuestas abiertas de una encuesta:\n",
        "```\n",
        "respuestas = [\n",
        "    \"Me gusta la visualización de datos\",\n",
        "    \"La estadística es clave\",\n",
        "    \"Aprender programación mejora la productividad\",\n",
        "    \"Los gráficos me ayudan a entender\"]\n",
        "```\n",
        "Crea una función contar_palabras_clave(respuestas: list, palabra: str) que:\n",
        "\n",
        "- Retorne cuántas frases contienen la palabra dada, sin importar mayúsculas o minúsculas.\n",
        "\n",
        "Ejemplo:\n",
        "contar_palabras_clave(respuestas, \"datos\") → 1\n",
        "\n"
      ],
      "metadata": {
        "id": "Y7kadRyfPBG_"
      }
    },
    {
      "cell_type": "code",
      "source": [
        "# Your code starts here\n",
        "def contar_palabras_clave(respuestas: list[str], palabra: str) -> int:\n",
        "    \"\"\"\n",
        "    Cuenta cuántas frases en una lista de respuestas contienen una palabra clave dada,\n",
        "    sin importar mayúsculas o minúsculas.\n",
        "\n",
        "    Args:\n",
        "        respuestas (list[str]): Una lista de strings, donde cada string es una respuesta de encuesta.\n",
        "        palabra (str): La palabra clave a buscar.\n",
        "\n",
        "    Returns:\n",
        "        int: El número de frases que contienen la palabra clave.\n",
        "    \"\"\"\n",
        "    conteo = 0\n",
        "    # Convertir la palabra clave a minúsculas una sola vez para una comparación eficiente\n",
        "    palabra_lower = palabra.lower()\n",
        "\n",
        "    for frase in respuestas:\n",
        "        # Convertir la frase a minúsculas para realizar una búsqueda insensible a mayúsculas/minúsculas.\n",
        "        frase_lower = frase.lower()\n",
        "\n",
        "        # Verificar si la palabra clave (en minúsculas) está presente en la frase (también en minúsculas).\n",
        "        if palabra_lower in frase_lower:\n",
        "            conteo += 1 # Incrementar el contador si la palabra clave se encuentra en la frase\n",
        "\n",
        "    return conteo\n",
        "\n",
        "# Conjunto de datos de prueba proporcionado\n",
        "respuestas = [\n",
        "    \"Me gusta la visualización de datos\",\n",
        "    \"La estadística es clave\",\n",
        "    \"Aprender programación mejora la productividad\",\n",
        "    \"Los gráficos me ayudan a entender\"\n",
        "]\n",
        "\n",
        "# Pruebas de la función\n",
        "print(f\"Respuestas originales: {respuestas}\")\n",
        "\n",
        "# Ejemplo\n",
        "palabra_buscar1 = \"la\"\n",
        "resultado1 = contar_palabras_clave(respuestas, palabra_buscar1)\n",
        "print(f\"La palabra '{palabra_buscar1}' se encuentra en {resultado1} frase(s).\")\n",
        "\n",
        "# Your code ends here"
      ],
      "metadata": {
        "id": "4WP3pEgvOuMd",
        "colab": {
          "base_uri": "https://localhost:8080/"
        },
        "outputId": "dc0eb0c6-9f3d-447e-c778-217446449488"
      },
      "execution_count": null,
      "outputs": [
        {
          "output_type": "stream",
          "name": "stdout",
          "text": [
            "Respuestas originales: ['Me gusta la visualización de datos', 'La estadística es clave', 'Aprender programación mejora la productividad', 'Los gráficos me ayudan a entender']\n",
            "La palabra 'la' se encuentra en 3 frase(s).\n"
          ]
        }
      ]
    },
    {
      "cell_type": "markdown",
      "source": [
        "**Pregunta 5 – Validación de códigos de experimento**"
      ],
      "metadata": {
        "id": "MdencFSGPmo1"
      }
    },
    {
      "cell_type": "markdown",
      "source": [
        "Tienes una lista con códigos de experimento ingresados por diferentes usuarios:\n",
        "\n",
        "```\n",
        "codigos = [\"EXP2023A\", \"EXP_23\", \"EXPERIMENTO_2023\", \"exp2023b\"]\n",
        "```\n",
        "\n",
        "Crea una función validar_codigos(lista) que retorne una nueva lista con los códigos válidos, donde:\n",
        "\n",
        "- Empiecen por \"EXP\" (en mayúsculas)\n",
        "\n",
        "- Tengan exactamente 8 caracteres"
      ],
      "metadata": {
        "id": "KBMve8sQPp8J"
      }
    },
    {
      "cell_type": "code",
      "source": [
        "# Your code starts here\n",
        "def validar_codigos(lista_codigos: list[str]) -> list[str]:\n",
        "    \"\"\"\n",
        "    Valida una lista de códigos de experimento, filtrando aquellos que cumplen\n",
        "    con los criterios de \"empezar por 'EXP' (mayúsculas)\" y \"tener exactamente 8 caracteres\".\n",
        "\n",
        "    Args:\n",
        "        lista_codigos (list[str]): Una lista de strings que representan códigos de experimento.\n",
        "\n",
        "    Returns:\n",
        "        list[str]: Una nueva lista que contiene solo los códigos válidos.\n",
        "    \"\"\"\n",
        "    codigos_validos = []\n",
        "\n",
        "    for codigo in lista_codigos:\n",
        "        # Criterio 1: Empiecen por \"EXP\" (en mayúsculas)\n",
        "        cumple_prefijo = codigo.startswith(\"EXP\")\n",
        "\n",
        "        # Criterio 2: Tengan exactamente 8 caracteres\n",
        "        cumple_longitud = len(codigo) == 8\n",
        "\n",
        "        # Si ambos criterios se cumplen, el código es válido\n",
        "        if cumple_prefijo and cumple_longitud:\n",
        "            codigos_validos.append(codigo)\n",
        "\n",
        "    return codigos_validos\n",
        "\n",
        "# Conjunto de datos de prueba proporcionado\n",
        "codigos = [\"EXP2023A\", \"EXP_23\", \"EXPERIMENTO_2023\", \"exp2023b\"]\n",
        "\n",
        "# Prueba de la función\n",
        "codigos_filtrados = validar_codigos(codigos)\n",
        "print(f\"Códigos originales: {codigos}\")\n",
        "print(f\"Códigos válidos: {codigos_filtrados}\")\n",
        "\n",
        "\n",
        "# Your code ends here"
      ],
      "metadata": {
        "id": "SUaTp_yjO24X",
        "colab": {
          "base_uri": "https://localhost:8080/"
        },
        "outputId": "b08ccfbe-ec4d-476f-e856-8e5af8d0363c"
      },
      "execution_count": null,
      "outputs": [
        {
          "output_type": "stream",
          "name": "stdout",
          "text": [
            "Códigos originales: ['EXP2023A', 'EXP_23', 'EXPERIMENTO_2023', 'exp2023b']\n",
            "Códigos válidos: ['EXP2023A']\n"
          ]
        }
      ]
    },
    {
      "cell_type": "markdown",
      "source": [
        "**Pregunta 6 – Modelo lineal simple**"
      ],
      "metadata": {
        "id": "U3NjngoxPyv9"
      }
    },
    {
      "cell_type": "markdown",
      "source": [
        "Crea una clase ModeloLineal que simule un modelo de regresión con fórmula:\n",
        "```\n",
        "y = m * x + b\n",
        "```\n",
        "\n",
        "La clase debe tener:\n",
        "\n",
        "Atributos: m (pendiente), b (intercepto)\n",
        "\n",
        "\n",
        "Método predecir(x) que:\n",
        "\n",
        "- Si x es un número, devuelve la predicción correspondiente\n",
        "\n",
        "- Si x es una lista de números, devuelve una lista de predicciones\n",
        "\n",
        "\n",
        "Ejemplo:\n",
        "```\n",
        "modelo = ModeloLineal(2, 3)\n",
        "modelo.predecir([1, 2, 3])  #debe retornar [5, 7, 9]\n",
        "```"
      ],
      "metadata": {
        "id": "_N3vpCZkP1sr"
      }
    },
    {
      "cell_type": "code",
      "source": [
        "# Your code starts here\n",
        "class ModeloLineal:\n",
        "    \"\"\"\n",
        "    Simula un modelo de regresión lineal simple con la fórmula y = m * x + b.\n",
        "    \"\"\"\n",
        "\n",
        "    def __init__(self, m: float, b: float):\n",
        "        \"\"\"\n",
        "        Constructor de la clase ModeloLineal.\n",
        "\n",
        "        Args:\n",
        "            m (float): La pendiente del modelo lineal.\n",
        "            b (float): El intercepto del modelo lineal.\n",
        "        \"\"\"\n",
        "        self.m = m  # Atributo para la pendiente\n",
        "        self.b = b  # Atributo para el intercepto\n",
        "\n",
        "    def predecir(self, x_input: float | list[float]) -> float | list[float]:\n",
        "        \"\"\"\n",
        "        Realiza predicciones usando el modelo lineal (y = m * x + b).\n",
        "\n",
        "        Args:\n",
        "            x_input (float | list[float]): El valor o una lista de valores de 'x'\n",
        "                                           para los cuales se realizará la predicción.\n",
        "\n",
        "        Returns:\n",
        "            float | list[float]: La predicción 'y' correspondiente. Si 'x_input' es un número,\n",
        "                                 devuelve un número. Si es una lista, devuelve una lista de predicciones.\n",
        "        \"\"\"\n",
        "        # Verificar si x_input es un solo número o una lista de números\n",
        "        if isinstance(x_input, (int, float)):\n",
        "            # Si es un solo número, aplicar la fórmula y devolver el resultado\n",
        "            return self.m * x_input + self.b\n",
        "        elif isinstance(x_input, list):\n",
        "            # Si es una lista, iterar sobre los elementos y aplicar la fórmula a cada uno\n",
        "            predicciones = []\n",
        "            for x_val in x_input:\n",
        "                # Asegurarse de que cada elemento de la lista sea numérico\n",
        "                if isinstance(x_val, (int, float)):\n",
        "                    predicciones.append(self.m * x_val + self.b)\n",
        "                else:\n",
        "                    pass\n",
        "            return predicciones\n",
        "        else:\n",
        "            # Opcional: manejar otros tipos de entrada que no sean números o listas\n",
        "            raise TypeError(\"La entrada 'x' debe ser un número o una lista de números.\")\n",
        "\n",
        "# Ejemplo de uso proporcionado: m=2, b=3\n",
        "modelo = ModeloLineal(2, 3)\n",
        "print(f\"Modelo creado con m={modelo.m}, b={modelo.b}\")\n",
        "\n",
        "# Prueba 1: x es un número simple\n",
        "x_simple = 5\n",
        "prediccion_simple = modelo.predecir(x_simple)\n",
        "print(f\"Para x = {x_simple}, la predicción es: {prediccion_simple}\")\n",
        "\n",
        "# Prueba 2: x es una lista de números (ejemplo del problema)\n",
        "x_lista = [1, 2, 3]\n",
        "predicciones_lista = modelo.predecir(x_lista)\n",
        "print(f\"Para x = {x_lista}, las predicciones son: {predicciones_lista}\")\n",
        "\n",
        "\n",
        "# Your code ends here"
      ],
      "metadata": {
        "id": "18nXnIMEQhKS",
        "colab": {
          "base_uri": "https://localhost:8080/"
        },
        "outputId": "21d04e8e-6d40-463d-e70d-35b4634b30a6"
      },
      "execution_count": null,
      "outputs": [
        {
          "output_type": "stream",
          "name": "stdout",
          "text": [
            "--- Pruebas del Modelo Lineal Simple ---\n",
            "Modelo creado con m=2, b=3\n",
            "Para x = 5, la predicción es: 13\n",
            "Para x = [1, 2, 3], las predicciones son: [5, 7, 9]\n"
          ]
        }
      ]
    },
    {
      "cell_type": "markdown",
      "source": [
        "---\n",
        "\n",
        "### Gracias por completar este examen!\n",
        "\n",
        "---\n"
      ],
      "metadata": {
        "id": "LtljlM9cQkiT"
      }
    }
  ]
}