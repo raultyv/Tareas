{
  "nbformat": 4,
  "nbformat_minor": 0,
  "metadata": {
    "colab": {
      "provenance": [],
      "include_colab_link": true
    },
    "kernelspec": {
      "name": "python3",
      "display_name": "Python 3"
    },
    "language_info": {
      "name": "python"
    }
  },
  "cells": [
    {
      "cell_type": "markdown",
      "metadata": {
        "id": "view-in-github",
        "colab_type": "text"
      },
      "source": [
        "<a href=\"https://colab.research.google.com/github/raultyv/Tareas/blob/main/manejo_de_archivos_modulos_y_paquetes_LAB.ipynb\" target=\"_parent\"><img src=\"https://colab.research.google.com/assets/colab-badge.svg\" alt=\"Open In Colab\"/></a>"
      ]
    },
    {
      "cell_type": "markdown",
      "source": [
        "<img src=\"https://posgrado.utec.edu.pe/sites/default/files/2023-08/Testimonial-home-2.jpg\" alt=\"HTML5 Icon\" width=\"900\" height=\"250\" >\n"
      ],
      "metadata": {
        "id": "VpH7sAoVTmos"
      }
    },
    {
      "cell_type": "markdown",
      "source": [
        "# **Funciones y Clases**"
      ],
      "metadata": {
        "id": "Y7FbnZbKTpRn"
      }
    },
    {
      "cell_type": "markdown",
      "source": [
        "**Objetivo**\n",
        "\n",
        "Consolidar los conocimientos sobre funciones y clases en Python, mediante el desarrollo de teoría, ejemplos guiados y ejercicios retadores. Al finalizar, serás capaz de:\n",
        "\n",
        "1. Comprender qué son las funciones, cómo se definen y cómo se utilizan.\n",
        "2. Usar distintos tipos de argumentos (posicionales, por nombre, arbitrarios).\n",
        "3. Retornar valores simples o compuestos desde una función.\n",
        "4. Aplicar funciones sobre listas y modularizar código en módulos.\n",
        "5. Documentar y estructurar funciones siguiendo buenas prácticas de estilo.\n",
        "6. Crear clases, instanciar objetos, y trabajar con atributos y métodos.\n",
        "7. Aplicar principios de herencia y reutilización de código en clases.\n",
        "8. Utilizar la biblioteca estándar de Python y organizar clases en módulos."
      ],
      "metadata": {
        "id": "34pdCtM-T-QQ"
      }
    },
    {
      "cell_type": "markdown",
      "source": [
        "# Funciones"
      ],
      "metadata": {
        "id": "aLMAo_QGWh_5"
      }
    },
    {
      "cell_type": "markdown",
      "source": [
        "## 1. Defining a Function"
      ],
      "metadata": {
        "id": "u5oSkRxxTwLx"
      }
    },
    {
      "cell_type": "markdown",
      "source": [
        "- Las funciones encapsulan código reutilizable.\n",
        "- Se definen usando 'def' seguido de un nombre y paréntesis.\n",
        "- El cuerpo debe estar indentado."
      ],
      "metadata": {
        "id": "rMx8aaViUPkk"
      }
    },
    {
      "cell_type": "markdown",
      "source": [
        "**Ejemplo:**\n"
      ],
      "metadata": {
        "id": "dHTMVPmOUSIV"
      }
    },
    {
      "cell_type": "code",
      "execution_count": null,
      "metadata": {
        "id": "ONvTKb-GThia"
      },
      "outputs": [],
      "source": [
        "def saludar():\n",
        "    print(\"Bienvenido al laboratorio de funciones.\")\n"
      ]
    },
    {
      "cell_type": "code",
      "source": [
        "def presentar(nombre, edad)\n",
        "  if type(edad) == int:\n",
        "    print(f\"hola soy {nombre} y tengo {edad}\")"
      ],
      "metadata": {
        "id": "X3PYjEWfe7JO"
      },
      "execution_count": null,
      "outputs": []
    },
    {
      "cell_type": "markdown",
      "source": [
        "**Ejercicios:**\n",
        "\n",
        "1. Crea una función 'mostrar_menu()' que imprima un menú con 3 opciones.\n",
        "\n",
        "2. Define una función 'mensaje_diario()' que imprima una frase aleatoria de motivación.\n",
        "\n",
        "3. Crea una función 'borde_decorativo()' que imprima una cadena rodeada de asteriscos."
      ],
      "metadata": {
        "id": "JIvRAXycUX7u"
      }
    },
    {
      "cell_type": "code",
      "source": [
        "import random\n",
        "\n",
        "def mostrar_menu():\n",
        "    print(\"--- MENÚ ---\")\n",
        "    print(\"1. Opción Uno\")\n",
        "    print(\"2. Opción Dos\")\n",
        "    print(\"3. Salir\")\n",
        "    print(\"------------\")\n",
        "\n",
        "def mensaje_diario():\n",
        "    frases = [\n",
        "        \"A quien madruga dios lo ayuda.\",\n",
        "        \"La persistencia es la clave del éxito.\",\n",
        "        \"Cada pequeño paso te acerca a tu objetivo.\",\n",
        "        \"Cree en ti mismo y todo será posible.\",\n",
        "        \"El esfuerzo de hoy es el éxito de mañana.\"\n",
        "    ]\n",
        "    print(random.choice(frases))\n",
        "\n",
        "def borde_decorativo(cadena):\n",
        "    longitud = len(cadena)\n",
        "    borde = \"*\" * (longitud + 4) # 2 asteriscos a cada lado + espacio\n",
        "    print(borde)\n",
        "    print(f\"* {cadena} *\")\n",
        "    print(borde)\n",
        "\n",
        "# --- Ejemplos de uso de las funciones ---\n",
        "if __name__ == \"__main__\":\n",
        "    print(\"--- Demostración de funciones ---\")\n",
        "\n",
        "    # 1. Demostración de mostrar_menu()\n",
        "    mostrar_menu()\n",
        "    print(\"\\n\")\n",
        "\n",
        "    # 2. Demostración de mensaje_diario()\n",
        "    print(\"Mensaje de motivación del día:\")\n",
        "    mensaje_diario()\n",
        "    print(\"\\n\")\n",
        "\n",
        "    # 3. Demostración de borde_decorativo()\n",
        "    texto1 = \"Curso de programacion 101\"\n",
        "    borde_decorativo(texto1)\n",
        "    print(\"\\n\")\n",
        "\n"
      ],
      "metadata": {
        "id": "M6EZHQLLUl0t",
        "outputId": "8b71cf3d-27dc-4f27-a29a-da004378e153",
        "colab": {
          "base_uri": "https://localhost:8080/"
        }
      },
      "execution_count": 4,
      "outputs": [
        {
          "output_type": "stream",
          "name": "stdout",
          "text": [
            "--- Demostración de funciones ---\n",
            "--- MENÚ ---\n",
            "1. Opción Uno\n",
            "2. Opción Dos\n",
            "3. Salir\n",
            "------------\n",
            "\n",
            "\n",
            "Mensaje de motivación del día:\n",
            "A quien madruga dios lo ayuda.\n",
            "\n",
            "\n",
            "*****************\n",
            "* ¡Hola, mundo! *\n",
            "*****************\n",
            "\n",
            "\n",
            "********************\n",
            "* Python es genial *\n",
            "********************\n",
            "\n",
            "\n",
            "*********\n",
            "* Corta *\n",
            "*********\n",
            "\n",
            "\n"
          ]
        }
      ]
    },
    {
      "cell_type": "markdown",
      "source": [
        "## 2. Passing Arguments"
      ],
      "metadata": {
        "id": "wMZPUnXIUljj"
      }
    },
    {
      "cell_type": "markdown",
      "source": [
        "- Puedes pasar información a las funciones mediante parámetros.\n",
        "- Argumentos posicionales: el orden importa.\n",
        "- Argumentos por nombre (keyword arguments): más claros y seguros."
      ],
      "metadata": {
        "id": "gqKGi2gtUp_O"
      }
    },
    {
      "cell_type": "markdown",
      "source": [
        "**Ejemplo:**"
      ],
      "metadata": {
        "id": "gJ9SfvF8Ur7M"
      }
    },
    {
      "cell_type": "code",
      "source": [
        "def presentar(nombre, edad):\n",
        "    print(f\"Hola, soy {nombre} y tengo {edad} años.\")"
      ],
      "metadata": {
        "id": "L6a58TgAUtFJ"
      },
      "execution_count": null,
      "outputs": []
    },
    {
      "cell_type": "markdown",
      "source": [
        "**Ejercicios:**\n",
        "\n",
        "1. Define 'calcular_impuesto(monto, tasa)' que retorne el impuesto total.\n",
        "\n",
        "2. Crea 'evaluar_puntaje(nombre, puntaje)' que imprima si aprueba (>=12) o no.\n",
        "\n",
        "3. Escribe 'detallar_producto(nombre, precio, stock)' que imprima un resumen."
      ],
      "metadata": {
        "id": "vyHEcaizVBi7"
      }
    },
    {
      "cell_type": "code",
      "source": [
        "def calcular_impuesto(monto, tasa):\n",
        "    ''' esta funcion calcula el impuesto de un monto''' # es la documentacion es recomendable documentar todas las funciones funcion? consulta la funcion\n",
        "    print(monto*tasa) #el print no retorna nada en realidad, no se puede usar el resultado para otras operaciones\n",
        "\n",
        "calcular_impuesto(100, 0.18)"
      ],
      "metadata": {
        "id": "vlOv7cpSVOCO",
        "outputId": "8d88799c-156c-4dfd-b701-9d05b2fc1020",
        "colab": {
          "base_uri": "https://localhost:8080/"
        }
      },
      "execution_count": 5,
      "outputs": [
        {
          "output_type": "stream",
          "name": "stdout",
          "text": [
            "18.0\n"
          ]
        }
      ]
    },
    {
      "cell_type": "markdown",
      "source": [
        "## 3. Return Values"
      ],
      "metadata": {
        "id": "fyNSml7GVP1Y"
      }
    },
    {
      "cell_type": "markdown",
      "source": [
        "- Las funciones pueden devolver valores con 'return'.\n",
        "- Es útil para guardar o reutilizar resultados."
      ],
      "metadata": {
        "id": "VkdpHBVfVTH1"
      }
    },
    {
      "cell_type": "markdown",
      "source": [
        "**Ejemplo:**\n"
      ],
      "metadata": {
        "id": "4xZ4orNzVVBT"
      }
    },
    {
      "cell_type": "code",
      "source": [
        "def cuadrado(numero):\n",
        "    return numero ** 2 #el return te permite usar el resultado para otras operaciones, la unica forma de asegurarse que se genere un output\n",
        "\n",
        "\n",
        "cuadrado(8)"
      ],
      "metadata": {
        "id": "-bVDPbECVWaa",
        "outputId": "63972229-befe-487f-86be-27a6cc9a0ab5",
        "colab": {
          "base_uri": "https://localhost:8080/"
        }
      },
      "execution_count": 3,
      "outputs": [
        {
          "output_type": "execute_result",
          "data": {
            "text/plain": [
              "64"
            ]
          },
          "metadata": {},
          "execution_count": 3
        }
      ]
    },
    {
      "cell_type": "code",
      "source": [
        "def calcula_area_rectangulo(base, altura):\n",
        "    return base * altura, base, altura\n",
        "\n",
        "x ,y, z=calcula_area_rectangulo(3,4)\n",
        "print(x,y,z)"
      ],
      "metadata": {
        "id": "EoFGT6lvkvrc",
        "outputId": "091afcb3-8211-41ab-a842-33a5f1dd2c93",
        "colab": {
          "base_uri": "https://localhost:8080/"
        }
      },
      "execution_count": 8,
      "outputs": [
        {
          "output_type": "stream",
          "name": "stdout",
          "text": [
            "12 3 4\n"
          ]
        }
      ]
    },
    {
      "cell_type": "markdown",
      "source": [
        "**Ejercicios:**\n",
        "\n",
        "1. 'diferencia_absoluta(a, b)' que retorne el valor absoluto de su diferencia.\n",
        "\n",
        "2. 'comparar_cadenas(cad1, cad2)' que retorne True si tienen la misma longitud.\n",
        "\n",
        "3. 'es_primo(n)' que retorne True si el número es primo."
      ],
      "metadata": {
        "id": "tlMLYSgJVZ0b"
      }
    },
    {
      "cell_type": "code",
      "source": [
        "import math\n",
        "\n",
        "def diferencia_absoluta(a, b):\n",
        "    return abs(a - b)\n",
        "\n",
        "def comparar_cadenas(cad1, cad2):\n",
        "    return len(cad1) == len(cad2)\n",
        "\n",
        "def es_primo(n):\n",
        "    if n <= 1:\n",
        "        return False\n",
        "    #  verificar divisores hasta la raíz cuadrada de n\n",
        "    for i in range(2, int(math.sqrt(n)) + 1):\n",
        "        if n % i == 0:\n",
        "            return False\n",
        "    return True\n",
        "\n",
        "\n",
        "num1 = -8\n",
        "num2 = 5\n",
        "print(f\"La diferencia absoluta entre {num1} y {num2} es: {diferencia_absoluta(num1, num2)}\") # Output: 13\n",
        "\n",
        "cadena_a = \"hola\"\n",
        "cadena_b = \"mundo\"\n",
        "cadena_c = \"saludo\"\n",
        "print(f\"¿'{cadena_a}' y '{cadena_b}' tienen la misma longitud? {comparar_cadenas(cadena_a, cadena_b)}\") # Output: False\n",
        "\n",
        "print(f\"¿Es 7 primo? {es_primo(7)}\")"
      ],
      "metadata": {
        "id": "jwdBX6VeVhVL",
        "outputId": "bc8fde42-9440-4d70-92a0-fc63cf2fec7d",
        "colab": {
          "base_uri": "https://localhost:8080/"
        }
      },
      "execution_count": 15,
      "outputs": [
        {
          "output_type": "stream",
          "name": "stdout",
          "text": [
            "La diferencia absoluta entre -8 y 5 es: 13\n",
            "¿'hola' y 'mundo' tienen la misma longitud? False\n",
            "¿Es 7 primo? True\n"
          ]
        }
      ]
    },
    {
      "cell_type": "markdown",
      "source": [
        "## 4. Passing a List"
      ],
      "metadata": {
        "id": "pltHrWQ9Vg8k"
      }
    },
    {
      "cell_type": "markdown",
      "source": [
        "- Las funciones pueden recibir listas para iterar, modificar o procesar.\n"
      ],
      "metadata": {
        "id": "jtrh3ce9Vjze"
      }
    },
    {
      "cell_type": "markdown",
      "source": [
        "**Ejemplo:**"
      ],
      "metadata": {
        "id": "uqslCsi8VnkE"
      }
    },
    {
      "cell_type": "code",
      "source": [
        "def imprimir_nombres(lista):\n",
        "    for nombre in lista:\n",
        "        print(f\"- {nombre}\")"
      ],
      "metadata": {
        "id": "quUt25oSVmwn"
      },
      "execution_count": null,
      "outputs": []
    },
    {
      "cell_type": "markdown",
      "source": [
        "**Ejercicios:**\n",
        "\n",
        "1. 'invertir_lista(lista)' que retorne la lista invertida.\n",
        "\n",
        "2. 'sumar_pares(lista)' que sume solo los números pares.\n",
        "\n",
        "3. 'normalizar_textos(lista)' que convierta todo texto a minúsculas y sin espacios."
      ],
      "metadata": {
        "id": "IsvUCmvvVrAh"
      }
    },
    {
      "cell_type": "code",
      "source": [
        "def invertir_lista(lista):\n",
        "    \"\"\"\n",
        "    Retorna la lista invertida.\n",
        "    \"\"\"\n",
        "    return lista[::-1] # Usamos slicing para invertir la lista de forma concisa\n",
        "\n",
        "def sumar_pares(lista):\n",
        "    \"\"\"\n",
        "    Suma solo los números pares de una lista.\n",
        "    \"\"\"\n",
        "    suma = 0\n",
        "    for numero in lista:\n",
        "        if numero % 2 == 0: # Si el número es par (su residuo al dividir por 2 es 0)\n",
        "            suma += numero\n",
        "    return suma\n",
        "\n",
        "def normalizar_textos(lista_textos):\n",
        "    \"\"\"\n",
        "    Convierte todo texto en una lista a minúsculas y sin espacios.\n",
        "    \"\"\"\n",
        "    lista_normalizada = []\n",
        "    for texto in lista_textos:\n",
        "        # Convertir a minúsculas y luego reemplazar espacios por nada\n",
        "        texto_limpio = texto.lower().replace(\" \", \"-\")\n",
        "        lista_normalizada.append(texto_limpio)\n",
        "    return lista_normalizada\n",
        "\n",
        "\n",
        "mi_lista = [1, 2, 3, 4, 5]\n",
        "print(f\"Lista original: {mi_lista}\")\n",
        "print(f\"Lista invertida: {invertir_lista(mi_lista)}\")\n",
        "\n",
        "numeros = [1, 2, 3, 4, 5, 6, 7, 8, 9, 10]\n",
        "print(f\"Números: {numeros}\")\n",
        "print(f\"Suma de números pares: {sumar_pares(numeros)}\")\n",
        "\n",
        "textos_varios = [\"Hola a todos\"]\n",
        "print(f\"Lista de textos original: {textos_varios}\")\n",
        "print(f\"Lista de textos normalizada: {normalizar_textos(textos_varios)}\")"
      ],
      "metadata": {
        "id": "_7FnAfAN1Z65"
      },
      "execution_count": null,
      "outputs": []
    },
    {
      "cell_type": "markdown",
      "source": [
        "## 5. Passing Arbitrary Number of Arguments\n"
      ],
      "metadata": {
        "id": "d8BRZt95VyWp"
      }
    },
    {
      "cell_type": "markdown",
      "source": [
        "- *args permite recibir cualquier número de argumentos posicionales.\n",
        "- **kwargs permite recibir pares clave-valor (keyword args)."
      ],
      "metadata": {
        "id": "kKvjnskFV09D"
      }
    },
    {
      "cell_type": "markdown",
      "source": [
        "**Ejemplo:**"
      ],
      "metadata": {
        "id": "1OUZd86jV3Bd"
      }
    },
    {
      "cell_type": "code",
      "source": [
        "def sumar_todo(*numeros):\n",
        "    return sum(numeros)"
      ],
      "metadata": {
        "id": "vDW2boqYV4Wo"
      },
      "execution_count": null,
      "outputs": []
    },
    {
      "cell_type": "markdown",
      "source": [
        "**Ejercicios:**\n",
        "\n",
        "1. 'registrar_evento(nombre, *participantes)' que imprima el evento y los asistentes.\n",
        "\n",
        "2. 'generar_reporte(**datos)' que imprima claves y valores con formato.\n",
        "\n",
        "3. 'concatenar_textos(*cadenas)' que retorne el texto unificado, separado por guiones."
      ],
      "metadata": {
        "id": "_mXSkDMEV8UN"
      }
    },
    {
      "cell_type": "code",
      "source": [
        "def registrar_evento(nombre_evento, *participantes):\n",
        "    print(f\"Evento: {nombre_evento}\")\n",
        "    if participantes: # Verifica si hay participantes en la tupla\n",
        "        print(\"Asistentes:\")\n",
        "        for participante in participantes:\n",
        "            print(f\"- {participante}\")\n",
        "    else:\n",
        "        print(\"No hay asistentes registrados para este evento.\")\n",
        "\n",
        "def generar_reporte(**datos):\n",
        "    print(\"--- REPORTE ---\")\n",
        "    if datos: # Verifica si el diccionario de datos no está vacío\n",
        "        for clave, valor in datos.items():\n",
        "            print(f\"{clave.replace('_', ' ').capitalize()}: {valor}\") # Formato: Capitaliza clave y reemplaza _ por espacio\n",
        "    else:\n",
        "        print(\"No hay datos para generar el reporte.\")\n",
        "    print(\"---------------\")\n",
        "\n",
        "def concatenar_textos(*cadenas):\n",
        "    if not cadenas: # Si no se pasan cadenas, retorna una cadena vacía\n",
        "        return \"\"\n",
        "    # Usa el método .join() para unir las cadenas con un guion\n",
        "    return \"-\".join(cadenas)\n",
        "\n",
        "registrar_evento(\"Reunión de Equipo\", \"Ana\", \"Luis\", \"Marta\")\n",
        "print(\"\\n\")\n",
        "\n",
        "print(\"--- Generación de Reporte ---\")\n",
        "generar_reporte(\n",
        "        nombre=\"Informe Mensual\",\n",
        "        fecha=\"2025-05-28\",\n",
        "        departamento=\"Ventas\",\n",
        "        total_ventas=150000,\n",
        "        estado=\"Finalizado\"\n",
        "    )\n",
        "print(\"\\n\")\n",
        "generar_reporte(producto=\"Laptop\", precio=1200, stock_disponible=50)\n",
        "print(\"\\n\")\n",
        "generar_reporte() # Sin datos\n",
        "print(\"\\n\")\n",
        "\n",
        "print(\"--- Concatenación de Textos ---\")\n",
        "texto_unificado1 = concatenar_textos(\"esto\", \"es\", \"una\", \"prueba\")\n",
        "print(f\"Texto unificado: {texto_unificado1}\")"
      ],
      "metadata": {
        "id": "aKkaSEnfWAWR",
        "outputId": "54a5fc4d-20cb-49b2-bad5-a297cdc14e5c",
        "colab": {
          "base_uri": "https://localhost:8080/"
        }
      },
      "execution_count": 24,
      "outputs": [
        {
          "output_type": "stream",
          "name": "stdout",
          "text": [
            "Evento: Reunión de Equipo\n",
            "Asistentes:\n",
            "- Ana\n",
            "- Luis\n",
            "- Marta\n",
            "\n",
            "\n",
            "--- Generación de Reporte ---\n",
            "--- REPORTE ---\n",
            "Nombre: Informe Mensual\n",
            "Fecha: 2025-05-28\n",
            "Departamento: Ventas\n",
            "Total ventas: 150000\n",
            "Estado: Finalizado\n",
            "---------------\n",
            "\n",
            "\n",
            "--- REPORTE ---\n",
            "Producto: Laptop\n",
            "Precio: 1200\n",
            "Stock disponible: 50\n",
            "---------------\n",
            "\n",
            "\n",
            "--- REPORTE ---\n",
            "No hay datos para generar el reporte.\n",
            "---------------\n",
            "\n",
            "\n",
            "--- Concatenación de Textos ---\n",
            "Texto unificado: esto-es-una-prueba\n"
          ]
        }
      ]
    },
    {
      "cell_type": "markdown",
      "source": [
        "## 6. Storing Functions in Modules"
      ],
      "metadata": {
        "id": "jtSzw0j4WDO1"
      }
    },
    {
      "cell_type": "markdown",
      "source": [
        "- Guardar funciones en archivos .py permite modularidad y reutilización.\n",
        "- Luego se importa el archivo usando 'import'."
      ],
      "metadata": {
        "id": "x92n04kVWFvb"
      }
    },
    {
      "cell_type": "markdown",
      "source": [
        "**Ejemplo (módulo: utilidades.py):**"
      ],
      "metadata": {
        "id": "m0OytKHeWKpG"
      }
    },
    {
      "cell_type": "code",
      "source": [
        "# def saludar():\n",
        "#     print(\"Hola desde utilidades\")\n",
        "#\n",
        "# En main.py:\n",
        "# import utilidades\n",
        "# utilidades.saludar()\n",
        "\n",
        "from auxFuns import es_primo"
      ],
      "metadata": {
        "id": "TvpqNFZrWIql",
        "outputId": "b28b1dcb-798b-4c2c-f991-12414322e77e",
        "colab": {
          "base_uri": "https://localhost:8080/",
          "height": 349
        }
      },
      "execution_count": 25,
      "outputs": [
        {
          "output_type": "error",
          "ename": "ModuleNotFoundError",
          "evalue": "No module named 'auxFuns'",
          "traceback": [
            "\u001b[0;31m---------------------------------------------------------------------------\u001b[0m",
            "\u001b[0;31mModuleNotFoundError\u001b[0m                       Traceback (most recent call last)",
            "\u001b[0;32m<ipython-input-25-d0cda3ae5135>\u001b[0m in \u001b[0;36m<cell line: 0>\u001b[0;34m()\u001b[0m\n\u001b[1;32m      6\u001b[0m \u001b[0;31m# utilidades.saludar()\u001b[0m\u001b[0;34m\u001b[0m\u001b[0;34m\u001b[0m\u001b[0m\n\u001b[1;32m      7\u001b[0m \u001b[0;34m\u001b[0m\u001b[0m\n\u001b[0;32m----> 8\u001b[0;31m \u001b[0;32mfrom\u001b[0m \u001b[0mauxFuns\u001b[0m \u001b[0;32mimport\u001b[0m \u001b[0mes_primo\u001b[0m\u001b[0;34m\u001b[0m\u001b[0;34m\u001b[0m\u001b[0m\n\u001b[0m",
            "\u001b[0;31mModuleNotFoundError\u001b[0m: No module named 'auxFuns'",
            "",
            "\u001b[0;31m---------------------------------------------------------------------------\u001b[0;32m\nNOTE: If your import is failing due to a missing package, you can\nmanually install dependencies using either !pip or !apt.\n\nTo view examples of installing some common dependencies, click the\n\"Open Examples\" button below.\n\u001b[0;31m---------------------------------------------------------------------------\u001b[0m\n"
          ],
          "errorDetails": {
            "actions": [
              {
                "action": "open_url",
                "actionText": "Open Examples",
                "url": "/notebooks/snippets/importing_libraries.ipynb"
              }
            ]
          }
        }
      ]
    },
    {
      "cell_type": "markdown",
      "source": [
        "**Ejercicios:**\n",
        "\n",
        "1. Crea un módulo 'texto_utils.py' con funciones para contar palabras, quitar tildes y convertir a minúsculas.\n",
        "\n",
        "2. Crea un módulo 'calculadora.py' con funciones básicas y una función especial: factorial.\n",
        "\n",
        "3. Importa y usa ambos módulos en un script principal."
      ],
      "metadata": {
        "id": "x8q9ucUCWP0Q"
      }
    },
    {
      "cell_type": "code",
      "source": [],
      "metadata": {
        "id": "85vCyvMOWOsT"
      },
      "execution_count": null,
      "outputs": []
    },
    {
      "cell_type": "markdown",
      "source": [
        "# Clases"
      ],
      "metadata": {
        "id": "7l-hr6DcWgdN"
      }
    },
    {
      "cell_type": "markdown",
      "source": [
        "## 1. Creating and Using a Class"
      ],
      "metadata": {
        "id": "9Sl8DOmmXMaw"
      }
    },
    {
      "cell_type": "markdown",
      "source": [
        "- Las clases son plantillas para crear objetos.\n",
        "- Usan __init__() para inicializar atributos."
      ],
      "metadata": {
        "id": "PnfwiJaaXOqM"
      }
    },
    {
      "cell_type": "markdown",
      "source": [
        "**Ejemplo:**\n"
      ],
      "metadata": {
        "id": "E1P_UQ6YXQhz"
      }
    },
    {
      "cell_type": "code",
      "source": [
        "class Persona:\n",
        "    def __init__(self, nombre, edad):\n",
        "        self.nombre = nombre\n",
        "        self.edad = edad\n",
        "\n",
        "    def saludar(self):\n",
        "        print(f\"Hola, soy {self.nombre} y tengo {self.edad} años.\")\n",
        "\n",
        "persona1= Persona(\"Juan\", 28)\n",
        "persona1.saludar()"
      ],
      "metadata": {
        "id": "FxZIxKxXXTbu",
        "outputId": "8b32f91a-7e7b-401d-afb0-9aa4395a75a1",
        "colab": {
          "base_uri": "https://localhost:8080/"
        }
      },
      "execution_count": 29,
      "outputs": [
        {
          "output_type": "stream",
          "name": "stdout",
          "text": [
            "Hola, soy Juan y tengo 28 años.\n"
          ]
        }
      ]
    },
    {
      "cell_type": "markdown",
      "source": [
        "**Ejercicios:**\n",
        "\n",
        "1. Crea la clase 'Libro' con atributos titulo, autor y año.\n",
        "\n",
        "2. Crea 'CuentaBancaria' con saldo inicial y métodos para depositar y retirar.\n",
        "\n",
        "3. Define 'Pelicula' con método 'resumen()' que imprima una sinopsis."
      ],
      "metadata": {
        "id": "ylthqvSRXVtQ"
      }
    },
    {
      "cell_type": "code",
      "source": [
        "class Libro:\n",
        "    def __init__(self, titulo, autor, año):\n",
        "        self.titulo = titulo\n",
        "        self.autor = autor\n",
        "        self.año = año\n",
        "\n",
        "    def mostrar_informacion(self):\n",
        "        print(f\"Título: {self.titulo}\")\n",
        "        print(f\"Autor: {self.autor}\")\n",
        "        print(f\"Año: {self.año}\")\n",
        "\n",
        "libro= Libro(\"El Principito\", \"Antoine de Saint-Exupéry\", 1943)\n",
        "libro.mostrar_informacion()"
      ],
      "metadata": {
        "id": "C_tqThPaXasA",
        "outputId": "bba66c71-372b-4b83-d7fe-eb1e4f0b4fbe",
        "colab": {
          "base_uri": "https://localhost:8080/"
        }
      },
      "execution_count": 30,
      "outputs": [
        {
          "output_type": "stream",
          "name": "stdout",
          "text": [
            "Título: El Principito\n",
            "Autor: Antoine de Saint-Exupéry\n",
            "Año: 1943\n"
          ]
        }
      ]
    },
    {
      "cell_type": "markdown",
      "source": [
        "## 2. Working with Classes and Instances"
      ],
      "metadata": {
        "id": "mtIfxNHdXbnl"
      }
    },
    {
      "cell_type": "markdown",
      "source": [
        "- Cada objeto instanciado es independiente.\n",
        "- Puedes modificar atributos directamente o con métodos."
      ],
      "metadata": {
        "id": "L16QES7wXeqt"
      }
    },
    {
      "cell_type": "markdown",
      "source": [
        "**Ejemplo:**\n"
      ],
      "metadata": {
        "id": "8OxEe0U2XhhR"
      }
    },
    {
      "cell_type": "code",
      "source": [
        "juan = Persona(\"Juan\", 28)\n",
        "juan.saludar()"
      ],
      "metadata": {
        "id": "Wv8s90KeXjsA"
      },
      "execution_count": null,
      "outputs": []
    },
    {
      "cell_type": "markdown",
      "source": [
        "**Ejercicios:**\n",
        "\n",
        "1. Crea múltiples instancias de una clase 'Jugador' y cámbiales puntaje.\n",
        "\n",
        "2. Añade un método 'actualizar_email' a una clase 'Usuario'.\n",
        "\n",
        "3. Añade método 'subir_nivel()' que incremente un atributo nivel."
      ],
      "metadata": {
        "id": "tcnWv2HXXkPZ"
      }
    },
    {
      "cell_type": "code",
      "source": [],
      "metadata": {
        "id": "5sRPt7_5Xq4C"
      },
      "execution_count": null,
      "outputs": []
    },
    {
      "cell_type": "markdown",
      "source": [
        "## 3. Inheritance"
      ],
      "metadata": {
        "id": "oIg5A5egXrPJ"
      }
    },
    {
      "cell_type": "markdown",
      "source": [
        "- Las clases pueden heredar atributos y métodos de otras.\n",
        "- La subclase puede extender o sobreescribir métodos."
      ],
      "metadata": {
        "id": "Cz1HHIqBXt9b"
      }
    },
    {
      "cell_type": "markdown",
      "source": [
        "**Ejemplo:**"
      ],
      "metadata": {
        "id": "5-m40bQOXwaI"
      }
    },
    {
      "cell_type": "code",
      "source": [
        "class Animal:\n",
        "    def __init__(self, especie):\n",
        "        self.especie = especie\n",
        "\n",
        "    def hablar(self):\n",
        "        print(\"Este animal hace un sonido\")\n",
        "\n",
        "class Perro(Animal):\n",
        "    def hablar(self):\n",
        "        print(\"Guau\")"
      ],
      "metadata": {
        "id": "5EPTKxOsXukH"
      },
      "execution_count": null,
      "outputs": []
    },
    {
      "cell_type": "markdown",
      "source": [
        "**Ejercicios:**\n",
        "\n",
        "1. Crea 'Empleado' y 'Gerente' que herede e incluya equipo a cargo.\n",
        "\n",
        "2. Crea 'Vehiculo' y subclases 'Auto', 'Moto', con métodos específicos.\n",
        "\n",
        "3. 'Cuenta' y subclases 'CuentaAhorro', 'CuentaCorriente' con comisiones."
      ],
      "metadata": {
        "id": "zuD1o50LX2ao"
      }
    },
    {
      "cell_type": "code",
      "source": [],
      "metadata": {
        "id": "qx2aPbmQX54_"
      },
      "execution_count": null,
      "outputs": []
    },
    {
      "cell_type": "markdown",
      "source": [
        "## 4. Importing Classes"
      ],
      "metadata": {
        "id": "S316TViTX-kr"
      }
    },
    {
      "cell_type": "markdown",
      "source": [
        "- Puedes importar clases específicas con 'from modulo import Clase'.\n"
      ],
      "metadata": {
        "id": "M2CBMnsjYAt_"
      }
    },
    {
      "cell_type": "markdown",
      "source": [
        "**Ejemplo:**\n",
        "\n",
        "from persona import Persona\n"
      ],
      "metadata": {
        "id": "vezz8XZhYELW"
      }
    },
    {
      "cell_type": "markdown",
      "source": [
        "**Ejercicios:**\n",
        "\n",
        "1. Guarda tu clase 'Libro' en un archivo y úsala desde otro script.\n",
        "\n",
        "2. Importa múltiples clases desde un solo módulo.\n",
        "\n",
        "3. Reorganiza tu código en paquetes (carpetas con __init__.py)."
      ],
      "metadata": {
        "id": "J42HjMtBYGov"
      }
    },
    {
      "cell_type": "code",
      "source": [],
      "metadata": {
        "id": "qAyHLysLYQKS"
      },
      "execution_count": null,
      "outputs": []
    },
    {
      "cell_type": "markdown",
      "source": [
        "## 5. The Python Standard Library\n"
      ],
      "metadata": {
        "id": "EIQGzTKYYWJN"
      }
    },
    {
      "cell_type": "markdown",
      "source": [
        "- La biblioteca estándar incluye módulos como random, datetime, os, math.\n"
      ],
      "metadata": {
        "id": "eNPMxa25YZIu"
      }
    },
    {
      "cell_type": "markdown",
      "source": [
        "**Ejemplo:**\n",
        "\n"
      ],
      "metadata": {
        "id": "2CyC8dUKYdaI"
      }
    },
    {
      "cell_type": "code",
      "source": [
        "import random\n",
        "print(random.randint(1, 10))"
      ],
      "metadata": {
        "id": "0NHr99hBYlO-"
      },
      "execution_count": null,
      "outputs": []
    },
    {
      "cell_type": "markdown",
      "source": [
        "**Ejercicios:**\n",
        "\n",
        "1. Usa datetime para imprimir la fecha de nacimiento a partir de edad.\n",
        "\n",
        "2. Usa os para listar todos los archivos de un directorio.\n",
        "\n",
        "3. Usa math para resolver la fórmula cuadrática."
      ],
      "metadata": {
        "id": "GSddpGVvYfB9"
      }
    },
    {
      "cell_type": "markdown",
      "source": [
        "---\n",
        "\n",
        "# Gracias por completar este laboratorio!\n",
        "\n",
        "---\n"
      ],
      "metadata": {
        "id": "AFdUbz_9XDVM"
      }
    }
  ]
}