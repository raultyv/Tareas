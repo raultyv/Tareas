{
  "nbformat": 4,
  "nbformat_minor": 0,
  "metadata": {
    "colab": {
      "provenance": [],
      "include_colab_link": true
    },
    "kernelspec": {
      "name": "python3",
      "display_name": "Python 3"
    },
    "language_info": {
      "name": "python"
    }
  },
  "cells": [
    {
      "cell_type": "markdown",
      "metadata": {
        "id": "view-in-github",
        "colab_type": "text"
      },
      "source": [
        "<a href=\"https://colab.research.google.com/github/raultyv/Tareas/blob/main/manejo_de_archivos_modulos_y_paquetes_LAB.ipynb\" target=\"_parent\"><img src=\"https://colab.research.google.com/assets/colab-badge.svg\" alt=\"Open In Colab\"/></a>"
      ]
    },
    {
      "cell_type": "markdown",
      "source": [
        "<img src=\"https://posgrado.utec.edu.pe/sites/default/files/2023-08/Testimonial-home-2.jpg\" alt=\"HTML5 Icon\" width=\"900\" height=\"250\" >\n"
      ],
      "metadata": {
        "id": "VpH7sAoVTmos"
      }
    },
    {
      "cell_type": "markdown",
      "source": [
        "# **Funciones y Clases**"
      ],
      "metadata": {
        "id": "Y7FbnZbKTpRn"
      }
    },
    {
      "cell_type": "markdown",
      "source": [
        "**Objetivo**\n",
        "\n",
        "Consolidar los conocimientos sobre funciones y clases en Python, mediante el desarrollo de teoría, ejemplos guiados y ejercicios retadores. Al finalizar, serás capaz de:\n",
        "\n",
        "1. Comprender qué son las funciones, cómo se definen y cómo se utilizan.\n",
        "2. Usar distintos tipos de argumentos (posicionales, por nombre, arbitrarios).\n",
        "3. Retornar valores simples o compuestos desde una función.\n",
        "4. Aplicar funciones sobre listas y modularizar código en módulos.\n",
        "5. Documentar y estructurar funciones siguiendo buenas prácticas de estilo.\n",
        "6. Crear clases, instanciar objetos, y trabajar con atributos y métodos.\n",
        "7. Aplicar principios de herencia y reutilización de código en clases.\n",
        "8. Utilizar la biblioteca estándar de Python y organizar clases en módulos."
      ],
      "metadata": {
        "id": "34pdCtM-T-QQ"
      }
    },
    {
      "cell_type": "markdown",
      "source": [
        "# Funciones"
      ],
      "metadata": {
        "id": "aLMAo_QGWh_5"
      }
    },
    {
      "cell_type": "markdown",
      "source": [
        "## 1. Defining a Function"
      ],
      "metadata": {
        "id": "u5oSkRxxTwLx"
      }
    },
    {
      "cell_type": "markdown",
      "source": [
        "- Las funciones encapsulan código reutilizable.\n",
        "- Se definen usando 'def' seguido de un nombre y paréntesis.\n",
        "- El cuerpo debe estar indentado."
      ],
      "metadata": {
        "id": "rMx8aaViUPkk"
      }
    },
    {
      "cell_type": "markdown",
      "source": [
        "**Ejemplo:**\n"
      ],
      "metadata": {
        "id": "dHTMVPmOUSIV"
      }
    },
    {
      "cell_type": "code",
      "execution_count": null,
      "metadata": {
        "id": "ONvTKb-GThia"
      },
      "outputs": [],
      "source": [
        "def saludar():\n",
        "    print(\"Bienvenido al laboratorio de funciones.\")\n"
      ]
    },
    {
      "cell_type": "markdown",
      "source": [
        "**Ejercicios:**\n",
        "\n",
        "1. Crea una función 'mostrar_menu()' que imprima un menú con 3 opciones.\n",
        "\n",
        "2. Define una función 'mensaje_diario()' que imprima una frase aleatoria de motivación.\n",
        "\n",
        "3. Crea una función 'borde_decorativo()' que imprima una cadena rodeada de asteriscos."
      ],
      "metadata": {
        "id": "JIvRAXycUX7u"
      }
    },
    {
      "cell_type": "code",
      "source": [],
      "metadata": {
        "id": "M6EZHQLLUl0t"
      },
      "execution_count": null,
      "outputs": []
    },
    {
      "cell_type": "markdown",
      "source": [
        "## 2. Passing Arguments"
      ],
      "metadata": {
        "id": "wMZPUnXIUljj"
      }
    },
    {
      "cell_type": "markdown",
      "source": [
        "- Puedes pasar información a las funciones mediante parámetros.\n",
        "- Argumentos posicionales: el orden importa.\n",
        "- Argumentos por nombre (keyword arguments): más claros y seguros."
      ],
      "metadata": {
        "id": "gqKGi2gtUp_O"
      }
    },
    {
      "cell_type": "markdown",
      "source": [
        "**Ejemplo:**"
      ],
      "metadata": {
        "id": "gJ9SfvF8Ur7M"
      }
    },
    {
      "cell_type": "code",
      "source": [
        "def presentar(nombre, edad):\n",
        "    print(f\"Hola, soy {nombre} y tengo {edad} años.\")"
      ],
      "metadata": {
        "id": "L6a58TgAUtFJ"
      },
      "execution_count": null,
      "outputs": []
    },
    {
      "cell_type": "markdown",
      "source": [
        "**Ejercicios:**\n",
        "\n",
        "1. Define 'calcular_impuesto(monto, tasa)' que retorne el impuesto total.\n",
        "\n",
        "2. Crea 'evaluar_puntaje(nombre, puntaje)' que imprima si aprueba (>=12) o no.\n",
        "\n",
        "3. Escribe 'detallar_producto(nombre, precio, stock)' que imprima un resumen."
      ],
      "metadata": {
        "id": "vyHEcaizVBi7"
      }
    },
    {
      "cell_type": "code",
      "source": [],
      "metadata": {
        "id": "vlOv7cpSVOCO"
      },
      "execution_count": null,
      "outputs": []
    },
    {
      "cell_type": "markdown",
      "source": [
        "## 3. Return Values"
      ],
      "metadata": {
        "id": "fyNSml7GVP1Y"
      }
    },
    {
      "cell_type": "markdown",
      "source": [
        "- Las funciones pueden devolver valores con 'return'.\n",
        "- Es útil para guardar o reutilizar resultados."
      ],
      "metadata": {
        "id": "VkdpHBVfVTH1"
      }
    },
    {
      "cell_type": "markdown",
      "source": [
        "**Ejemplo:**\n"
      ],
      "metadata": {
        "id": "4xZ4orNzVVBT"
      }
    },
    {
      "cell_type": "code",
      "source": [
        "def cuadrado(numero):\n",
        "    return numero ** 2"
      ],
      "metadata": {
        "id": "-bVDPbECVWaa"
      },
      "execution_count": null,
      "outputs": []
    },
    {
      "cell_type": "markdown",
      "source": [
        "**Ejercicios:**\n",
        "\n",
        "1. 'diferencia_absoluta(a, b)' que retorne el valor absoluto de su diferencia.\n",
        "\n",
        "2. 'comparar_cadenas(cad1, cad2)' que retorne True si tienen la misma longitud.\n",
        "\n",
        "3. 'es_primo(n)' que retorne True si el número es primo."
      ],
      "metadata": {
        "id": "tlMLYSgJVZ0b"
      }
    },
    {
      "cell_type": "code",
      "source": [],
      "metadata": {
        "id": "jwdBX6VeVhVL"
      },
      "execution_count": null,
      "outputs": []
    },
    {
      "cell_type": "markdown",
      "source": [
        "## 4. Passing a List"
      ],
      "metadata": {
        "id": "pltHrWQ9Vg8k"
      }
    },
    {
      "cell_type": "markdown",
      "source": [
        "- Las funciones pueden recibir listas para iterar, modificar o procesar.\n"
      ],
      "metadata": {
        "id": "jtrh3ce9Vjze"
      }
    },
    {
      "cell_type": "markdown",
      "source": [
        "**Ejemplo:**"
      ],
      "metadata": {
        "id": "uqslCsi8VnkE"
      }
    },
    {
      "cell_type": "code",
      "source": [
        "def imprimir_nombres(lista):\n",
        "    for nombre in lista:\n",
        "        print(f\"- {nombre}\")"
      ],
      "metadata": {
        "id": "quUt25oSVmwn"
      },
      "execution_count": null,
      "outputs": []
    },
    {
      "cell_type": "markdown",
      "source": [
        "**Ejercicios:**\n",
        "\n",
        "1. 'invertir_lista(lista)' que retorne la lista invertida.\n",
        "\n",
        "2. 'sumar_pares(lista)' que sume solo los números pares.\n",
        "\n",
        "3. 'normalizar_textos(lista)' que convierta todo texto a minúsculas y sin espacios."
      ],
      "metadata": {
        "id": "IsvUCmvvVrAh"
      }
    },
    {
      "cell_type": "markdown",
      "source": [
        "## 5. Passing Arbitrary Number of Arguments\n"
      ],
      "metadata": {
        "id": "d8BRZt95VyWp"
      }
    },
    {
      "cell_type": "markdown",
      "source": [
        "- *args permite recibir cualquier número de argumentos posicionales.\n",
        "- **kwargs permite recibir pares clave-valor (keyword args)."
      ],
      "metadata": {
        "id": "kKvjnskFV09D"
      }
    },
    {
      "cell_type": "markdown",
      "source": [
        "**Ejemplo:**"
      ],
      "metadata": {
        "id": "1OUZd86jV3Bd"
      }
    },
    {
      "cell_type": "code",
      "source": [
        "def sumar_todo(*numeros):\n",
        "    return sum(numeros)"
      ],
      "metadata": {
        "id": "vDW2boqYV4Wo"
      },
      "execution_count": null,
      "outputs": []
    },
    {
      "cell_type": "markdown",
      "source": [
        "**Ejercicios:**\n",
        "\n",
        "1. 'registrar_evento(nombre, *participantes)' que imprima el evento y los asistentes.\n",
        "\n",
        "2. 'generar_reporte(**datos)' que imprima claves y valores con formato.\n",
        "\n",
        "3. 'concatenar_textos(*cadenas)' que retorne el texto unificado, separado por guiones."
      ],
      "metadata": {
        "id": "_mXSkDMEV8UN"
      }
    },
    {
      "cell_type": "code",
      "source": [],
      "metadata": {
        "id": "aKkaSEnfWAWR"
      },
      "execution_count": null,
      "outputs": []
    },
    {
      "cell_type": "markdown",
      "source": [
        "## 6. Storing Functions in Modules"
      ],
      "metadata": {
        "id": "jtSzw0j4WDO1"
      }
    },
    {
      "cell_type": "markdown",
      "source": [
        "- Guardar funciones en archivos .py permite modularidad y reutilización.\n",
        "- Luego se importa el archivo usando 'import'."
      ],
      "metadata": {
        "id": "x92n04kVWFvb"
      }
    },
    {
      "cell_type": "markdown",
      "source": [
        "**Ejemplo (módulo: utilidades.py):**"
      ],
      "metadata": {
        "id": "m0OytKHeWKpG"
      }
    },
    {
      "cell_type": "code",
      "source": [
        "# def saludar():\n",
        "#     print(\"Hola desde utilidades\")\n",
        "#\n",
        "# En main.py:\n",
        "# import utilidades\n",
        "# utilidades.saludar()"
      ],
      "metadata": {
        "id": "TvpqNFZrWIql"
      },
      "execution_count": null,
      "outputs": []
    },
    {
      "cell_type": "markdown",
      "source": [
        "**Ejercicios:**\n",
        "\n",
        "1. Crea un módulo 'texto_utils.py' con funciones para contar palabras, quitar tildes y convertir a minúsculas.\n",
        "\n",
        "2. Crea un módulo 'calculadora.py' con funciones básicas y una función especial: factorial.\n",
        "\n",
        "3. Importa y usa ambos módulos en un script principal."
      ],
      "metadata": {
        "id": "x8q9ucUCWP0Q"
      }
    },
    {
      "cell_type": "code",
      "source": [],
      "metadata": {
        "id": "85vCyvMOWOsT"
      },
      "execution_count": null,
      "outputs": []
    },
    {
      "cell_type": "markdown",
      "source": [
        "# Clases"
      ],
      "metadata": {
        "id": "7l-hr6DcWgdN"
      }
    },
    {
      "cell_type": "markdown",
      "source": [
        "## 1. Creating and Using a Class"
      ],
      "metadata": {
        "id": "9Sl8DOmmXMaw"
      }
    },
    {
      "cell_type": "markdown",
      "source": [
        "- Las clases son plantillas para crear objetos.\n",
        "- Usan __init__() para inicializar atributos."
      ],
      "metadata": {
        "id": "PnfwiJaaXOqM"
      }
    },
    {
      "cell_type": "markdown",
      "source": [
        "**Ejemplo:**\n"
      ],
      "metadata": {
        "id": "E1P_UQ6YXQhz"
      }
    },
    {
      "cell_type": "code",
      "source": [
        "class Persona:\n",
        "    def __init__(self, nombre, edad):\n",
        "        self.nombre = nombre\n",
        "        self.edad = edad\n",
        "\n",
        "    def saludar(self):\n",
        "        print(f\"Hola, soy {self.nombre}.\")"
      ],
      "metadata": {
        "id": "FxZIxKxXXTbu"
      },
      "execution_count": null,
      "outputs": []
    },
    {
      "cell_type": "markdown",
      "source": [
        "**Ejercicios:**\n",
        "\n",
        "1. Crea la clase 'Libro' con atributos titulo, autor y año.\n",
        "\n",
        "2. Crea 'CuentaBancaria' con saldo inicial y métodos para depositar y retirar.\n",
        "\n",
        "3. Define 'Pelicula' con método 'resumen()' que imprima una sinopsis."
      ],
      "metadata": {
        "id": "ylthqvSRXVtQ"
      }
    },
    {
      "cell_type": "code",
      "source": [],
      "metadata": {
        "id": "C_tqThPaXasA"
      },
      "execution_count": null,
      "outputs": []
    },
    {
      "cell_type": "markdown",
      "source": [
        "## 2. Working with Classes and Instances"
      ],
      "metadata": {
        "id": "mtIfxNHdXbnl"
      }
    },
    {
      "cell_type": "markdown",
      "source": [
        "- Cada objeto instanciado es independiente.\n",
        "- Puedes modificar atributos directamente o con métodos."
      ],
      "metadata": {
        "id": "L16QES7wXeqt"
      }
    },
    {
      "cell_type": "markdown",
      "source": [
        "**Ejemplo:**\n"
      ],
      "metadata": {
        "id": "8OxEe0U2XhhR"
      }
    },
    {
      "cell_type": "code",
      "source": [
        "juan = Persona(\"Juan\", 28)\n",
        "juan.saludar()"
      ],
      "metadata": {
        "id": "Wv8s90KeXjsA"
      },
      "execution_count": null,
      "outputs": []
    },
    {
      "cell_type": "markdown",
      "source": [
        "**Ejercicios:**\n",
        "\n",
        "1. Crea múltiples instancias de una clase 'Jugador' y cámbiales puntaje.\n",
        "\n",
        "2. Añade un método 'actualizar_email' a una clase 'Usuario'.\n",
        "\n",
        "3. Añade método 'subir_nivel()' que incremente un atributo nivel."
      ],
      "metadata": {
        "id": "tcnWv2HXXkPZ"
      }
    },
    {
      "cell_type": "code",
      "source": [],
      "metadata": {
        "id": "5sRPt7_5Xq4C"
      },
      "execution_count": null,
      "outputs": []
    },
    {
      "cell_type": "markdown",
      "source": [
        "## 3. Inheritance"
      ],
      "metadata": {
        "id": "oIg5A5egXrPJ"
      }
    },
    {
      "cell_type": "markdown",
      "source": [
        "- Las clases pueden heredar atributos y métodos de otras.\n",
        "- La subclase puede extender o sobreescribir métodos."
      ],
      "metadata": {
        "id": "Cz1HHIqBXt9b"
      }
    },
    {
      "cell_type": "markdown",
      "source": [
        "**Ejemplo:**"
      ],
      "metadata": {
        "id": "5-m40bQOXwaI"
      }
    },
    {
      "cell_type": "code",
      "source": [
        "class Animal:\n",
        "    def __init__(self, especie):\n",
        "        self.especie = especie\n",
        "\n",
        "    def hablar(self):\n",
        "        print(\"Este animal hace un sonido\")\n",
        "\n",
        "class Perro(Animal):\n",
        "    def hablar(self):\n",
        "        print(\"Guau\")"
      ],
      "metadata": {
        "id": "5EPTKxOsXukH"
      },
      "execution_count": null,
      "outputs": []
    },
    {
      "cell_type": "markdown",
      "source": [
        "**Ejercicios:**\n",
        "\n",
        "1. Crea 'Empleado' y 'Gerente' que herede e incluya equipo a cargo.\n",
        "\n",
        "2. Crea 'Vehiculo' y subclases 'Auto', 'Moto', con métodos específicos.\n",
        "\n",
        "3. 'Cuenta' y subclases 'CuentaAhorro', 'CuentaCorriente' con comisiones."
      ],
      "metadata": {
        "id": "zuD1o50LX2ao"
      }
    },
    {
      "cell_type": "code",
      "source": [],
      "metadata": {
        "id": "qx2aPbmQX54_"
      },
      "execution_count": null,
      "outputs": []
    },
    {
      "cell_type": "markdown",
      "source": [
        "## 4. Importing Classes"
      ],
      "metadata": {
        "id": "S316TViTX-kr"
      }
    },
    {
      "cell_type": "markdown",
      "source": [
        "- Puedes importar clases específicas con 'from modulo import Clase'.\n"
      ],
      "metadata": {
        "id": "M2CBMnsjYAt_"
      }
    },
    {
      "cell_type": "markdown",
      "source": [
        "**Ejemplo:**\n",
        "\n",
        "from persona import Persona\n"
      ],
      "metadata": {
        "id": "vezz8XZhYELW"
      }
    },
    {
      "cell_type": "markdown",
      "source": [
        "**Ejercicios:**\n",
        "\n",
        "1. Guarda tu clase 'Libro' en un archivo y úsala desde otro script.\n",
        "\n",
        "2. Importa múltiples clases desde un solo módulo.\n",
        "\n",
        "3. Reorganiza tu código en paquetes (carpetas con __init__.py)."
      ],
      "metadata": {
        "id": "J42HjMtBYGov"
      }
    },
    {
      "cell_type": "code",
      "source": [],
      "metadata": {
        "id": "qAyHLysLYQKS"
      },
      "execution_count": null,
      "outputs": []
    },
    {
      "cell_type": "markdown",
      "source": [
        "## 5. The Python Standard Library\n"
      ],
      "metadata": {
        "id": "EIQGzTKYYWJN"
      }
    },
    {
      "cell_type": "markdown",
      "source": [
        "- La biblioteca estándar incluye módulos como random, datetime, os, math.\n"
      ],
      "metadata": {
        "id": "eNPMxa25YZIu"
      }
    },
    {
      "cell_type": "markdown",
      "source": [
        "**Ejemplo:**\n",
        "\n"
      ],
      "metadata": {
        "id": "2CyC8dUKYdaI"
      }
    },
    {
      "cell_type": "code",
      "source": [
        "import random\n",
        "print(random.randint(1, 10))"
      ],
      "metadata": {
        "id": "0NHr99hBYlO-"
      },
      "execution_count": null,
      "outputs": []
    },
    {
      "cell_type": "markdown",
      "source": [
        "**Ejercicios:**\n",
        "\n",
        "1. Usa datetime para imprimir la fecha de nacimiento a partir de edad.\n",
        "\n",
        "2. Usa os para listar todos los archivos de un directorio.\n",
        "\n",
        "3. Usa math para resolver la fórmula cuadrática."
      ],
      "metadata": {
        "id": "GSddpGVvYfB9"
      }
    },
    {
      "cell_type": "markdown",
      "source": [
        "---\n",
        "\n",
        "# Gracias por completar este laboratorio!\n",
        "\n",
        "---\n"
      ],
      "metadata": {
        "id": "AFdUbz_9XDVM"
      }
    }
  ]
}