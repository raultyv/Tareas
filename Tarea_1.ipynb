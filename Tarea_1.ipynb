{
  "nbformat": 4,
  "nbformat_minor": 0,
  "metadata": {
    "colab": {
      "provenance": [],
      "authorship_tag": "ABX9TyONiIaLkBr57h/sQ4f3QHFU",
      "include_colab_link": true
    },
    "kernelspec": {
      "name": "python3",
      "display_name": "Python 3"
    },
    "language_info": {
      "name": "python"
    }
  },
  "cells": [
    {
      "cell_type": "markdown",
      "metadata": {
        "id": "view-in-github",
        "colab_type": "text"
      },
      "source": [
        "<a href=\"https://colab.research.google.com/github/raultyv/Tareas/blob/main/Tarea_1.ipynb\" target=\"_parent\"><img src=\"https://colab.research.google.com/assets/colab-badge.svg\" alt=\"Open In Colab\"/></a>"
      ]
    },
    {
      "cell_type": "code",
      "execution_count": null,
      "metadata": {
        "id": "AImUvZAD9usM"
      },
      "outputs": [],
      "source": [
        "###############################################################################\n",
        "#Ejercicio 1: Calculadora de ahorro semanal\n",
        "#Pide al usuario cuánto dinero ahorra cada día de lunes a domingo. Al final, muestra cuánto ahorró en total esa semana y cuánto tendría en un mes si repite el mismo patrón cada semana.\n",
        "###############################################################################\n",
        "\n",
        "## INICIO DE CÓDIGO\n",
        "print(\"¿Cuanto ganas al mes\")\n",
        "total_ganado_mensual = float(input()) #para determinar al final el % total  de ahorro mensual\n",
        "print(\"Ahora coloca tus ahorros por dia\")\n",
        "fin=False #condicion para terminar el bucle\n",
        "while fin==False: # Changed = to == for comparison.\n",
        "    print(\"¿Cuanto ahorras los lunes?\")\n",
        "    ahorro_lunes= float(input()) #ahorro el lunes\n",
        "    print(\"¿Cuanto ahorras los martes?\")\n",
        "    ahorro_martes= float(input()) #ahorro el martes\n",
        "    print(\"¿Cuanto ahorras los miercoles?\")\n",
        "    ahorro_miercoles= float(input()) #ahorro el miercoles\n",
        "    print(\"¿Cuanto ahorras los jueves?\")\n",
        "    ahorro_jueves= float(input()) #ahorro el jueves\n",
        "    print(\"¿Cuanto ahorras los viernes?\")\n",
        "    ahorro_viernes= float(input()) #ahorro el viernes\n",
        "    print(\"¿Cuanto ahorras los sabados?\")\n",
        "    ahorro_sabado= float(input()) #ahorro el sabado\n",
        "    print(\"¿Cuanto ahorras los domingos?\")\n",
        "    ahorro_domingo= float(input()) #ahorro el domingo\n",
        "    print(\"Total ahorrado en la semana si mantienes ese ahorro diario\")\n",
        "    total_semana = ahorro_lunes + ahorro_martes + ahorro_miercoles + ahorro_jueves + ahorro_viernes + ahorro_sabado + ahorro_domingo #ahorro en la semana\n",
        "    print(total_semana) #total ahorrado en la semana segun tus entradas\n",
        "    print(\"Total ahorrado en el mes: \")\n",
        "    total_ahorro_mes = total_semana *4 #ahorro mensual si se sigue el mismo patron\n",
        "    print(total_ahorro_mes) # total de ahorro mensual segun tus entradas\n",
        "    if total_ahorro_mes > total_ganado_mensual:\n",
        "        print(\"Vuelve a recalcular tus ahorros\") # para volver a iniciar el bucle en caso se tengan entradas ilogicas.\n",
        "    else:\n",
        "        fin=True #finaliza el bucle si todas las entradas estan correctas\n",
        "\n",
        "print(\"Porcentaje ahorrado\")\n",
        "porcentaje_ahorro = (total_ahorro_mes/total_ganado_mensual) * 100 #respuesta en cantidad mensual\n",
        "print(\"En el mes has ahorrado: \"+str(int(porcentaje_ahorro))+\"%  de tu sueldo\") #respuesta en porcentaje de tu sueldo\n",
        "## FIN DE CÓDIGO\n",
        "\n",
        "################################################################################\n",
        "#Ejercicio 2: Conversor de segundos\n",
        "#Solicita una cantidad total de segundos y muestra cuántos minutos y segundos representa.\n",
        "################################################################################\n",
        "\n",
        "## INICIO DE CÓDIGO\n",
        "print(\"Indique el tiempo total en segundos\")\n",
        "seg=int(input()) #total de segundos\n",
        "print(\"Entonces \"+str(seg)+\" segundos equivalen a \")\n",
        "min=seg//60 #obtiene los minutos\n",
        "seg=seg%60 #el resto son segundos\n",
        "print(str(min)+\" minutos y \"+str(seg)+\" segundos\") #respuesta\n",
        "\n",
        "## FIN DE CÓDIGO\n",
        "\n"
      ]
    },
    {
      "cell_type": "code",
      "source": [
        "################################################################################\n",
        "#Ejercicio 3: Puntuación de juego\n",
        "#Un videojuego otorga:\n",
        "#\n",
        "#10 puntos por cada estrella recolectada,\n",
        "#50 puntos por cada gema recolectada, y\n",
        "#1 punto por cada segundo que el jugador se mantuvo vivo.\n",
        "#Pide al usuario las tres cantidades y muestra su puntaje total.\n",
        "################################################################################\n",
        "\n",
        "## INICIO DE CÓDIGO\n",
        "print(\"¿Cuantas estrellas has recolectado?\")\n",
        "est=int(input()) #total estrellas\n",
        "print(\"¿Cuantas gemas has recolectado?\")\n",
        "gem=int(input()) #total gemas\n",
        "print(\"¿Cuantos segundos has estado vivo?\")\n",
        "seg=int(input()) #total tiempo vivo\n",
        "puntaje_total=est*10+gem*50+seg #puntucion segun entradas\n",
        "print(\"Tu puntaje total es: \"+str(puntaje_total)+\" puntos\")  #respuesta\n",
        "\n",
        "\n",
        "## FIN DE CÓDIGO\n",
        "\n"
      ],
      "metadata": {
        "id": "kEK1tfKvEIdF"
      },
      "execution_count": null,
      "outputs": []
    },
    {
      "cell_type": "code",
      "source": [
        "################################################################################\n",
        "#Ejercicio 4: Conversor de monedas con tasa personalizada\n",
        "#Solicita al usuario:\n",
        "#El monto en soles\n",
        "#La tasa de cambio a dólares\n",
        "#Muestra el equivalente en dólares, redondeado a 2 decimales.\n",
        "################################################################################\n",
        "\n",
        "## INICIO DE CÓDIGO\n",
        "print(\"¿Cuantos soles deseas convertir a dolares?\")\n",
        "sol=float(input()) #coloca el total en soles\n",
        "print(\"¿Cual es la tasa de conversion actual?\")\n",
        "tas=float(input()) #actualiza la tasa de cambio\n",
        "print(\"Entonces \"+str(round(sol,2))+\" soles equivalen a \"+str(round(sol/tas,2))+\" dolares\") #respuesta\n",
        "\n",
        "## FIN DE CÓDIGO\n",
        "\n"
      ],
      "metadata": {
        "id": "_punK5KUFp7b"
      },
      "execution_count": null,
      "outputs": []
    },
    {
      "cell_type": "code",
      "source": [
        "################################################################################\n",
        "#Ejercicio 5: Costo compartido de viaje\n",
        "#Tres amigos hacen un viaje y pagan distintos montos:\n",
        "#\n",
        "#Ana pagó gasolina,\n",
        "#Luis pagó peajes,\n",
        "#Carla pagó comida.\n",
        "#Pide los tres montos, calcula el total y cuánto debería aportar cada uno para que paguen igual.\n",
        "################################################################################\n",
        "\n",
        "## INICIO DE CÓDIGO\n",
        "\n",
        "\n",
        "## FIN DE CÓDIGO\n",
        "\n",
        "\n"
      ],
      "metadata": {
        "id": "zDfH06alH0BJ"
      },
      "execution_count": null,
      "outputs": []
    },
    {
      "cell_type": "code",
      "source": [],
      "metadata": {
        "id": "SDIV3JQIHxYN"
      },
      "execution_count": null,
      "outputs": []
    }
  ]
}