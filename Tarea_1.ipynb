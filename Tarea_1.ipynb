{
  "nbformat": 4,
  "nbformat_minor": 0,
  "metadata": {
    "colab": {
      "provenance": [],
      "authorship_tag": "ABX9TyMhSnzPV9qSoB67pm1E3RfM",
      "include_colab_link": true
    },
    "kernelspec": {
      "name": "python3",
      "display_name": "Python 3"
    },
    "language_info": {
      "name": "python"
    }
  },
  "cells": [
    {
      "cell_type": "markdown",
      "metadata": {
        "id": "view-in-github",
        "colab_type": "text"
      },
      "source": [
        "<a href=\"https://colab.research.google.com/github/raultyv/Tareas/blob/main/Tarea_1.ipynb\" target=\"_parent\"><img src=\"https://colab.research.google.com/assets/colab-badge.svg\" alt=\"Open In Colab\"/></a>"
      ]
    },
    {
      "cell_type": "code",
      "execution_count": null,
      "metadata": {
        "id": "AImUvZAD9usM"
      },
      "outputs": [],
      "source": [
        "###############################################################################\n",
        "#Ejercicio 1: Calculadora de ahorro semanal\n",
        "#Pide al usuario cuánto dinero ahorra cada día de lunes a domingo. Al final, muestra cuánto ahorró en total esa semana y cuánto tendría en un mes si repite el mismo patrón cada semana.\n",
        "###############################################################################\n",
        "\n",
        "## INICIO DE CÓDIGO\n",
        "print(\"¿Cuanto ganas al mes\")\n",
        "total_ganado_mensual = float(input()) #para determinar al final el % total  de ahorro mensual\n",
        "print(\"Ahora coloca tus ahorros por dia\")\n",
        "fin=False #condicion para terminar el bucle\n",
        "while fin==False: # Changed = to == for comparison.\n",
        "    print(\"¿Cuanto ahorras los lunes?\")\n",
        "    ahorro_lunes= float(input()) #ahorro el lunes\n",
        "    print(\"¿Cuanto ahorras los martes?\")\n",
        "    ahorro_martes= float(input()) #ahorro el martes\n",
        "    print(\"¿Cuanto ahorras los miercoles?\")\n",
        "    ahorro_miercoles= float(input()) #ahorro el miercoles\n",
        "    print(\"¿Cuanto ahorras los jueves?\")\n",
        "    ahorro_jueves= float(input()) #ahorro el jueves\n",
        "    print(\"¿Cuanto ahorras los viernes?\")\n",
        "    ahorro_viernes= float(input()) #ahorro el viernes\n",
        "    print(\"¿Cuanto ahorras los sabados?\")\n",
        "    ahorro_sabado= float(input()) #ahorro el sabado\n",
        "    print(\"¿Cuanto ahorras los domingos?\")\n",
        "    ahorro_domingo= float(input()) #ahorro el domingo\n",
        "    print(\"Total ahorrado en la semana si mantienes ese ahorro diario\")\n",
        "    total_semana = ahorro_lunes + ahorro_martes + ahorro_miercoles + ahorro_jueves + ahorro_viernes + ahorro_sabado + ahorro_domingo #ahorro en la semana\n",
        "    print(total_semana) #total ahorrado en la semana segun tus entradas\n",
        "    print(\"Total ahorrado en el mes: \")\n",
        "    total_ahorro_mes = total_semana *4 #ahorro mensual si se sigue el mismo patron\n",
        "    print(total_ahorro_mes) # total de ahorro mensual segun tus entradas\n",
        "    if total_ahorro_mes > total_ganado_mensual:\n",
        "        print(\"Vuelve a recalcular tus ahorros\") # para volver a iniciar el bucle en caso se tengan entradas ilogicas.\n",
        "    else:\n",
        "        fin=True #finaliza el bucle si todas las entradas estan correctas\n",
        "\n",
        "print(\"Porcentaje ahorrado\")\n",
        "porcentaje_ahorro = (total_ahorro_mes/total_ganado_mensual) * 100\n",
        "print(\"En el mes has ahorrado: \"+str(int(porcentaje_ahorro))+\"%  de tu sueldo\")\n",
        "## FIN DE CÓDIGO\n",
        "\n",
        "################################################################################\n",
        "#Ejercicio 2: Conversor de segundos\n",
        "#Solicita una cantidad total de segundos y muestra cuántos minutos y segundos representa.\n",
        "################################################################################\n",
        "\n",
        "## INICIO DE CÓDIGO\n",
        "print(\"Indique el tiempo total en segundos\")\n",
        "seg=int(input())\n",
        "print(\"Entonces \"+str(seg)+\" segundos equivalen a \")\n",
        "min=seg//60\n",
        "seg=seg%60\n",
        "print(str(min)+\" minutos y \"+str(seg)+\" segundos\")\n",
        "\n",
        "## FIN DE CÓDIGO\n",
        "\n"
      ]
    }
  ]
}